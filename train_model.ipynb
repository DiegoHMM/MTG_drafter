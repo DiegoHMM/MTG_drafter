{
 "cells": [
  {
   "cell_type": "code",
   "execution_count": 1,
   "metadata": {
    "collapsed": true,
    "ExecuteTime": {
     "end_time": "2023-08-09T18:29:22.233360Z",
     "start_time": "2023-08-09T18:29:18.180654800Z"
    }
   },
   "outputs": [],
   "source": [
    "from utils.handle_data import get_integer_columns_and_dtype\n",
    "import pandas as pd\n",
    "import numpy as np\n",
    "import random\n",
    "import torch"
   ]
  },
  {
   "cell_type": "code",
   "execution_count": 2,
   "outputs": [],
   "source": [
    "#get data\n",
    "train_set = pd.read_csv('dataset/train_set.csv')\n",
    "val_set = pd.read_csv('dataset/val_set.csv')\n",
    "test_set = pd.read_csv('dataset/test_set.csv')"
   ],
   "metadata": {
    "collapsed": false,
    "ExecuteTime": {
     "end_time": "2023-08-09T18:30:59.729159900Z",
     "start_time": "2023-08-09T18:29:22.235361600Z"
    }
   }
  },
  {
   "cell_type": "code",
   "execution_count": 87,
   "outputs": [],
   "source": [
    "x_train = train_set.loc[:, train_set.columns.str.startswith('pack')]\n",
    "x_val = val_set.loc[:, val_set.columns.str.startswith('pack')]"
   ],
   "metadata": {
    "collapsed": false,
    "ExecuteTime": {
     "end_time": "2023-08-04T18:06:59.569471900Z",
     "start_time": "2023-08-04T18:06:58.698806500Z"
    }
   }
  },
  {
   "cell_type": "code",
   "execution_count": 88,
   "outputs": [
    {
     "data": {
      "text/plain": "   pack_card_Andúril, Flame of the West  pack_card_Aragorn, Company Leader  \\\n0                                     0                                  0   \n1                                     0                                  0   \n2                                     0                                  0   \n3                                     0                                  0   \n4                                     0                                  0   \n\n   pack_card_Aragorn, the Uniter  pack_card_Arwen Undómiel  \\\n0                              0                         0   \n1                              0                         0   \n2                              0                         0   \n3                              0                         0   \n4                              0                         0   \n\n   pack_card_Arwen's Gift  pack_card_Arwen, Mortal Queen  \\\n0                       0                              0   \n1                       1                              0   \n2                       0                              0   \n3                       0                              0   \n4                       0                              0   \n\n   pack_card_Bag End Porter  pack_card_Banish from Edoras  \\\n0                         0                             0   \n1                         0                             0   \n2                         0                             0   \n3                         0                             0   \n4                         1                             0   \n\n   pack_card_Barad-dûr  pack_card_Barrow-Blade  ...  pack_card_Willow-Wind  \\\n0                    0                       0  ...                      0   \n1                    0                       0  ...                      0   \n2                    0                       0  ...                      0   \n3                    0                       0  ...                      0   \n4                    0                       0  ...                      0   \n\n   pack_card_Witch-king of Angmar  pack_card_Wizard's Rockets  \\\n0                               0                           0   \n1                               0                           0   \n2                               0                           0   \n3                               0                           0   \n4                               0                           0   \n\n   pack_card_Wose Pathfinder  pack_card_You Cannot Pass!  \\\n0                          0                           0   \n1                          1                           0   \n2                          0                           0   \n3                          0                           0   \n4                          0                           0   \n\n   pack_card_Éomer of the Riddermark  pack_card_Éomer, Marshal of Rohan  \\\n0                                  0                                  0   \n1                                  0                                  0   \n2                                  0                                  0   \n3                                  0                                  0   \n4                                  0                                  0   \n\n   pack_card_Éowyn, Fearless Knight  pack_card_Éowyn, Lady of Rohan  \\\n0                                 0                               0   \n1                                 0                               0   \n2                                 0                               0   \n3                                 0                               0   \n4                                 0                               0   \n\n   pack_card_Dawn of a New Age  \n0                            0  \n1                            0  \n2                            0  \n3                            0  \n4                            0  \n\n[5 rows x 266 columns]",
      "text/html": "<div>\n<style scoped>\n    .dataframe tbody tr th:only-of-type {\n        vertical-align: middle;\n    }\n\n    .dataframe tbody tr th {\n        vertical-align: top;\n    }\n\n    .dataframe thead th {\n        text-align: right;\n    }\n</style>\n<table border=\"1\" class=\"dataframe\">\n  <thead>\n    <tr style=\"text-align: right;\">\n      <th></th>\n      <th>pack_card_Andúril, Flame of the West</th>\n      <th>pack_card_Aragorn, Company Leader</th>\n      <th>pack_card_Aragorn, the Uniter</th>\n      <th>pack_card_Arwen Undómiel</th>\n      <th>pack_card_Arwen's Gift</th>\n      <th>pack_card_Arwen, Mortal Queen</th>\n      <th>pack_card_Bag End Porter</th>\n      <th>pack_card_Banish from Edoras</th>\n      <th>pack_card_Barad-dûr</th>\n      <th>pack_card_Barrow-Blade</th>\n      <th>...</th>\n      <th>pack_card_Willow-Wind</th>\n      <th>pack_card_Witch-king of Angmar</th>\n      <th>pack_card_Wizard's Rockets</th>\n      <th>pack_card_Wose Pathfinder</th>\n      <th>pack_card_You Cannot Pass!</th>\n      <th>pack_card_Éomer of the Riddermark</th>\n      <th>pack_card_Éomer, Marshal of Rohan</th>\n      <th>pack_card_Éowyn, Fearless Knight</th>\n      <th>pack_card_Éowyn, Lady of Rohan</th>\n      <th>pack_card_Dawn of a New Age</th>\n    </tr>\n  </thead>\n  <tbody>\n    <tr>\n      <th>0</th>\n      <td>0</td>\n      <td>0</td>\n      <td>0</td>\n      <td>0</td>\n      <td>0</td>\n      <td>0</td>\n      <td>0</td>\n      <td>0</td>\n      <td>0</td>\n      <td>0</td>\n      <td>...</td>\n      <td>0</td>\n      <td>0</td>\n      <td>0</td>\n      <td>0</td>\n      <td>0</td>\n      <td>0</td>\n      <td>0</td>\n      <td>0</td>\n      <td>0</td>\n      <td>0</td>\n    </tr>\n    <tr>\n      <th>1</th>\n      <td>0</td>\n      <td>0</td>\n      <td>0</td>\n      <td>0</td>\n      <td>1</td>\n      <td>0</td>\n      <td>0</td>\n      <td>0</td>\n      <td>0</td>\n      <td>0</td>\n      <td>...</td>\n      <td>0</td>\n      <td>0</td>\n      <td>0</td>\n      <td>1</td>\n      <td>0</td>\n      <td>0</td>\n      <td>0</td>\n      <td>0</td>\n      <td>0</td>\n      <td>0</td>\n    </tr>\n    <tr>\n      <th>2</th>\n      <td>0</td>\n      <td>0</td>\n      <td>0</td>\n      <td>0</td>\n      <td>0</td>\n      <td>0</td>\n      <td>0</td>\n      <td>0</td>\n      <td>0</td>\n      <td>0</td>\n      <td>...</td>\n      <td>0</td>\n      <td>0</td>\n      <td>0</td>\n      <td>0</td>\n      <td>0</td>\n      <td>0</td>\n      <td>0</td>\n      <td>0</td>\n      <td>0</td>\n      <td>0</td>\n    </tr>\n    <tr>\n      <th>3</th>\n      <td>0</td>\n      <td>0</td>\n      <td>0</td>\n      <td>0</td>\n      <td>0</td>\n      <td>0</td>\n      <td>0</td>\n      <td>0</td>\n      <td>0</td>\n      <td>0</td>\n      <td>...</td>\n      <td>0</td>\n      <td>0</td>\n      <td>0</td>\n      <td>0</td>\n      <td>0</td>\n      <td>0</td>\n      <td>0</td>\n      <td>0</td>\n      <td>0</td>\n      <td>0</td>\n    </tr>\n    <tr>\n      <th>4</th>\n      <td>0</td>\n      <td>0</td>\n      <td>0</td>\n      <td>0</td>\n      <td>0</td>\n      <td>0</td>\n      <td>1</td>\n      <td>0</td>\n      <td>0</td>\n      <td>0</td>\n      <td>...</td>\n      <td>0</td>\n      <td>0</td>\n      <td>0</td>\n      <td>0</td>\n      <td>0</td>\n      <td>0</td>\n      <td>0</td>\n      <td>0</td>\n      <td>0</td>\n      <td>0</td>\n    </tr>\n  </tbody>\n</table>\n<p>5 rows × 266 columns</p>\n</div>"
     },
     "execution_count": 88,
     "metadata": {},
     "output_type": "execute_result"
    }
   ],
   "source": [
    "x_train = x_train.drop(['pack_number'], axis=1)\n",
    "x_train.head(5)"
   ],
   "metadata": {
    "collapsed": false,
    "ExecuteTime": {
     "end_time": "2023-08-04T18:07:00.616537700Z",
     "start_time": "2023-08-04T18:06:59.574998300Z"
    }
   }
  },
  {
   "cell_type": "code",
   "execution_count": 89,
   "outputs": [
    {
     "data": {
      "text/plain": "   pack_card_Andúril, Flame of the West  pack_card_Aragorn, Company Leader  \\\n0                                     0                                  0   \n1                                     0                                  0   \n2                                     0                                  0   \n3                                     0                                  0   \n4                                     0                                  0   \n\n   pack_card_Aragorn, the Uniter  pack_card_Arwen Undómiel  \\\n0                              0                         0   \n1                              0                         0   \n2                              0                         0   \n3                              0                         0   \n4                              0                         0   \n\n   pack_card_Arwen's Gift  pack_card_Arwen, Mortal Queen  \\\n0                       0                              0   \n1                       0                              0   \n2                       1                              0   \n3                       0                              0   \n4                       0                              0   \n\n   pack_card_Bag End Porter  pack_card_Banish from Edoras  \\\n0                         1                             0   \n1                         0                             0   \n2                         0                             0   \n3                         0                             0   \n4                         0                             0   \n\n   pack_card_Barad-dûr  pack_card_Barrow-Blade  ...  pack_card_Willow-Wind  \\\n0                    0                       0  ...                      0   \n1                    0                       0  ...                      1   \n2                    0                       0  ...                      0   \n3                    0                       1  ...                      0   \n4                    0                       0  ...                      0   \n\n   pack_card_Witch-king of Angmar  pack_card_Wizard's Rockets  \\\n0                               0                           0   \n1                               0                           0   \n2                               0                           0   \n3                               0                           1   \n4                               0                           0   \n\n   pack_card_Wose Pathfinder  pack_card_You Cannot Pass!  \\\n0                          0                           0   \n1                          0                           0   \n2                          0                           0   \n3                          0                           0   \n4                          1                           0   \n\n   pack_card_Éomer of the Riddermark  pack_card_Éomer, Marshal of Rohan  \\\n0                                  0                                  0   \n1                                  0                                  0   \n2                                  0                                  0   \n3                                  0                                  0   \n4                                  0                                  0   \n\n   pack_card_Éowyn, Fearless Knight  pack_card_Éowyn, Lady of Rohan  \\\n0                                 0                               0   \n1                                 0                               0   \n2                                 0                               0   \n3                                 0                               0   \n4                                 0                               0   \n\n   pack_card_Dawn of a New Age  \n0                            0  \n1                            0  \n2                            0  \n3                            0  \n4                            0  \n\n[5 rows x 266 columns]",
      "text/html": "<div>\n<style scoped>\n    .dataframe tbody tr th:only-of-type {\n        vertical-align: middle;\n    }\n\n    .dataframe tbody tr th {\n        vertical-align: top;\n    }\n\n    .dataframe thead th {\n        text-align: right;\n    }\n</style>\n<table border=\"1\" class=\"dataframe\">\n  <thead>\n    <tr style=\"text-align: right;\">\n      <th></th>\n      <th>pack_card_Andúril, Flame of the West</th>\n      <th>pack_card_Aragorn, Company Leader</th>\n      <th>pack_card_Aragorn, the Uniter</th>\n      <th>pack_card_Arwen Undómiel</th>\n      <th>pack_card_Arwen's Gift</th>\n      <th>pack_card_Arwen, Mortal Queen</th>\n      <th>pack_card_Bag End Porter</th>\n      <th>pack_card_Banish from Edoras</th>\n      <th>pack_card_Barad-dûr</th>\n      <th>pack_card_Barrow-Blade</th>\n      <th>...</th>\n      <th>pack_card_Willow-Wind</th>\n      <th>pack_card_Witch-king of Angmar</th>\n      <th>pack_card_Wizard's Rockets</th>\n      <th>pack_card_Wose Pathfinder</th>\n      <th>pack_card_You Cannot Pass!</th>\n      <th>pack_card_Éomer of the Riddermark</th>\n      <th>pack_card_Éomer, Marshal of Rohan</th>\n      <th>pack_card_Éowyn, Fearless Knight</th>\n      <th>pack_card_Éowyn, Lady of Rohan</th>\n      <th>pack_card_Dawn of a New Age</th>\n    </tr>\n  </thead>\n  <tbody>\n    <tr>\n      <th>0</th>\n      <td>0</td>\n      <td>0</td>\n      <td>0</td>\n      <td>0</td>\n      <td>0</td>\n      <td>0</td>\n      <td>1</td>\n      <td>0</td>\n      <td>0</td>\n      <td>0</td>\n      <td>...</td>\n      <td>0</td>\n      <td>0</td>\n      <td>0</td>\n      <td>0</td>\n      <td>0</td>\n      <td>0</td>\n      <td>0</td>\n      <td>0</td>\n      <td>0</td>\n      <td>0</td>\n    </tr>\n    <tr>\n      <th>1</th>\n      <td>0</td>\n      <td>0</td>\n      <td>0</td>\n      <td>0</td>\n      <td>0</td>\n      <td>0</td>\n      <td>0</td>\n      <td>0</td>\n      <td>0</td>\n      <td>0</td>\n      <td>...</td>\n      <td>1</td>\n      <td>0</td>\n      <td>0</td>\n      <td>0</td>\n      <td>0</td>\n      <td>0</td>\n      <td>0</td>\n      <td>0</td>\n      <td>0</td>\n      <td>0</td>\n    </tr>\n    <tr>\n      <th>2</th>\n      <td>0</td>\n      <td>0</td>\n      <td>0</td>\n      <td>0</td>\n      <td>1</td>\n      <td>0</td>\n      <td>0</td>\n      <td>0</td>\n      <td>0</td>\n      <td>0</td>\n      <td>...</td>\n      <td>0</td>\n      <td>0</td>\n      <td>0</td>\n      <td>0</td>\n      <td>0</td>\n      <td>0</td>\n      <td>0</td>\n      <td>0</td>\n      <td>0</td>\n      <td>0</td>\n    </tr>\n    <tr>\n      <th>3</th>\n      <td>0</td>\n      <td>0</td>\n      <td>0</td>\n      <td>0</td>\n      <td>0</td>\n      <td>0</td>\n      <td>0</td>\n      <td>0</td>\n      <td>0</td>\n      <td>1</td>\n      <td>...</td>\n      <td>0</td>\n      <td>0</td>\n      <td>1</td>\n      <td>0</td>\n      <td>0</td>\n      <td>0</td>\n      <td>0</td>\n      <td>0</td>\n      <td>0</td>\n      <td>0</td>\n    </tr>\n    <tr>\n      <th>4</th>\n      <td>0</td>\n      <td>0</td>\n      <td>0</td>\n      <td>0</td>\n      <td>0</td>\n      <td>0</td>\n      <td>0</td>\n      <td>0</td>\n      <td>0</td>\n      <td>0</td>\n      <td>...</td>\n      <td>0</td>\n      <td>0</td>\n      <td>0</td>\n      <td>1</td>\n      <td>0</td>\n      <td>0</td>\n      <td>0</td>\n      <td>0</td>\n      <td>0</td>\n      <td>0</td>\n    </tr>\n  </tbody>\n</table>\n<p>5 rows × 266 columns</p>\n</div>"
     },
     "execution_count": 89,
     "metadata": {},
     "output_type": "execute_result"
    }
   ],
   "source": [
    "x_val = x_val.drop(['pack_number'], axis=1)\n",
    "x_val.head(5)"
   ],
   "metadata": {
    "collapsed": false,
    "ExecuteTime": {
     "end_time": "2023-08-04T18:07:01.045597300Z",
     "start_time": "2023-08-04T18:07:00.618538600Z"
    }
   }
  },
  {
   "cell_type": "code",
   "execution_count": 90,
   "outputs": [],
   "source": [
    "#build one-hot encoding with x_train columns\n",
    "out_hot_enc = x_train.columns.to_list()\n",
    "\n",
    "y_train = []\n",
    "for pick in train_set['pick'].to_list():\n",
    "    y_train.append(out_hot_enc.index('pack_card_'+pick))"
   ],
   "metadata": {
    "collapsed": false,
    "ExecuteTime": {
     "end_time": "2023-08-04T18:07:03.320702600Z",
     "start_time": "2023-08-04T18:07:00.917717100Z"
    }
   }
  },
  {
   "cell_type": "code",
   "execution_count": 91,
   "outputs": [],
   "source": [
    "y_val = []\n",
    "for pick in val_set['pick'].to_list():\n",
    "    y_val.append(out_hot_enc.index('pack_card_'+pick))\n"
   ],
   "metadata": {
    "collapsed": false,
    "ExecuteTime": {
     "end_time": "2023-08-04T18:07:03.960906Z",
     "start_time": "2023-08-04T18:07:03.323717Z"
    }
   }
  },
  {
   "cell_type": "code",
   "execution_count": 92,
   "outputs": [],
   "source": [
    "from model import *\n",
    "input_data = torch.tensor(x_train.values, dtype=torch.float32)\n",
    "input_data = input_data.unsqueeze(1)\n",
    "label_data = torch.tensor(y_train, dtype=torch.float32)"
   ],
   "metadata": {
    "collapsed": false,
    "ExecuteTime": {
     "end_time": "2023-08-04T18:07:04.350650800Z",
     "start_time": "2023-08-04T18:07:03.978926500Z"
    }
   }
  },
  {
   "cell_type": "code",
   "execution_count": 93,
   "outputs": [
    {
     "name": "stdout",
     "output_type": "stream",
     "text": [
      "torch.Size([1057266, 1, 266])\n",
      "torch.Size([1057266])\n"
     ]
    }
   ],
   "source": [
    "print(input_data.shape)\n",
    "print(label_data.shape)"
   ],
   "metadata": {
    "collapsed": false,
    "ExecuteTime": {
     "end_time": "2023-08-04T18:07:04.365175100Z",
     "start_time": "2023-08-04T18:07:04.353658Z"
    }
   }
  },
  {
   "cell_type": "code",
   "execution_count": 94,
   "outputs": [],
   "source": [
    "model_lstm = LSTM_drafter()"
   ],
   "metadata": {
    "collapsed": false,
    "ExecuteTime": {
     "end_time": "2023-08-04T18:07:04.413835700Z",
     "start_time": "2023-08-04T18:07:04.374688300Z"
    }
   }
  },
  {
   "cell_type": "code",
   "execution_count": 95,
   "outputs": [],
   "source": [
    "def create_batches(x, y, batch_size):\n",
    "    x_np = x.to_numpy()  # converte o dataframe para numpy array\n",
    "    num_batches = len(x) // batch_size\n",
    "    for i in range(num_batches):\n",
    "        x_batch = x_np[i * batch_size: (i+1) * batch_size]\n",
    "        y_batch = y[i * batch_size: (i+1) * batch_size]\n",
    "        yield x_batch, y_batch"
   ],
   "metadata": {
    "collapsed": false,
    "ExecuteTime": {
     "end_time": "2023-08-04T18:07:04.428362200Z",
     "start_time": "2023-08-04T18:07:04.416842800Z"
    }
   }
  },
  {
   "cell_type": "code",
   "execution_count": 95,
   "outputs": [],
   "source": [],
   "metadata": {
    "collapsed": false,
    "ExecuteTime": {
     "end_time": "2023-08-04T18:07:04.450003200Z",
     "start_time": "2023-08-04T18:07:04.429362400Z"
    }
   }
  },
  {
   "cell_type": "code",
   "execution_count": 96,
   "outputs": [
    {
     "data": {
      "text/plain": "<Figure size 640x480 with 2 Axes>",
      "image/png": "[encoded data removed]"
     },
     "metadata": {},
     "output_type": "display_data"
    },
    {
     "name": "stdout",
     "output_type": "stream",
     "text": [
      "Epoch 97/250, Loss: 0.12395086884498596\n",
      "Epoch 97/250, Validation Loss: 1052.0689697265625\n"
     ]
    },
    {
     "ename": "KeyboardInterrupt",
     "evalue": "",
     "output_type": "error",
     "traceback": [
      "\u001B[1;31m---------------------------------------------------------------------------\u001B[0m",
      "\u001B[1;31mKeyboardInterrupt\u001B[0m                         Traceback (most recent call last)",
      "Cell \u001B[1;32mIn[96], line 28\u001B[0m\n\u001B[0;32m     25\u001B[0m inputs \u001B[38;5;241m=\u001B[39m torch\u001B[38;5;241m.\u001B[39mtensor(inputs_batch, dtype\u001B[38;5;241m=\u001B[39mtorch\u001B[38;5;241m.\u001B[39mfloat32)\u001B[38;5;241m.\u001B[39munsqueeze(\u001B[38;5;241m1\u001B[39m)\n\u001B[0;32m     26\u001B[0m labels \u001B[38;5;241m=\u001B[39m torch\u001B[38;5;241m.\u001B[39mtensor(labels_batch, dtype\u001B[38;5;241m=\u001B[39mtorch\u001B[38;5;241m.\u001B[39mlong)\n\u001B[1;32m---> 28\u001B[0m output, hidden \u001B[38;5;241m=\u001B[39m \u001B[43mmodel_lstm\u001B[49m\u001B[43m(\u001B[49m\u001B[43minputs\u001B[49m\u001B[43m,\u001B[49m\u001B[43m \u001B[49m\u001B[43mhidden\u001B[49m\u001B[43m)\u001B[49m\n\u001B[0;32m     29\u001B[0m loss \u001B[38;5;241m+\u001B[39m\u001B[38;5;241m=\u001B[39m loss_function(output, labels)\n\u001B[0;32m     31\u001B[0m loss \u001B[38;5;241m=\u001B[39m loss \u001B[38;5;241m/\u001B[39m inputs_batch\u001B[38;5;241m.\u001B[39mshape[\u001B[38;5;241m0\u001B[39m]\n",
      "File \u001B[1;32m~\\Documents\\Estudos\\mtg_env\\lib\\site-packages\\torch\\nn\\modules\\module.py:1501\u001B[0m, in \u001B[0;36mModule._call_impl\u001B[1;34m(self, *args, **kwargs)\u001B[0m\n\u001B[0;32m   1496\u001B[0m \u001B[38;5;66;03m# If we don't have any hooks, we want to skip the rest of the logic in\u001B[39;00m\n\u001B[0;32m   1497\u001B[0m \u001B[38;5;66;03m# this function, and just call forward.\u001B[39;00m\n\u001B[0;32m   1498\u001B[0m \u001B[38;5;28;01mif\u001B[39;00m \u001B[38;5;129;01mnot\u001B[39;00m (\u001B[38;5;28mself\u001B[39m\u001B[38;5;241m.\u001B[39m_backward_hooks \u001B[38;5;129;01mor\u001B[39;00m \u001B[38;5;28mself\u001B[39m\u001B[38;5;241m.\u001B[39m_backward_pre_hooks \u001B[38;5;129;01mor\u001B[39;00m \u001B[38;5;28mself\u001B[39m\u001B[38;5;241m.\u001B[39m_forward_hooks \u001B[38;5;129;01mor\u001B[39;00m \u001B[38;5;28mself\u001B[39m\u001B[38;5;241m.\u001B[39m_forward_pre_hooks\n\u001B[0;32m   1499\u001B[0m         \u001B[38;5;129;01mor\u001B[39;00m _global_backward_pre_hooks \u001B[38;5;129;01mor\u001B[39;00m _global_backward_hooks\n\u001B[0;32m   1500\u001B[0m         \u001B[38;5;129;01mor\u001B[39;00m _global_forward_hooks \u001B[38;5;129;01mor\u001B[39;00m _global_forward_pre_hooks):\n\u001B[1;32m-> 1501\u001B[0m     \u001B[38;5;28;01mreturn\u001B[39;00m \u001B[43mforward_call\u001B[49m\u001B[43m(\u001B[49m\u001B[38;5;241;43m*\u001B[39;49m\u001B[43margs\u001B[49m\u001B[43m,\u001B[49m\u001B[43m \u001B[49m\u001B[38;5;241;43m*\u001B[39;49m\u001B[38;5;241;43m*\u001B[39;49m\u001B[43mkwargs\u001B[49m\u001B[43m)\u001B[49m\n\u001B[0;32m   1502\u001B[0m \u001B[38;5;66;03m# Do not call functions when jit is used\u001B[39;00m\n\u001B[0;32m   1503\u001B[0m full_backward_hooks, non_full_backward_hooks \u001B[38;5;241m=\u001B[39m [], []\n",
      "File \u001B[1;32m~\\Documents\\Estudos\\MTG_drafter\\model.py:16\u001B[0m, in \u001B[0;36mLSTM_drafter.forward\u001B[1;34m(self, x, hidden)\u001B[0m\n\u001B[0;32m     15\u001B[0m \u001B[38;5;28;01mdef\u001B[39;00m \u001B[38;5;21mforward\u001B[39m(\u001B[38;5;28mself\u001B[39m, x, hidden):\n\u001B[1;32m---> 16\u001B[0m     out, hidden \u001B[38;5;241m=\u001B[39m \u001B[38;5;28;43mself\u001B[39;49m\u001B[38;5;241;43m.\u001B[39;49m\u001B[43mlstm\u001B[49m\u001B[43m(\u001B[49m\u001B[43mx\u001B[49m\u001B[43m,\u001B[49m\u001B[43m \u001B[49m\u001B[43mhidden\u001B[49m\u001B[43m)\u001B[49m\n\u001B[0;32m     17\u001B[0m     out \u001B[38;5;241m=\u001B[39m \u001B[38;5;28mself\u001B[39m\u001B[38;5;241m.\u001B[39mfc(out[:, \u001B[38;5;241m-\u001B[39m\u001B[38;5;241m1\u001B[39m, :])\n\u001B[0;32m     18\u001B[0m     out \u001B[38;5;241m=\u001B[39m \u001B[38;5;28mself\u001B[39m\u001B[38;5;241m.\u001B[39msoftmax(out)\n",
      "File \u001B[1;32m~\\Documents\\Estudos\\mtg_env\\lib\\site-packages\\torch\\nn\\modules\\module.py:1501\u001B[0m, in \u001B[0;36mModule._call_impl\u001B[1;34m(self, *args, **kwargs)\u001B[0m\n\u001B[0;32m   1496\u001B[0m \u001B[38;5;66;03m# If we don't have any hooks, we want to skip the rest of the logic in\u001B[39;00m\n\u001B[0;32m   1497\u001B[0m \u001B[38;5;66;03m# this function, and just call forward.\u001B[39;00m\n\u001B[0;32m   1498\u001B[0m \u001B[38;5;28;01mif\u001B[39;00m \u001B[38;5;129;01mnot\u001B[39;00m (\u001B[38;5;28mself\u001B[39m\u001B[38;5;241m.\u001B[39m_backward_hooks \u001B[38;5;129;01mor\u001B[39;00m \u001B[38;5;28mself\u001B[39m\u001B[38;5;241m.\u001B[39m_backward_pre_hooks \u001B[38;5;129;01mor\u001B[39;00m \u001B[38;5;28mself\u001B[39m\u001B[38;5;241m.\u001B[39m_forward_hooks \u001B[38;5;129;01mor\u001B[39;00m \u001B[38;5;28mself\u001B[39m\u001B[38;5;241m.\u001B[39m_forward_pre_hooks\n\u001B[0;32m   1499\u001B[0m         \u001B[38;5;129;01mor\u001B[39;00m _global_backward_pre_hooks \u001B[38;5;129;01mor\u001B[39;00m _global_backward_hooks\n\u001B[0;32m   1500\u001B[0m         \u001B[38;5;129;01mor\u001B[39;00m _global_forward_hooks \u001B[38;5;129;01mor\u001B[39;00m _global_forward_pre_hooks):\n\u001B[1;32m-> 1501\u001B[0m     \u001B[38;5;28;01mreturn\u001B[39;00m \u001B[43mforward_call\u001B[49m\u001B[43m(\u001B[49m\u001B[38;5;241;43m*\u001B[39;49m\u001B[43margs\u001B[49m\u001B[43m,\u001B[49m\u001B[43m \u001B[49m\u001B[38;5;241;43m*\u001B[39;49m\u001B[38;5;241;43m*\u001B[39;49m\u001B[43mkwargs\u001B[49m\u001B[43m)\u001B[49m\n\u001B[0;32m   1502\u001B[0m \u001B[38;5;66;03m# Do not call functions when jit is used\u001B[39;00m\n\u001B[0;32m   1503\u001B[0m full_backward_hooks, non_full_backward_hooks \u001B[38;5;241m=\u001B[39m [], []\n",
      "File \u001B[1;32m~\\Documents\\Estudos\\mtg_env\\lib\\site-packages\\torch\\nn\\modules\\rnn.py:812\u001B[0m, in \u001B[0;36mLSTM.forward\u001B[1;34m(self, input, hx)\u001B[0m\n\u001B[0;32m    810\u001B[0m \u001B[38;5;28mself\u001B[39m\u001B[38;5;241m.\u001B[39mcheck_forward_args(\u001B[38;5;28minput\u001B[39m, hx, batch_sizes)\n\u001B[0;32m    811\u001B[0m \u001B[38;5;28;01mif\u001B[39;00m batch_sizes \u001B[38;5;129;01mis\u001B[39;00m \u001B[38;5;28;01mNone\u001B[39;00m:\n\u001B[1;32m--> 812\u001B[0m     result \u001B[38;5;241m=\u001B[39m \u001B[43m_VF\u001B[49m\u001B[38;5;241;43m.\u001B[39;49m\u001B[43mlstm\u001B[49m\u001B[43m(\u001B[49m\u001B[38;5;28;43minput\u001B[39;49m\u001B[43m,\u001B[49m\u001B[43m \u001B[49m\u001B[43mhx\u001B[49m\u001B[43m,\u001B[49m\u001B[43m \u001B[49m\u001B[38;5;28;43mself\u001B[39;49m\u001B[38;5;241;43m.\u001B[39;49m\u001B[43m_flat_weights\u001B[49m\u001B[43m,\u001B[49m\u001B[43m \u001B[49m\u001B[38;5;28;43mself\u001B[39;49m\u001B[38;5;241;43m.\u001B[39;49m\u001B[43mbias\u001B[49m\u001B[43m,\u001B[49m\u001B[43m \u001B[49m\u001B[38;5;28;43mself\u001B[39;49m\u001B[38;5;241;43m.\u001B[39;49m\u001B[43mnum_layers\u001B[49m\u001B[43m,\u001B[49m\n\u001B[0;32m    813\u001B[0m \u001B[43m                      \u001B[49m\u001B[38;5;28;43mself\u001B[39;49m\u001B[38;5;241;43m.\u001B[39;49m\u001B[43mdropout\u001B[49m\u001B[43m,\u001B[49m\u001B[43m \u001B[49m\u001B[38;5;28;43mself\u001B[39;49m\u001B[38;5;241;43m.\u001B[39;49m\u001B[43mtraining\u001B[49m\u001B[43m,\u001B[49m\u001B[43m \u001B[49m\u001B[38;5;28;43mself\u001B[39;49m\u001B[38;5;241;43m.\u001B[39;49m\u001B[43mbidirectional\u001B[49m\u001B[43m,\u001B[49m\u001B[43m \u001B[49m\u001B[38;5;28;43mself\u001B[39;49m\u001B[38;5;241;43m.\u001B[39;49m\u001B[43mbatch_first\u001B[49m\u001B[43m)\u001B[49m\n\u001B[0;32m    814\u001B[0m \u001B[38;5;28;01melse\u001B[39;00m:\n\u001B[0;32m    815\u001B[0m     result \u001B[38;5;241m=\u001B[39m _VF\u001B[38;5;241m.\u001B[39mlstm(\u001B[38;5;28minput\u001B[39m, batch_sizes, hx, \u001B[38;5;28mself\u001B[39m\u001B[38;5;241m.\u001B[39m_flat_weights, \u001B[38;5;28mself\u001B[39m\u001B[38;5;241m.\u001B[39mbias,\n\u001B[0;32m    816\u001B[0m                       \u001B[38;5;28mself\u001B[39m\u001B[38;5;241m.\u001B[39mnum_layers, \u001B[38;5;28mself\u001B[39m\u001B[38;5;241m.\u001B[39mdropout, \u001B[38;5;28mself\u001B[39m\u001B[38;5;241m.\u001B[39mtraining, \u001B[38;5;28mself\u001B[39m\u001B[38;5;241m.\u001B[39mbidirectional)\n",
      "\u001B[1;31mKeyboardInterrupt\u001B[0m: "
     ]
    }
   ],
   "source": [
    "import matplotlib.pyplot as plt\n",
    "from IPython.display import clear_output\n",
    "\n",
    "train_losses = []\n",
    "val_losses = []\n",
    "\n",
    "num_epochs = 250\n",
    "batch_size = 42\n",
    "patience = 100  # Define a quantidade de épocas para esperar antes de interromper\n",
    "\n",
    "model_lstm = LSTM_drafter()\n",
    "optimizer = torch.optim.Adam(model_lstm.parameters(), lr=0.001)\n",
    "loss_function = nn.CrossEntropyLoss()\n",
    "\n",
    "best_val_loss = float('inf')\n",
    "count_without_improvement = 0\n",
    "\n",
    "for epoch in range(num_epochs):\n",
    "    for inputs_batch, labels_batch in create_batches(x_train, y_train, batch_size):\n",
    "        hidden = model_lstm.init_hidden(inputs_batch.shape[0])\n",
    "\n",
    "        optimizer.zero_grad()\n",
    "        loss = 0.0\n",
    "\n",
    "        inputs = torch.tensor(inputs_batch, dtype=torch.float32).unsqueeze(1)\n",
    "        labels = torch.tensor(labels_batch, dtype=torch.long)\n",
    "\n",
    "        output, hidden = model_lstm(inputs, hidden)\n",
    "        loss += loss_function(output, labels)\n",
    "\n",
    "        loss = loss / inputs_batch.shape[0]\n",
    "        loss.backward()\n",
    "        optimizer.step()\n",
    "\n",
    "    train_losses.append(loss.item())\n",
    "    val_losses.append(val_loss.item())\n",
    "\n",
    "    # Atualiza os gráficos após cada época\n",
    "    clear_output(wait=True)\n",
    "    fig, axs = plt.subplots(2)\n",
    "\n",
    "    # Gráfico de perda de treinamento\n",
    "    axs[0].plot(train_losses, label='Training Loss')\n",
    "    axs[0].set_title('Training Loss')\n",
    "    axs[0].set_xlabel('Epoch')\n",
    "    axs[0].set_ylabel('Loss')\n",
    "    axs[0].legend()\n",
    "\n",
    "    # Gráfico de perda de validação\n",
    "    axs[1].plot(val_losses, label='Validation Loss')\n",
    "    axs[1].set_title('Validation Loss')\n",
    "    axs[1].set_xlabel('Epoch')\n",
    "    axs[1].set_ylabel('Loss')\n",
    "    axs[1].legend()\n",
    "\n",
    "    plt.tight_layout()\n",
    "    plt.show()\n",
    "\n",
    "    print(f'Epoch {epoch+1}/{num_epochs}, Loss: {loss.item()}')\n",
    "\n",
    "    # Calcula a perda de validação aqui\n",
    "    val_loss = 0\n",
    "    for inputs_batch, labels_batch in create_batches(x_val, y_val, batch_size):\n",
    "        hidden = model_lstm.init_hidden(inputs_batch.shape[0])\n",
    "        inputs = torch.tensor(inputs_batch, dtype=torch.float32).unsqueeze(1)\n",
    "        labels = torch.tensor(labels_batch, dtype=torch.long)\n",
    "\n",
    "        with torch.no_grad():\n",
    "            output, hidden = model_lstm(inputs, hidden)\n",
    "            val_loss += loss_function(output, labels)\n",
    "    val_loss = val_loss / inputs_batch.shape[0]\n",
    "\n",
    "    print(f'Epoch {epoch+1}/{num_epochs}, Validation Loss: {val_loss.item()}')\n",
    "\n",
    "    # Early stopping e salva o melhor modelo\n",
    "    if val_loss.item() < best_val_loss:\n",
    "        best_val_loss = val_loss.item()\n",
    "        count_without_improvement = 0\n",
    "        # Salva o melhor modelo\n",
    "        torch.save(model_lstm.state_dict(), 'best_model_lstm.pt')\n",
    "    else:\n",
    "        count_without_improvement += 1\n",
    "        if count_without_improvement >= patience:\n",
    "            print('Early stopping')\n",
    "            break\n",
    "\n",
    "# Carrega o melhor modelo após o treinamento\n",
    "model_lstm.load_state_dict(torch.load('best_model_lstm.pt'))"
   ],
   "metadata": {
    "collapsed": false
   }
  },
  {
   "cell_type": "code",
   "execution_count": null,
   "outputs": [],
   "source": [
    "#test\n",
    "x_test = test_set.loc[:, test_set.columns.str.startswith('pack')]\n",
    "x_test = x_test.drop(['pack_number'], axis=1)\n"
   ],
   "metadata": {
    "collapsed": false,
    "ExecuteTime": {
     "start_time": "2023-08-05T01:09:28.802913400Z"
    }
   }
  },
  {
   "cell_type": "code",
   "execution_count": null,
   "outputs": [],
   "source": [
    "out_hot_enc = x_test.columns.to_list()\n"
   ],
   "metadata": {
    "collapsed": false,
    "ExecuteTime": {
     "start_time": "2023-08-05T01:09:28.804912100Z"
    }
   }
  },
  {
   "cell_type": "code",
   "execution_count": null,
   "outputs": [],
   "source": [
    "y_test = []\n",
    "for pick in test_set['pick'].to_list():\n",
    "    y_test.append(out_hot_enc.index('pack_card_'+pick))\n"
   ],
   "metadata": {
    "collapsed": false
   }
  },
  {
   "cell_type": "code",
   "execution_count": null,
   "outputs": [],
   "source": [
    "input_data = torch.tensor(x_test.values, dtype=torch.float32)\n",
    "input_data = input_data.unsqueeze(1)\n",
    "label_data = torch.tensor(y_test, dtype=torch.float32)\n"
   ],
   "metadata": {
    "collapsed": false
   }
  },
  {
   "cell_type": "code",
   "execution_count": null,
   "outputs": [],
   "source": [
    "hidden = model_lstm.init_hidden(input_data.shape[0])\n",
    "output, hidden = model_lstm(input_data, hidden)\n"
   ],
   "metadata": {
    "collapsed": false
   }
  },
  {
   "cell_type": "code",
   "execution_count": null,
   "outputs": [],
   "source": [
    "_, predicted = torch.max(output.data, 1)\n"
   ],
   "metadata": {
    "collapsed": false
   }
  },
  {
   "cell_type": "code",
   "execution_count": null,
   "outputs": [],
   "source": [
    "from sklearn.metrics import accuracy_score\n",
    "accuracy_score(label_data, predicted)\n"
   ],
   "metadata": {
    "collapsed": false
   }
  },
  {
   "cell_type": "code",
   "execution_count": null,
   "outputs": [],
   "source": [
    "from sklearn.metrics import confusion_matrix\n",
    "confusion_matrix(label_data, predicted)\n"
   ],
   "metadata": {
    "collapsed": false
   }
  },
  {
   "cell_type": "code",
   "execution_count": null,
   "outputs": [],
   "source": [
    "from sklearn.metrics import classification_report\n",
    "print(classification_report(label_data, predicted))\n"
   ],
   "metadata": {
    "collapsed": false
   }
  },
  {
   "cell_type": "code",
   "execution_count": null,
   "outputs": [],
   "source": [
    "#save model\n",
    "torch.save(model_lstm.state_dict(), 'model/model_lstm.pt')\n"
   ],
   "metadata": {
    "collapsed": false
   }
  },
  {
   "cell_type": "code",
   "execution_count": null,
   "outputs": [],
   "source": [
    "#load model"
   ],
   "metadata": {
    "collapsed": false
   }
  }
 ],
 "metadata": {
  "kernelspec": {
   "display_name": "Python 3",
   "language": "python",
   "name": "python3"
  },
  "language_info": {
   "codemirror_mode": {
    "name": "ipython",
    "version": 2
   },
   "file_extension": ".py",
   "mimetype": "text/x-python",
   "name": "python",
   "nbconvert_exporter": "python",
   "pygments_lexer": "ipython2",
   "version": "2.7.6"
  }
 },
 "nbformat": 4,
 "nbformat_minor": 0
}
