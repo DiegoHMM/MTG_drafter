{
 "cells": [
  {
   "cell_type": "code",
   "execution_count": 1,
   "metadata": {},
   "outputs": [],
   "source": [
    "import pandas as pd\n",
    "import ast\n",
    "from gensim.models import Word2Vec\n",
    "\n",
    "def processar_string_entrada(s):\n",
    "    try:\n",
    "        return ast.literal_eval(s)\n",
    "    except (ValueError, SyntaxError):\n",
    "        return []\n"
   ]
  },
  {
   "cell_type": "code",
   "execution_count": 2,
   "metadata": {},
   "outputs": [],
   "source": [
    "#selecione todas as pools completas\n",
    "def get_all_pools(df):\n",
    "    p = []\n",
    "    complete_pools = df[df['pick'].isnull()]['pool']\n",
    "\n",
    "    # Printando as pools completas\n",
    "    for _, pool in enumerate(complete_pools):\n",
    "        p.append(pool)\n",
    "    return p"
   ]
  },
  {
   "cell_type": "code",
   "execution_count": 4,
   "metadata": {},
   "outputs": [],
   "source": [
    "df_pools = pd.read_csv('handled_data/df_stops_woe.csv')"
   ]
  },
  {
   "cell_type": "code",
   "execution_count": 5,
   "metadata": {},
   "outputs": [],
   "source": [
    "def extract_card_names(row, prefix):\n",
    "    \"\"\" Extrai os nomes das cartas com base no prefixo e retorna uma lista de nomes. \"\"\"\n",
    "    return [name[len(prefix):] for name, value in row.items() if name.startswith(prefix) and value]\n",
    "\n",
    "# Criação das novas colunas 'pool' e 'pack'\n",
    "df_pools['pool'] = df_pools.apply(lambda row: extract_card_names(row, 'pool_'), axis=1)\n",
    "df_pools['pack'] = df_pools.apply(lambda row: extract_card_names(row, 'pack_card_'), axis=1)"
   ]
  },
  {
   "cell_type": "code",
   "execution_count": 31,
   "metadata": {},
   "outputs": [],
   "source": [
    "df_pools = df_pools[['pool']]"
   ]
  },
  {
   "cell_type": "code",
   "execution_count": 32,
   "metadata": {},
   "outputs": [
    {
     "data": {
      "text/html": [
       "<div>\n",
       "<style scoped>\n",
       "    .dataframe tbody tr th:only-of-type {\n",
       "        vertical-align: middle;\n",
       "    }\n",
       "\n",
       "    .dataframe tbody tr th {\n",
       "        vertical-align: top;\n",
       "    }\n",
       "\n",
       "    .dataframe thead th {\n",
       "        text-align: right;\n",
       "    }\n",
       "</style>\n",
       "<table border=\"1\" class=\"dataframe\">\n",
       "  <thead>\n",
       "    <tr style=\"text-align: right;\">\n",
       "      <th></th>\n",
       "      <th>pool</th>\n",
       "    </tr>\n",
       "  </thead>\n",
       "  <tbody>\n",
       "    <tr>\n",
       "      <th>0</th>\n",
       "      <td>[Archon of the Wild Rose, Armory Mice, Barrow ...</td>\n",
       "    </tr>\n",
       "    <tr>\n",
       "      <th>1</th>\n",
       "      <td>[Back for Seconds, Beanstalk Wurm, Bespoke Bat...</td>\n",
       "    </tr>\n",
       "    <tr>\n",
       "      <th>2</th>\n",
       "      <td>[Aquatic Alchemist, Back for Seconds, Beluna's...</td>\n",
       "    </tr>\n",
       "    <tr>\n",
       "      <th>3</th>\n",
       "      <td>[Aquatic Alchemist, Archon's Glory, Armory Mic...</td>\n",
       "    </tr>\n",
       "    <tr>\n",
       "      <th>4</th>\n",
       "      <td>[Bellowing Bruiser, Boundary Lands Ranger, Bra...</td>\n",
       "    </tr>\n",
       "    <tr>\n",
       "      <th>...</th>\n",
       "      <td>...</td>\n",
       "    </tr>\n",
       "    <tr>\n",
       "      <th>97828</th>\n",
       "      <td>[Barrow Naughty, Beluna's Gatekeeper, Charming...</td>\n",
       "    </tr>\n",
       "    <tr>\n",
       "      <th>97829</th>\n",
       "      <td>[Belligerent of the Ball, Bellowing Bruiser, B...</td>\n",
       "    </tr>\n",
       "    <tr>\n",
       "      <th>97830</th>\n",
       "      <td>[Armory Mice, Barrow Naughty, Candy Grapple, C...</td>\n",
       "    </tr>\n",
       "    <tr>\n",
       "      <th>97831</th>\n",
       "      <td>[Bellowing Bruiser, Bespoke Battlegarb, Evolvi...</td>\n",
       "    </tr>\n",
       "    <tr>\n",
       "      <th>97832</th>\n",
       "      <td>[Aquatic Alchemist, Archive Dragon, Barrow Nau...</td>\n",
       "    </tr>\n",
       "  </tbody>\n",
       "</table>\n",
       "<p>97833 rows × 1 columns</p>\n",
       "</div>"
      ],
      "text/plain": [
       "                                                    pool\n",
       "0      [Archon of the Wild Rose, Armory Mice, Barrow ...\n",
       "1      [Back for Seconds, Beanstalk Wurm, Bespoke Bat...\n",
       "2      [Aquatic Alchemist, Back for Seconds, Beluna's...\n",
       "3      [Aquatic Alchemist, Archon's Glory, Armory Mic...\n",
       "4      [Bellowing Bruiser, Boundary Lands Ranger, Bra...\n",
       "...                                                  ...\n",
       "97828  [Barrow Naughty, Beluna's Gatekeeper, Charming...\n",
       "97829  [Belligerent of the Ball, Bellowing Bruiser, B...\n",
       "97830  [Armory Mice, Barrow Naughty, Candy Grapple, C...\n",
       "97831  [Bellowing Bruiser, Bespoke Battlegarb, Evolvi...\n",
       "97832  [Aquatic Alchemist, Archive Dragon, Barrow Nau...\n",
       "\n",
       "[97833 rows x 1 columns]"
      ]
     },
     "execution_count": 32,
     "metadata": {},
     "output_type": "execute_result"
    }
   ],
   "source": [
    "df_pools"
   ]
  },
  {
   "cell_type": "code",
   "execution_count": 47,
   "metadata": {},
   "outputs": [],
   "source": [
    "decks = df_pools['pool'].tolist()"
   ]
  },
  {
   "cell_type": "code",
   "execution_count": 57,
   "metadata": {},
   "outputs": [],
   "source": [
    "todas_cartas = [carta for deck in decks for carta in deck]"
   ]
  },
  {
   "cell_type": "code",
   "execution_count": 58,
   "metadata": {},
   "outputs": [],
   "source": [
    "# Converte a lista concatenada em um conjunto para remover duplicatas\n",
    "cartas_unicas = set(todas_cartas)\n",
    "\n",
    "# Conta o número de cartas únicas\n",
    "total_cartas_unicas = len(cartas_unicas)"
   ]
  },
  {
   "cell_type": "code",
   "execution_count": 59,
   "metadata": {},
   "outputs": [
    {
     "data": {
      "text/plain": [
       "324"
      ]
     },
     "execution_count": 59,
     "metadata": {},
     "output_type": "execute_result"
    }
   ],
   "source": [
    "total_cartas_unicas"
   ]
  },
  {
   "cell_type": "code",
   "execution_count": 51,
   "metadata": {},
   "outputs": [],
   "source": [
    "# Treine o modelo Word2Vec\n",
    "model = Word2Vec(sentences=decks, vector_size=50, window=22, min_count=1, workers=4)\n",
    "\n",
    "# Salve o modelo para uso futuro\n",
    "model.save(\"card2vec.model\")"
   ]
  },
  {
   "cell_type": "code",
   "execution_count": 55,
   "metadata": {},
   "outputs": [],
   "source": [
    "from gensim.models import Word2Vec\n",
    "# Carregue o modelo treinado (se necessário)\n",
    "model = Word2Vec.load(\"card2vec.model\")\n",
    "\n",
    "# Obtenha o vetor (embedding) de uma carta específica\n",
    "vector = model.wv['Archon of the Wild Rose']\n",
    "\n",
    "# Encontre cartas semelhantes a uma dada carta\n",
    "similar_cards = model.wv.most_similar(\"Archon of the Wild Rose\", topn=10)"
   ]
  },
  {
   "cell_type": "code",
   "execution_count": 56,
   "metadata": {},
   "outputs": [
    {
     "data": {
      "text/plain": [
       "[('A Tale for the Ages', 0.8881415724754333),\n",
       " ('Break the Spell', 0.8536645770072937),\n",
       " ('Discerning Financier', 0.8198558688163757),\n",
       " ('Dutiful Griffin', 0.8170870542526245),\n",
       " ('Expel the Interlopers', 0.7901948690414429),\n",
       " ('Eerie Interference', 0.7870287895202637),\n",
       " ('Dawn of Hope', 0.7736096978187561),\n",
       " ('Blind Obedience', 0.7703657150268555),\n",
       " ('Cheeky House-Mouse', 0.7637557983398438),\n",
       " (\"Archon's Glory\", 0.7413078546524048)]"
      ]
     },
     "execution_count": 56,
     "metadata": {},
     "output_type": "execute_result"
    }
   ],
   "source": [
    "similar_cards"
   ]
  }
 ],
 "metadata": {
  "kernelspec": {
   "display_name": "env_mtg",
   "language": "python",
   "name": "python3"
  },
  "language_info": {
   "codemirror_mode": {
    "name": "ipython",
    "version": 3
   },
   "file_extension": ".py",
   "mimetype": "text/x-python",
   "name": "python",
   "nbconvert_exporter": "python",
   "pygments_lexer": "ipython3",
   "version": "3.9.18"
  }
 },
 "nbformat": 4,
 "nbformat_minor": 2
}
