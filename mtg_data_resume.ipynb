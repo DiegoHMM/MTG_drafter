{
 "cells": [
  {
   "attachments": {},
   "cell_type": "markdown",
   "id": "a70b5647",
   "metadata": {},
   "source": [
    " ###### Pool_card   -> # de Cartas que o usuário ja selecionou\n",
    " ###### Pack_card   -> # de Cartas que saíram no pacote em questão\n",
    " ###### Pack_Number -> # Rodada do pack atual\n",
    " ###### Pick_Number -> # Rodada do pick atual"
   ]
  },
  {
   "cell_type": "code",
   "execution_count": null,
   "id": "bf350508",
   "metadata": {},
   "outputs": [],
   "source": [
    "import pandas as pd\n",
    "import matplotlib.pyplot as plt\n",
    "import seaborn as sns\n",
    "import numpy as np\n",
    "pd.set_option('display.max_columns', None)\n",
    "#pd.set_option('display.max_rows', None)\n"
   ]
  },
  {
   "cell_type": "code",
   "execution_count": null,
   "id": "ac7068c7",
   "metadata": {},
   "outputs": [],
   "source": [
    "#Read all_decks file and get integer columns\n",
    "df_deck = pd.read_csv(\"Data/all_decks.csv\",nrows=1)\n",
    "#(columns int64 -> int8)\n",
    "columns = []\n",
    "for column in df_deck.columns.unique():\n",
    "    if 'pool_' in column:\n",
    "        columns.append(column)\n",
    "    if 'pack_card_' in column:\n",
    "        columns.append(column)\n",
    "\n",
    "# Make the dtype dict (int64 -> int8)\n",
    "conversion_integers_columns = {item: np.int8 for item in columns}\n",
    "conversion_integers_columns['user_game_win_rate_bucket'] = np.float32\n",
    "conversion_integers_columns['pick'] = 'category'"
   ]
  },
  {
   "cell_type": "code",
   "execution_count": null,
   "id": "68ba748d",
   "metadata": {},
   "outputs": [],
   "source": [
    "df_deck = pd.read_csv(\"Data/all_decks.csv\",dtype=conversion_integers_columns)\n",
    "#best_users_df = pd.read_csv(\"Data/draft_data_best_players_sc.csv\",dtype=conversion_integers_columns)"
   ]
  },
  {
   "attachments": {},
   "cell_type": "markdown",
   "id": "d3afd0ae",
   "metadata": {},
   "source": [
    "# Data Exploration"
   ]
  },
  {
   "cell_type": "code",
   "execution_count": null,
   "id": "4a1b4c18",
   "metadata": {},
   "outputs": [],
   "source": [
    "df_deck.head(2)"
   ]
  },
  {
   "cell_type": "code",
   "execution_count": null,
   "id": "de2b3275",
   "metadata": {},
   "outputs": [],
   "source": [
    "sns.barplot(df_deck,x=df_deck['rank'], y=df_deck['user_game_win_rate_bucket'],estimator='mean', palette=['cyan', 'gray', 'red'])"
   ]
  },
  {
   "cell_type": "code",
   "execution_count": null,
   "id": "52649231",
   "metadata": {},
   "outputs": [],
   "source": [
    "sns.barplot(df_deck,x=df_deck['rank'], y=df_deck['user_n_games_bucket'], palette=['cyan', 'gray', 'red'])"
   ]
  },
  {
   "cell_type": "markdown",
   "id": "2da26201",
   "metadata": {},
   "source": [
    "### First step -> Make the sinergy between the cards\n",
    "    Sinergy = Quantity of if one card appears on one deck -> this other card will appears too."
   ]
  },
  {
   "cell_type": "code",
   "execution_count": null,
   "id": "17e5bc28",
   "metadata": {},
   "outputs": [],
   "source": [
    "df_deck.head(2)"
   ]
  },
  {
   "cell_type": "code",
   "execution_count": null,
   "id": "9295d6be",
   "metadata": {},
   "outputs": [],
   "source": [
    "# Get card list\n",
    "card_list = []\n",
    "for column in df_deck.columns.unique():\n",
    "    if 'pool_' in column:\n",
    "        card = column.replace('pool_','')\n",
    "        card_list.append(card)"
   ]
  },
  {
   "cell_type": "code",
   "execution_count": null,
   "id": "5fa58302",
   "metadata": {},
   "outputs": [],
   "source": [
    "# Build the co-occurrence matrix from frequency\n",
    "frequenciy_matrix = np.array(df_deck[[\"pool_\" + c for c in card_list]])\n",
    "cooccurrence_matrix = np.dot(frequenciy_matrix.transpose(),frequenciy_matrix)\n",
    "cooccurrence_matrix_diagonal = np.diagonal(cooccurrence_matrix)"
   ]
  },
  {
   "cell_type": "code",
   "execution_count": null,
   "id": "e0ade6fb",
   "metadata": {},
   "outputs": [],
   "source": [
    "plt.imshow(np.array(cooccurrence_matrix), cmap=\"Reds\");\n",
    "plt.title('Co-occurrence matrix')"
   ]
  },
  {
   "cell_type": "code",
   "execution_count": null,
   "id": "a6049817",
   "metadata": {},
   "outputs": [],
   "source": [
    "print(f\"Share of card combinations that never happened: {np.sum(cooccurrence_matrix.flatten()==0)/cooccurrence_matrix.flatten().shape[0]*100:2.0f}%\")\n",
    "\n",
    "ty, tx = np.histogram(cooccurrence_matrix.flatten(), bins=5000)\n",
    "plt.figure(figsize=(12,4))\n",
    "plt.plot(tx[1:], ty);\n",
    "plt.yscale('log')\n",
    "plt.xscale('log')\n",
    "plt.title('Histogram of card-pair observations, in log-log scale')\n",
    "plt.xlabel('Number of decks')\n",
    "plt.ylabel('Number of card pairs \\n observed in that many decks');"
   ]
  },
  {
   "cell_type": "code",
   "execution_count": null,
   "id": "7f42b170",
   "metadata": {},
   "outputs": [],
   "source": []
  },
  {
   "cell_type": "code",
   "execution_count": null,
   "id": "dedd6848",
   "metadata": {},
   "outputs": [],
   "source": [
    "# List of cards that weren't drafted, but are in the db\n",
    "occurrences = df_deck[[\"pool_\" + c for c in card_list]].sum()\n",
    "for i in range(len(card_list)):\n",
    "    if occurrences[i]==0:\n",
    "        print(card_list[i])"
   ]
  },
  {
   "cell_type": "code",
   "execution_count": 198,
   "id": "8682a2d6",
   "metadata": {},
   "outputs": [
    {
     "name": "stdout",
     "output_type": "stream",
     "text": [
      "['Adaptive Automaton', 'Aeronaut Cavalry', \"Aeronaut's Wings\", 'Aetherflux Reservoir', 'Air Marshal', 'Airlift Chaplain', 'Alloy Animist', 'Altar of Dementia', 'Ambush Paratrooper', 'Arbalest Engineers', 'Arcane Proxy', 'Argivian Avenger', 'Argoth, Sanctum of Nature', 'Argothian Opportunist', 'Argothian Sprite', 'Arms Race', \"Ashnod's Altar\", \"Ashnod's Harvester\", \"Ashnod's Intervention\", 'Ashnod, Flesh Mechanist', 'Astral Cornucopia', 'Audacity', 'Autonomous Assembler', 'Awaken the Woods', 'Battery Bearer', 'Battlefield Butcher', 'Battlefield Forge', 'Bitter Reunion', 'Blackblade Reforged', 'Bladecoil Serpent', 'Blanchwood Armor', 'Blanchwood Prowler', 'Blast Zone', 'Blitz Automaton', 'Bone Saw', 'Boulderbranch Golem', \"Brotherhood's End\", 'Brushland', 'Burnished Hart', 'Burrowing Razormaw', 'Bushwhack', 'Caged Sun', \"Calamity's Wake\", 'Carrion Locust', 'Chromatic Lantern', 'Chromatic Star', 'Citanul Stalwart', 'Cityscape Leveler', 'Clay Champion', 'Clay Revenant', 'Cloud Key', 'Coastal Bulwark', 'Combat Courier', 'Combat Thresher', 'Conscripted Infantry', 'Corrupt', 'Cradle Clearcutter', 'Curate', 'Deadly Riposte', 'Deathbloom Ritualist', 'Defabricate', 'Defense Grid', 'Demolition Field', 'Depth Charge Colossus', 'Desynchronize', 'Diabolic Intent', 'Disciples of Gix', 'Disenchant', 'Disfigure', 'Door to Nothingness', 'Draconic Destiny', 'Drafna, Founder of Lat-Nam', 'Dreams of Steel and Oil', 'Dredging Claw', 'Dwarven Forge-Chanter', 'Elsewhere Flask', 'Emergency Weld', 'Energy Refractor', 'Epic Confrontation', 'Evangel of Synthesis', 'Evolving Wilds', 'Excavation Explosion', 'Fade from History', 'Fallaji Archaeologist', 'Fallaji Chaindancer', 'Fallaji Dragon Engine', 'Fallaji Excavation', 'Fallaji Vanguard', 'Fateful Handoff', 'Fauna Shaman', 'Feldon, Ronom Excavator', 'Flow of Knowledge', 'Fog of War', 'Forest', 'Forging the Anchor', 'Fortified Beachhead', 'Foundry Inspector', \"Gaea's Courser\", \"Gaea's Gift\", 'Giant Cindermaw', 'Giant Growth', 'Gilded Lotus', \"Gix's Caress\", \"Gix's Command\", 'Gix, Yawgmoth Praetor', 'Gixian Infiltrator', 'Gixian Puppeteer', 'Gixian Skullflayer', 'Gnarlroot Pallbearer', 'Gnawing Vermin', 'Go for the Throat', 'Goblin Blast-Runner', 'Goblin Charbelcher', 'Goblin Firebomb', 'Goring Warplow', 'Great Desert Prospector', 'Gruesome Realization', 'Gurgling Anointer', 'Gwenna, Eyes of Gaea', 'Hajar, Loyal Bodyguard', 'Hall of Tagsin', 'Harbin, Vanguard Aviator', 'Haywire Mite', 'Heavyweight Demolisher', 'Helm of the Host', 'Hero of the Dunes', 'Hoarding Recluse', 'Horned Stoneseeker', 'Hostile Negotiations', 'Howling Mine', 'Hulking Metamorph', \"Hurkyl's Final Meditation\", 'Hurkyl, Master Wizard', 'Ichor Wellspring', 'In the Trenches', 'Inspiring Statuary', 'Involuntary Cooldown', 'Iron-Craw Crusher', 'Island', 'Ivory Tower', 'Jalum Tome', \"Journeyer's Kite\", 'Junkyard Genius', \"Kayla's Command\", \"Kayla's Reconstruction\", 'Keening Stone', 'Keeper of the Cadence', 'Key to the City', 'Kill-Zone Acrobat', 'Koilos Roc', 'Lat-Nam Adept', 'Lay Down Arms', 'Legions to Ashes', 'Levitating Statue', \"Liberator, Urza's Battlethopter\", 'Liquimetal Coating', 'Llanowar Wastes', 'Lodestone Golem', 'Loran of the Third Path', \"Loran's Escape\", 'Loran, Disciple of History', 'Machine Over Matter', 'Mask of the Jadecrafter', 'Mass Production', 'Mazemind Tome', 'Mechanized Warfare', 'Mesmeric Orb', 'Meticulous Excavation', \"Mightstone's Animation\", 'Military Discipline', 'Millstone', \"Mind's Eye\", 'Mine Worker', \"Misery's Shadow\", \"Mishra's Command\", \"Mishra's Domination\", \"Mishra's Foundry\", \"Mishra's Juggernaut\", \"Mishra's Onslaught\", \"Mishra's Research Desk\", 'Mishra, Claimed by Gix', 'Mishra, Excavation Prodigy', 'Mishra, Tamer of Mak Fawa', 'Moment of Defiance', 'Monastery Swiftspear', 'Mountain', 'Mox Amber', 'Myrel, Shield of Argive', 'Mystic Forge', 'No One Left Behind', 'Obliterating Bolt', 'Obstinate Baloth', 'One with the Multiverse', 'Ornithopter', 'Over the Top', 'Overwhelming Remorse', 'Painful Quandary', 'Penregon Strongbull', 'Perennial Behemoth', 'Perilous Vault', 'Perimeter Patrol', 'Phalanx Vanguard', 'Phyrexian Dragon Engine', 'Phyrexian Fleshgorger', 'Phyrexian Processor', 'Phyrexian Revoker', 'Plains', 'Platinum Angel', 'Platoon Dispenser', 'Portal to Phyrexia', 'Power Plant Worker', 'Powerstone Engineer', 'Powerstone Fracture', 'Precursor Golem', 'Prison Sentence', 'Pristine Talisman', 'Psychosis Crawler', 'Pyrrhic Blast', 'Queen Kayla bin-Kroog', 'Quicksilver Amulet', 'Quietus Spike', 'Ramos, Dragon Engine', 'Ravenous Gigamole', 'Raze to the Ground', 'Razorlash Transmogrant', 'Recommission', 'Reconstructed Thopter', 'Recruitment Officer', 'Repair and Recharge', 'Retrieval Agent', 'Roc Hunter', 'Rootwire Amalgam', \"Runechanter's Pike\", 'Rust Goliath', 'Saheeli, Filigree Master', 'Sardian Cliffstomper', 'Sarinth Greatwurm', 'Sarinth Steelseeker', 'Scatter Ray', 'Scrap Trawler', 'Scrapwork Cohort', 'Scrapwork Mutt', 'Scrapwork Rager', 'Sculpting Steel', 'Self-Assembler', 'Semblance Anvil', 'Shoot Down', 'Sibling Rivalry', 'Siege Veteran', 'Sigil of Valor', 'Simian Simulacrum', 'Skitterbeam Battalion', 'Skyfisher Spider', 'Skystrike Officer', 'Slagstone Refinery', 'Soul Partition', 'Soul-Guide Lantern', 'Spectrum Sentinel', 'Splitting the Powerstone', 'Spotter Thopter', 'Springleaf Drum', 'Staff of Domination', 'Static Net', 'Steel Exemplar', 'Steel Seraph', 'Stern Lesson', 'Stone Retrieval Unit', 'Su-Chi Cave Guard', 'Sundering Titan', 'Supply Drop', 'Surge Engine', 'Survivor of Korlis', 'Swamp', 'Swiftfoot Boots', 'Swiftgear Drake', 'Sword of the Meek', 'Symmetry Matrix', 'Take Flight', \"Tawnos's Tinkering\", 'Tawnos, the Toymaker', 'Teething Wurmlet', 'Teferi, Temporal Pilgrim', 'Terisian Mindbreaker', 'The Fall of Kroog', 'The Mightstone and Weakstone', 'The Stasis Coffin', 'The Stone Brain', 'The Temporal Anchor', 'Third Path Iconoclast', 'Third Path Savant', 'Thopter Architect', 'Thopter Mechanic', 'Thorn of Amethyst', 'Thran Power Suit', 'Thran Spider', 'Thran Vigil', 'Thraxodemon', \"Titania's Command\", 'Titania, Voice of Gaea', \"Tocasia's Dig Site\", \"Tocasia's Onulet\", \"Tocasia's Welcome\", 'Tocasia, Dig Site Mentor', 'Tomakul Honor Guard', 'Tomakul Scrapsmith', 'Tower Worker', 'Transmogrant Altar', \"Transmogrant's Crown\", 'Trench Stalker', 'Tyrant of Kher Ridges', 'Underground River', 'Union of the Third Path', 'Unleash Shell', 'Unwinding Clock', \"Urza's Command\", \"Urza's Rebuff\", \"Urza's Sylex\", 'Urza, Lord Protector', 'Urza, Powerstone Prodigy', 'Urza, Prince of Kroog', \"Veteran's Powerblade\", 'Visions of Phyrexia', \"Warlord's Elite\", 'Wasteful Harvest', \"Weakstone's Subjugation\", 'Well of Lost Dreams', 'Whirling Strike', 'Wing Commando', 'Wurmcoil Engine', 'Yotian Dissident', 'Yotian Frontliner', 'Yotian Medic', 'Yotian Tactician', 'Zephyr Sentinel', \"Mishra's Bauble\"]\n"
     ]
    }
   ],
   "source": [
    "print(card_list)"
   ]
  },
  {
   "cell_type": "code",
   "execution_count": null,
   "id": "cf8bf5e7",
   "metadata": {},
   "outputs": [],
   "source": []
  }
 ],
 "metadata": {
  "kernelspec": {
   "display_name": "Python 3",
   "language": "python",
   "name": "python3"
  },
  "language_info": {
   "codemirror_mode": {
    "name": "ipython",
    "version": 3
   },
   "file_extension": ".py",
   "mimetype": "text/x-python",
   "name": "python",
   "nbconvert_exporter": "python",
   "pygments_lexer": "ipython3",
   "version": "3.9.5"
  },
  "vscode": {
   "interpreter": {
    "hash": "81794d4967e6c3204c66dcd87b604927b115b27c00565d3d43f05ba2f3a2cb0d"
   }
  }
 },
 "nbformat": 4,
 "nbformat_minor": 5
}
