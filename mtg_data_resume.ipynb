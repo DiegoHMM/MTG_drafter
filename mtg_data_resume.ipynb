{
 "cells": [
  {
   "attachments": {},
   "cell_type": "markdown",
   "id": "a70b5647",
   "metadata": {},
   "source": [
    " ###### Pool_card   -> # de Cartas que o usuário ja selecionou\n",
    " ###### Pack_card   -> # de Cartas que saíram no pacote em questão\n",
    " ###### Pack_Number -> # Rodada do pack atual\n",
    " ###### Pick_Number -> # Rodada do pick atual"
   ]
  },
  {
   "cell_type": "code",
   "execution_count": 1,
   "id": "bf350508",
   "metadata": {},
   "outputs": [],
   "source": [
    "import pandas as pd\n",
    "import matplotlib.pyplot as plt\n",
    "import seaborn as sns\n",
    "import numpy as np\n",
    "#pd.set_option('display.max_columns', None)\n",
    "#pd.set_option('display.max_rows', None)\n"
   ]
  },
  {
   "cell_type": "code",
   "execution_count": 2,
   "id": "ac7068c7",
   "metadata": {},
   "outputs": [],
   "source": [
    "#Read all_decks file and get integer columns\n",
    "df_deck = pd.read_csv(\"Data/all_decks.csv\",nrows=1)\n",
    "#(columns int64 -> int8)\n",
    "columns = []\n",
    "for column in df_deck.columns.unique():\n",
    "    if 'pool_' in column:\n",
    "        columns.append(column)\n",
    "    if 'pack_card_' in column:\n",
    "        columns.append(column)\n",
    "\n",
    "# Make the dtype dict (int64 -> int8)\n",
    "conversion_integers_columns = {item: np.int8 for item in columns}\n",
    "conversion_integers_columns['user_game_win_rate_bucket'] = np.float32\n",
    "conversion_integers_columns['pick'] = 'category'"
   ]
  },
  {
   "cell_type": "code",
   "execution_count": 3,
   "id": "68ba748d",
   "metadata": {},
   "outputs": [],
   "source": [
    "df_deck = pd.read_csv(\"Data/all_decks.csv\",dtype=conversion_integers_columns)\n",
    "#best_users_df = pd.read_csv(\"Data/draft_data_best_players_sc.csv\",dtype=conversion_integers_columns)"
   ]
  },
  {
   "attachments": {},
   "cell_type": "markdown",
   "id": "d3afd0ae",
   "metadata": {},
   "source": [
    "# Data Exploration"
   ]
  },
  {
   "cell_type": "code",
   "execution_count": 8,
   "id": "4a1b4c18",
   "metadata": {},
   "outputs": [
    {
     "data": {
      "text/html": [
       "<div>\n",
       "<style scoped>\n",
       "    .dataframe tbody tr th:only-of-type {\n",
       "        vertical-align: middle;\n",
       "    }\n",
       "\n",
       "    .dataframe tbody tr th {\n",
       "        vertical-align: top;\n",
       "    }\n",
       "\n",
       "    .dataframe thead th {\n",
       "        text-align: right;\n",
       "    }\n",
       "</style>\n",
       "<table border=\"1\" class=\"dataframe\">\n",
       "  <thead>\n",
       "    <tr style=\"text-align: right;\">\n",
       "      <th></th>\n",
       "      <th>expansion</th>\n",
       "      <th>event_type</th>\n",
       "      <th>draft_id</th>\n",
       "      <th>draft_time</th>\n",
       "      <th>rank</th>\n",
       "      <th>event_match_wins</th>\n",
       "      <th>event_match_losses</th>\n",
       "      <th>pack_number</th>\n",
       "      <th>pick_number</th>\n",
       "      <th>pick</th>\n",
       "      <th>...</th>\n",
       "      <th>pool_Wurmcoil Engine</th>\n",
       "      <th>pool_Yotian Dissident</th>\n",
       "      <th>pool_Yotian Frontliner</th>\n",
       "      <th>pool_Yotian Medic</th>\n",
       "      <th>pool_Yotian Tactician</th>\n",
       "      <th>pool_Zephyr Sentinel</th>\n",
       "      <th>pack_card_Mishra's Bauble</th>\n",
       "      <th>pool_Mishra's Bauble</th>\n",
       "      <th>user_n_games_bucket</th>\n",
       "      <th>user_game_win_rate_bucket</th>\n",
       "    </tr>\n",
       "  </thead>\n",
       "  <tbody>\n",
       "    <tr>\n",
       "      <th>0</th>\n",
       "      <td>BRO</td>\n",
       "      <td>PremierDraft</td>\n",
       "      <td>bcfb83124fd448a18e384b965bd7c133</td>\n",
       "      <td>2022-11-15 21:26:14</td>\n",
       "      <td>diamond</td>\n",
       "      <td>4</td>\n",
       "      <td>3</td>\n",
       "      <td>2</td>\n",
       "      <td>14</td>\n",
       "      <td>Energy Refractor</td>\n",
       "      <td>...</td>\n",
       "      <td>0</td>\n",
       "      <td>0</td>\n",
       "      <td>0</td>\n",
       "      <td>0</td>\n",
       "      <td>0</td>\n",
       "      <td>0</td>\n",
       "      <td>0</td>\n",
       "      <td>0</td>\n",
       "      <td>50</td>\n",
       "      <td>0.60</td>\n",
       "    </tr>\n",
       "    <tr>\n",
       "      <th>1</th>\n",
       "      <td>BRO</td>\n",
       "      <td>PremierDraft</td>\n",
       "      <td>8fe2f3ea79a442138b08d131c3645fc3</td>\n",
       "      <td>2022-11-15 23:03:10</td>\n",
       "      <td>platinum</td>\n",
       "      <td>1</td>\n",
       "      <td>3</td>\n",
       "      <td>2</td>\n",
       "      <td>14</td>\n",
       "      <td>Mine Worker</td>\n",
       "      <td>...</td>\n",
       "      <td>0</td>\n",
       "      <td>0</td>\n",
       "      <td>0</td>\n",
       "      <td>0</td>\n",
       "      <td>0</td>\n",
       "      <td>1</td>\n",
       "      <td>0</td>\n",
       "      <td>0</td>\n",
       "      <td>100</td>\n",
       "      <td>0.56</td>\n",
       "    </tr>\n",
       "  </tbody>\n",
       "</table>\n",
       "<p>2 rows × 684 columns</p>\n",
       "</div>"
      ],
      "text/plain": [
       "  expansion    event_type                          draft_id  \\\n",
       "0       BRO  PremierDraft  bcfb83124fd448a18e384b965bd7c133   \n",
       "1       BRO  PremierDraft  8fe2f3ea79a442138b08d131c3645fc3   \n",
       "\n",
       "            draft_time      rank  event_match_wins  event_match_losses  \\\n",
       "0  2022-11-15 21:26:14   diamond                 4                   3   \n",
       "1  2022-11-15 23:03:10  platinum                 1                   3   \n",
       "\n",
       "   pack_number  pick_number              pick  ...  pool_Wurmcoil Engine  \\\n",
       "0            2           14  Energy Refractor  ...                     0   \n",
       "1            2           14       Mine Worker  ...                     0   \n",
       "\n",
       "   pool_Yotian Dissident  pool_Yotian Frontliner  pool_Yotian Medic  \\\n",
       "0                      0                       0                  0   \n",
       "1                      0                       0                  0   \n",
       "\n",
       "   pool_Yotian Tactician  pool_Zephyr Sentinel  pack_card_Mishra's Bauble  \\\n",
       "0                      0                     0                          0   \n",
       "1                      0                     1                          0   \n",
       "\n",
       "   pool_Mishra's Bauble  user_n_games_bucket  user_game_win_rate_bucket  \n",
       "0                     0                   50                       0.60  \n",
       "1                     0                  100                       0.56  \n",
       "\n",
       "[2 rows x 684 columns]"
      ]
     },
     "execution_count": 8,
     "metadata": {},
     "output_type": "execute_result"
    }
   ],
   "source": [
    "df_deck.head(2)"
   ]
  },
  {
   "cell_type": "code",
   "execution_count": 5,
   "id": "de2b3275",
   "metadata": {},
   "outputs": [
    {
     "data": {
      "text/plain": [
       "<AxesSubplot:xlabel='rank', ylabel='user_game_win_rate_bucket'>"
      ]
     },
     "execution_count": 5,
     "metadata": {},
     "output_type": "execute_result"
    },
    {
     "data": {
      "image/png": "[encoded data removed]",
      "text/plain": [
       "<Figure size 640x480 with 1 Axes>"
      ]
     },
     "metadata": {},
     "output_type": "display_data"
    }
   ],
   "source": [
    "sns.barplot(df_deck,x=df_deck['rank'], y=df_deck['user_game_win_rate_bucket'],estimator='mean', palette=['cyan', 'gray', 'red'])"
   ]
  },
  {
   "cell_type": "code",
   "execution_count": 6,
   "id": "52649231",
   "metadata": {},
   "outputs": [
    {
     "data": {
      "text/plain": [
       "<AxesSubplot:xlabel='rank', ylabel='user_n_games_bucket'>"
      ]
     },
     "execution_count": 6,
     "metadata": {},
     "output_type": "execute_result"
    },
    {
     "data": {
      "image/png": "[encoded data removed]",
      "text/plain": [
       "<Figure size 640x480 with 1 Axes>"
      ]
     },
     "metadata": {},
     "output_type": "display_data"
    }
   ],
   "source": [
    "sns.barplot(df_deck,x=df_deck['rank'], y=df_deck['user_n_games_bucket'], palette=['cyan', 'gray', 'red'])"
   ]
  },
  {
   "cell_type": "markdown",
   "id": "2da26201",
   "metadata": {},
   "source": [
    "### First step -> Make the sinergy between the cards\n",
    "    Sinergy = Quantity of if one card appears on one deck -> this other card will appears too."
   ]
  },
  {
   "cell_type": "code",
   "execution_count": 10,
   "id": "17e5bc28",
   "metadata": {},
   "outputs": [],
   "source": [
    "df_deck['rank'].value_counts()\n",
    "df_filtered = df_deck[df_deck['rank'] == 'mythic'].head(50)"
   ]
  },
  {
   "cell_type": "code",
   "execution_count": 18,
   "id": "9295d6be",
   "metadata": {},
   "outputs": [],
   "source": [
    "card_list = []\n",
    "for column in df_filtered.columns.unique():\n",
    "    if 'pool_' in column:\n",
    "        card = column.replace('pool_','')\n",
    "        card_list.append(card)"
   ]
  },
  {
   "cell_type": "code",
   "execution_count": 22,
   "id": "227e6282",
   "metadata": {},
   "outputs": [
    {
     "ename": "NameError",
     "evalue": "name 'nCards' is not defined",
     "output_type": "error",
     "traceback": [
      "\u001b[1;31m---------------------------------------------------------------------------\u001b[0m",
      "\u001b[1;31mNameError\u001b[0m                                 Traceback (most recent call last)",
      "Cell \u001b[1;32mIn[22], line 3\u001b[0m\n\u001b[0;32m      1\u001b[0m ncards \u001b[39m=\u001b[39m \u001b[39mlen\u001b[39m(card_list)\n\u001b[0;32m      2\u001b[0m pairs \u001b[39m=\u001b[39m [[\u001b[39m0\u001b[39m \u001b[39mfor\u001b[39;00m i \u001b[39min\u001b[39;00m \u001b[39mrange\u001b[39m(ncards)] \u001b[39mfor\u001b[39;00m j \u001b[39min\u001b[39;00m \u001b[39mrange\u001b[39m(ncards)]  \u001b[39m# Cards that were drafted together\u001b[39;00m\n\u001b[1;32m----> 3\u001b[0m freq \u001b[39m=\u001b[39m [\u001b[39m0\u001b[39m]\u001b[39m*\u001b[39mnCards\n\u001b[0;32m      4\u001b[0m guilds \u001b[39m=\u001b[39m [[\u001b[39m0\u001b[39m \u001b[39mfor\u001b[39;00m i \u001b[39min\u001b[39;00m \u001b[39mrange\u001b[39m(\u001b[39m5\u001b[39m)] \u001b[39mfor\u001b[39;00m j \u001b[39min\u001b[39;00m \u001b[39mrange\u001b[39m(\u001b[39m5\u001b[39m)]\n",
      "\u001b[1;31mNameError\u001b[0m: name 'nCards' is not defined"
     ]
    }
   ],
   "source": [
    "n_cards = len(card_list)\n",
    "pairs = [[0 for i in range(n_cards)] for j in range(n_cards)]  # Cards that were drafted together\n",
    "freq = [0]*n_cards\n",
    "guilds = [[0 for i in range(5)] for j in range(5)]"
   ]
  },
  {
   "cell_type": "code",
   "execution_count": null,
   "id": "d574129e",
   "metadata": {},
   "outputs": [],
   "source": []
  },
  {
   "cell_type": "code",
   "execution_count": null,
   "id": "fb0a9e70",
   "metadata": {},
   "outputs": [],
   "source": []
  },
  {
   "cell_type": "code",
   "execution_count": null,
   "id": "5d07163d",
   "metadata": {},
   "outputs": [],
   "source": []
  },
  {
   "cell_type": "code",
   "execution_count": null,
   "id": "5b24dd11",
   "metadata": {},
   "outputs": [],
   "source": []
  },
  {
   "cell_type": "code",
   "execution_count": null,
   "id": "65914024",
   "metadata": {},
   "outputs": [],
   "source": []
  },
  {
   "cell_type": "code",
   "execution_count": null,
   "id": "508ae2f8",
   "metadata": {},
   "outputs": [],
   "source": []
  },
  {
   "cell_type": "code",
   "execution_count": null,
   "id": "01dd18c7",
   "metadata": {},
   "outputs": [],
   "source": []
  },
  {
   "cell_type": "code",
   "execution_count": null,
   "id": "313fd684",
   "metadata": {},
   "outputs": [],
   "source": []
  },
  {
   "cell_type": "code",
   "execution_count": null,
   "id": "a83df132",
   "metadata": {},
   "outputs": [],
   "source": []
  },
  {
   "cell_type": "code",
   "execution_count": null,
   "id": "94be63e2",
   "metadata": {},
   "outputs": [],
   "source": []
  },
  {
   "cell_type": "code",
   "execution_count": null,
   "id": "76cc771e",
   "metadata": {},
   "outputs": [],
   "source": []
  },
  {
   "cell_type": "code",
   "execution_count": null,
   "id": "f2da47a7",
   "metadata": {},
   "outputs": [],
   "source": []
  }
 ],
 "metadata": {
  "kernelspec": {
   "display_name": "Python 3",
   "language": "python",
   "name": "python3"
  },
  "language_info": {
   "codemirror_mode": {
    "name": "ipython",
    "version": 3
   },
   "file_extension": ".py",
   "mimetype": "text/x-python",
   "name": "python",
   "nbconvert_exporter": "python",
   "pygments_lexer": "ipython3",
   "version": "3.9.5"
  },
  "vscode": {
   "interpreter": {
    "hash": "81794d4967e6c3204c66dcd87b604927b115b27c00565d3d43f05ba2f3a2cb0d"
   }
  }
 },
 "nbformat": 4,
 "nbformat_minor": 5
}
