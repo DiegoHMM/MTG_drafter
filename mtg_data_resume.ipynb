{
 "cells": [
  {
   "attachments": {},
   "cell_type": "markdown",
   "id": "a70b5647",
   "metadata": {},
   "source": [
    " ###### Pool_card   -> # de Cartas que o usuário ja selecionou\n",
    " ###### Pack_card   -> # de Cartas que saíram no pacote em questão\n",
    " ###### Pack_Number -> # Rodada do pack atual\n",
    " ###### Pick_Number -> # Rodada do pick atual"
   ]
  },
  {
   "cell_type": "code",
   "execution_count": 99,
   "id": "bf350508",
   "metadata": {},
   "outputs": [],
   "source": [
    "import pandas as pd\n",
    "import matplotlib.pyplot as plt\n",
    "pd.set_option('display.max_columns', None)\n",
    "pd.set_option('display.max_rows', None)\n"
   ]
  },
  {
   "cell_type": "code",
   "execution_count": 102,
   "id": "68ba748d",
   "metadata": {},
   "outputs": [],
   "source": [
    "df_deck = pd.read_csv(\"all_decks.csv\")"
   ]
  },
  {
   "attachments": {},
   "cell_type": "markdown",
   "id": "ef30cba3",
   "metadata": {},
   "source": [
    "# Data Resume"
   ]
  },
  {
   "cell_type": "code",
   "execution_count": null,
   "id": "299dd6a7",
   "metadata": {},
   "outputs": [],
   "source": [
    "all_cards = []\n",
    "for column in df_deck.columns.unique():\n",
    "    if 'pool_' in column:\n",
    "        #c = column.replace('pack_card_','')\n",
    "        all_cards.append(column)"
   ]
  },
  {
   "cell_type": "code",
   "execution_count": null,
   "id": "f74a0d14",
   "metadata": {},
   "outputs": [],
   "source": [
    "# Seleciona Decks de usuários que tenham winrate >= 0.55 ou que sejam Míticos e Que não sejam prata e ouro\n",
    "best_users_df = df_deck[df_deck['user_game_win_rate_bucket'] >= 0.55]\n",
    "best_users_df = best_users_df[(best_users_df['rank'] == 'platinum') | (best_users_df['rank'] == 'diamond') | (best_users_df['rank'] == 'mythic')]"
   ]
  },
  {
   "attachments": {},
   "cell_type": "markdown",
   "id": "d3afd0ae",
   "metadata": {},
   "source": [
    "# Data Exploration"
   ]
  },
  {
   "cell_type": "code",
   "execution_count": null,
   "id": "c74401ac",
   "metadata": {},
   "outputs": [],
   "source": [
    "best_users_df['rank'].value_counts()"
   ]
  },
  {
   "cell_type": "code",
   "execution_count": 101,
   "id": "e741c449",
   "metadata": {},
   "outputs": [
    {
     "data": {
      "text/plain": [
       "<BarContainer object of 25021 artists>"
      ]
     },
     "execution_count": 101,
     "metadata": {},
     "output_type": "execute_result"
    },
    {
     "data": {
      "image/png": "[encoded data removed]",
      "text/plain": [
       "<Figure size 640x480 with 1 Axes>"
      ]
     },
     "metadata": {},
     "output_type": "display_data"
    }
   ],
   "source": [
    "plt.bar(best_users_df['rank'],height=best_users_df['user_game_win_rate_bucket'].mean(), color=['blue', 'cyan', 'red'])"
   ]
  },
  {
   "cell_type": "markdown",
   "id": "2da26201",
   "metadata": {},
   "source": [
    "### First step -> Make the sinergy between the cards\n",
    "    Sinergy = Quantity of if one card appears on one deck -> this other card will appears too."
   ]
  },
  {
   "cell_type": "code",
   "execution_count": 52,
   "id": "17e5bc28",
   "metadata": {},
   "outputs": [
    {
     "data": {
      "text/plain": [
       "platinum    35760\n",
       "gold        18177\n",
       "diamond     11994\n",
       "silver       9563\n",
       "mythic       5469\n",
       "none          221\n",
       "Name: rank, dtype: int64"
      ]
     },
     "execution_count": 52,
     "metadata": {},
     "output_type": "execute_result"
    }
   ],
   "source": [
    "df_deck['rank'].value_counts()\n",
    "df_filtered = df_deck[df_deck['rank'] == 'diamond']"
   ]
  },
  {
   "cell_type": "code",
   "execution_count": null,
   "id": "104f2c81",
   "metadata": {},
   "outputs": [],
   "source": []
  }
 ],
 "metadata": {
  "kernelspec": {
   "display_name": "Python 3",
   "language": "python",
   "name": "python3"
  },
  "language_info": {
   "codemirror_mode": {
    "name": "ipython",
    "version": 3
   },
   "file_extension": ".py",
   "mimetype": "text/x-python",
   "name": "python",
   "nbconvert_exporter": "python",
   "pygments_lexer": "ipython3",
   "version": "3.9.5"
  },
  "vscode": {
   "interpreter": {
    "hash": "81794d4967e6c3204c66dcd87b604927b115b27c00565d3d43f05ba2f3a2cb0d"
   }
  }
 },
 "nbformat": 4,
 "nbformat_minor": 5
}
