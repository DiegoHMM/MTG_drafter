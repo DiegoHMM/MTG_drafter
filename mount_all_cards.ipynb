{
 "cells": [
  {
   "cell_type": "code",
   "execution_count": 1,
   "metadata": {},
   "outputs": [],
   "source": [
    "import requests\n",
    "import pandas as pd"
   ]
  },
  {
   "cell_type": "code",
   "execution_count": 2,
   "metadata": {},
   "outputs": [],
   "source": [
    "#Read all_decks file and get integer columns\n",
    "df_deck = pd.read_csv(\"Data/all_decks.csv\",nrows=1)\n",
    "# Get card list\n",
    "card_list = []\n",
    "for column in df_deck.columns.unique():\n",
    "    if 'pool_' in column:\n",
    "        card = column.replace('pool_','')\n",
    "        card_list.append(card)"
   ]
  },
  {
   "attachments": {},
   "cell_type": "markdown",
   "metadata": {},
   "source": [
    "## Get Cards per SET"
   ]
  },
  {
   "cell_type": "code",
   "execution_count": 2,
   "metadata": {},
   "outputs": [],
   "source": [
    "# api-endpoint\n",
    "SET = 'bro'\n",
    "URL = \"https://api.scryfall.com/cards/search?q=set=\"+SET\n"
   ]
  },
  {
   "cell_type": "code",
   "execution_count": 14,
   "metadata": {},
   "outputs": [],
   "source": [
    "def mount_cards_df(URL, lista):\n",
    "    card_attr_list = lista\n",
    "    r = requests.get(url = URL)\n",
    "    data = r.json()\n",
    "    aux_df = pd.DataFrame()\n",
    "    #Read json\n",
    "    for card in data['data']:\n",
    "\n",
    "        if len(card['color_identity']) == 0:\n",
    "            color_identity = 'T'\n",
    "        elif len(card['color_identity']) > 1:\n",
    "            color_identity = 'M'\n",
    "        else:\n",
    "            color_identity = card['color_identity']\n",
    "\n",
    "        if len(card['colors']) == 0:\n",
    "            colors = 'T'\n",
    "        elif len(card['colors']) > 1:\n",
    "            colors = 'M'\n",
    "        else:\n",
    "            colors = card['colors']\n",
    "        card_attr_list.append(aux_df)\n",
    "        \n",
    "        aux_dict = { 'name': [card['name']],\n",
    "                    'rarity': [card['rarity']],\n",
    "                    'color_identity': color_identity,\n",
    "                    'colors': colors,\n",
    "                }\n",
    "        card_attr_list.append(pd.DataFrame.from_dict(aux_dict))\n",
    "\n",
    "    if data['has_more']:\n",
    "        next_page = data['next_page']\n",
    "        mount_cards_df(next_page, card_attr_list)\n",
    "\n",
    "    return card_attr_list"
   ]
  },
  {
   "cell_type": "code",
   "execution_count": 10,
   "metadata": {},
   "outputs": [],
   "source": [
    "card_attr_list = mount_cards_df(URL,[])\n",
    "card_attr_df = pd.concat(card_attr_list)"
   ]
  },
  {
   "cell_type": "code",
   "execution_count": 15,
   "metadata": {},
   "outputs": [],
   "source": [
    "card_attr_df.to_csv('Data/BRO_cards.csv', index=False)"
   ]
  },
  {
   "attachments": {},
   "cell_type": "markdown",
   "metadata": {},
   "source": [
    "## Get each Card by Name"
   ]
  },
  {
   "cell_type": "code",
   "execution_count": 3,
   "metadata": {},
   "outputs": [],
   "source": [
    "# api-endpoint\n",
    "URL = \"https://api.scryfall.com/cards/named?exact=\""
   ]
  },
  {
   "cell_type": "code",
   "execution_count": 6,
   "metadata": {},
   "outputs": [],
   "source": [
    "card_attr_list = []\n",
    "for card_name in card_list:\n",
    "    r = requests.get(url = URL+card_name)\n",
    "    card = r.json()\n",
    "    aux_df = pd.DataFrame()\n",
    "    if len(card['color_identity']) == 0:\n",
    "        color_identity = 'T'\n",
    "    elif len(card['color_identity']) > 1:\n",
    "        color_identity = 'M'\n",
    "    else:\n",
    "        color_identity = card['color_identity']\n",
    "\n",
    "    if len(card['colors']) == 0:\n",
    "        colors = 'T'\n",
    "    elif len(card['colors']) > 1:\n",
    "        colors = 'M'\n",
    "    else:\n",
    "        colors = card['colors']\n",
    "    card_attr_list.append(aux_df)\n",
    "    \n",
    "    aux_dict = { 'name': [card['name']],\n",
    "                'rarity': [card['rarity']],\n",
    "                'cmc': [card['cmc']],\n",
    "                'color_identity': color_identity,\n",
    "                'colors': colors,\n",
    "            }\n",
    "    card_attr_list.append(pd.DataFrame.from_dict(aux_dict))"
   ]
  },
  {
   "cell_type": "code",
   "execution_count": 7,
   "metadata": {},
   "outputs": [],
   "source": [
    "card_attr_df = pd.concat(card_attr_list)"
   ]
  },
  {
   "cell_type": "code",
   "execution_count": 8,
   "metadata": {},
   "outputs": [],
   "source": [
    "card_attr_df.to_csv('Data/all_cards.csv', index=False)"
   ]
  },
  {
   "cell_type": "code",
   "execution_count": null,
   "metadata": {},
   "outputs": [],
   "source": []
  }
 ],
 "metadata": {
  "kernelspec": {
   "display_name": "Python 3",
   "language": "python",
   "name": "python3"
  },
  "language_info": {
   "codemirror_mode": {
    "name": "ipython",
    "version": 3
   },
   "file_extension": ".py",
   "mimetype": "text/x-python",
   "name": "python",
   "nbconvert_exporter": "python",
   "pygments_lexer": "ipython3",
   "version": "3.9.5"
  },
  "orig_nbformat": 4,
  "vscode": {
   "interpreter": {
    "hash": "81794d4967e6c3204c66dcd87b604927b115b27c00565d3d43f05ba2f3a2cb0d"
   }
  }
 },
 "nbformat": 4,
 "nbformat_minor": 2
}
