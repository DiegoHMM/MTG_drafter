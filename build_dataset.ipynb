{
 "cells": [
  {
   "cell_type": "code",
   "execution_count": 15,
   "metadata": {
    "collapsed": true,
    "ExecuteTime": {
     "end_time": "2023-08-10T20:30:20.583896Z",
     "start_time": "2023-08-10T20:30:20.550253300Z"
    }
   },
   "outputs": [],
   "source": [
    "from utils.handle_data import get_integer_columns_and_dtype, get_cards_metadata, process_and_save_in_batches\n",
    "import pandas as pd\n",
    "import numpy as np\n",
    "import random"
   ]
  },
  {
   "cell_type": "code",
   "execution_count": 16,
   "outputs": [],
   "source": [
    "d_type = get_integer_columns_and_dtype('Handled_data/draft_data_best_players.csv')\n",
    "raw_data = pd.read_csv('Handled_data/draft_data_best_players.csv', dtype=d_type)"
   ],
   "metadata": {
    "collapsed": false,
    "ExecuteTime": {
     "end_time": "2023-08-10T20:31:12.306740400Z",
     "start_time": "2023-08-10T20:30:20.560790100Z"
    }
   }
  },
  {
   "cell_type": "code",
   "execution_count": 17,
   "outputs": [],
   "source": [
    "#groupby draft_id\n",
    "draft_id_group = raw_data.groupby('draft_id')"
   ],
   "metadata": {
    "collapsed": false,
    "ExecuteTime": {
     "end_time": "2023-08-10T20:31:12.321761400Z",
     "start_time": "2023-08-10T20:31:12.307746700Z"
    }
   }
  },
  {
   "cell_type": "code",
   "execution_count": 18,
   "outputs": [],
   "source": [
    "#remove all group with less than 42 rows\n",
    "draft_id_group = draft_id_group.filter(lambda x: len(x) == 42)"
   ],
   "metadata": {
    "collapsed": false,
    "ExecuteTime": {
     "end_time": "2023-08-10T20:31:17.165280100Z",
     "start_time": "2023-08-10T20:31:12.335779300Z"
    }
   }
  },
  {
   "cell_type": "code",
   "execution_count": 19,
   "outputs": [
    {
     "data": {
      "text/plain": "        expansion    event_type                          draft_id  \\\n0             LTR  PremierDraft  c781c9ecd42b493781f95d69b9737e51   \n1             LTR  PremierDraft  c781c9ecd42b493781f95d69b9737e51   \n2             LTR  PremierDraft  c781c9ecd42b493781f95d69b9737e51   \n3             LTR  PremierDraft  c781c9ecd42b493781f95d69b9737e51   \n4             LTR  PremierDraft  c781c9ecd42b493781f95d69b9737e51   \n...           ...           ...                               ...   \n1773956       LTR  PremierDraft  e430b67f33a9487fb7b291453a5de350   \n1773957       LTR  PremierDraft  e430b67f33a9487fb7b291453a5de350   \n1773958       LTR  PremierDraft  e430b67f33a9487fb7b291453a5de350   \n1773959       LTR  PremierDraft  e430b67f33a9487fb7b291453a5de350   \n1773960       LTR  PremierDraft  e430b67f33a9487fb7b291453a5de350   \n\n                  draft_time      rank  event_match_wins  event_match_losses  \\\n0        2023-06-15 19:43:44  platinum                 7                   2   \n1        2023-06-15 19:43:44  platinum                 7                   2   \n2        2023-06-15 19:43:44  platinum                 7                   2   \n3        2023-06-15 19:43:44  platinum                 7                   2   \n4        2023-06-15 19:43:44  platinum                 7                   2   \n...                      ...       ...               ...                 ...   \n1773956  2023-07-04 08:45:00  platinum                 4                   3   \n1773957  2023-07-04 08:45:00  platinum                 4                   3   \n1773958  2023-07-04 08:45:00  platinum                 4                   3   \n1773959  2023-07-04 08:45:00  platinum                 4                   3   \n1773960  2023-07-04 08:45:00  platinum                 4                   3   \n\n         pack_number  pick_number                      pick  ...  \\\n0                  0            0        Ranger's Firebrand  ...   \n1                  0            1             Gollum's Bite  ...   \n2                  0            2         Erebor Flamesmith  ...   \n3                  0            3         Erebor Flamesmith  ...   \n4                  0            4            Hithlain Knots  ...   \n...              ...          ...                       ...  ...   \n1773956            2            9        East-Mark Cavalier  ...   \n1773957            2           10            Hobbit's Sting  ...   \n1773958            2           11  Soldier of the Grey Host  ...   \n1773959            2           12  Soldier of the Grey Host  ...   \n1773960            2           13            Westfold Rider  ...   \n\n         pool_Wose Pathfinder  pool_You Cannot Pass!  \\\n0                           0                      0   \n1                           0                      0   \n2                           0                      0   \n3                           0                      0   \n4                           0                      0   \n...                       ...                    ...   \n1773956                     1                      1   \n1773957                     1                      1   \n1773958                     1                      1   \n1773959                     1                      1   \n1773960                     1                      1   \n\n         pool_Éomer of the Riddermark  pool_Éomer, Marshal of Rohan  \\\n0                                   0                             0   \n1                                   0                             0   \n2                                   0                             0   \n3                                   0                             0   \n4                                   0                             0   \n...                               ...                           ...   \n1773956                             0                             0   \n1773957                             0                             0   \n1773958                             0                             0   \n1773959                             0                             0   \n1773960                             0                             0   \n\n         pool_Éowyn, Fearless Knight  pool_Éowyn, Lady of Rohan  \\\n0                                  0                          0   \n1                                  0                          0   \n2                                  0                          0   \n3                                  0                          0   \n4                                  0                          0   \n...                              ...                        ...   \n1773956                            0                          0   \n1773957                            0                          0   \n1773958                            0                          0   \n1773959                            0                          0   \n1773960                            0                          0   \n\n         pack_card_Dawn of a New Age  pool_Dawn of a New Age  \\\n0                                  0                       0   \n1                                  0                       0   \n2                                  0                       0   \n3                                  0                       0   \n4                                  0                       0   \n...                              ...                     ...   \n1773956                            0                       0   \n1773957                            0                       0   \n1773958                            0                       0   \n1773959                            0                       0   \n1773960                            0                       0   \n\n         user_n_games_bucket  user_game_win_rate_bucket  \n0                         10                       0.60  \n1                         10                       0.60  \n2                         10                       0.60  \n3                         10                       0.60  \n4                         10                       0.60  \n...                      ...                        ...  \n1773956                  100                       0.58  \n1773957                  100                       0.58  \n1773958                  100                       0.58  \n1773959                  100                       0.58  \n1773960                  100                       0.58  \n\n[1762110 rows x 546 columns]",
      "text/html": "<div>\n<style scoped>\n    .dataframe tbody tr th:only-of-type {\n        vertical-align: middle;\n    }\n\n    .dataframe tbody tr th {\n        vertical-align: top;\n    }\n\n    .dataframe thead th {\n        text-align: right;\n    }\n</style>\n<table border=\"1\" class=\"dataframe\">\n  <thead>\n    <tr style=\"text-align: right;\">\n      <th></th>\n      <th>expansion</th>\n      <th>event_type</th>\n      <th>draft_id</th>\n      <th>draft_time</th>\n      <th>rank</th>\n      <th>event_match_wins</th>\n      <th>event_match_losses</th>\n      <th>pack_number</th>\n      <th>pick_number</th>\n      <th>pick</th>\n      <th>...</th>\n      <th>pool_Wose Pathfinder</th>\n      <th>pool_You Cannot Pass!</th>\n      <th>pool_Éomer of the Riddermark</th>\n      <th>pool_Éomer, Marshal of Rohan</th>\n      <th>pool_Éowyn, Fearless Knight</th>\n      <th>pool_Éowyn, Lady of Rohan</th>\n      <th>pack_card_Dawn of a New Age</th>\n      <th>pool_Dawn of a New Age</th>\n      <th>user_n_games_bucket</th>\n      <th>user_game_win_rate_bucket</th>\n    </tr>\n  </thead>\n  <tbody>\n    <tr>\n      <th>0</th>\n      <td>LTR</td>\n      <td>PremierDraft</td>\n      <td>c781c9ecd42b493781f95d69b9737e51</td>\n      <td>2023-06-15 19:43:44</td>\n      <td>platinum</td>\n      <td>7</td>\n      <td>2</td>\n      <td>0</td>\n      <td>0</td>\n      <td>Ranger's Firebrand</td>\n      <td>...</td>\n      <td>0</td>\n      <td>0</td>\n      <td>0</td>\n      <td>0</td>\n      <td>0</td>\n      <td>0</td>\n      <td>0</td>\n      <td>0</td>\n      <td>10</td>\n      <td>0.60</td>\n    </tr>\n    <tr>\n      <th>1</th>\n      <td>LTR</td>\n      <td>PremierDraft</td>\n      <td>c781c9ecd42b493781f95d69b9737e51</td>\n      <td>2023-06-15 19:43:44</td>\n      <td>platinum</td>\n      <td>7</td>\n      <td>2</td>\n      <td>0</td>\n      <td>1</td>\n      <td>Gollum's Bite</td>\n      <td>...</td>\n      <td>0</td>\n      <td>0</td>\n      <td>0</td>\n      <td>0</td>\n      <td>0</td>\n      <td>0</td>\n      <td>0</td>\n      <td>0</td>\n      <td>10</td>\n      <td>0.60</td>\n    </tr>\n    <tr>\n      <th>2</th>\n      <td>LTR</td>\n      <td>PremierDraft</td>\n      <td>c781c9ecd42b493781f95d69b9737e51</td>\n      <td>2023-06-15 19:43:44</td>\n      <td>platinum</td>\n      <td>7</td>\n      <td>2</td>\n      <td>0</td>\n      <td>2</td>\n      <td>Erebor Flamesmith</td>\n      <td>...</td>\n      <td>0</td>\n      <td>0</td>\n      <td>0</td>\n      <td>0</td>\n      <td>0</td>\n      <td>0</td>\n      <td>0</td>\n      <td>0</td>\n      <td>10</td>\n      <td>0.60</td>\n    </tr>\n    <tr>\n      <th>3</th>\n      <td>LTR</td>\n      <td>PremierDraft</td>\n      <td>c781c9ecd42b493781f95d69b9737e51</td>\n      <td>2023-06-15 19:43:44</td>\n      <td>platinum</td>\n      <td>7</td>\n      <td>2</td>\n      <td>0</td>\n      <td>3</td>\n      <td>Erebor Flamesmith</td>\n      <td>...</td>\n      <td>0</td>\n      <td>0</td>\n      <td>0</td>\n      <td>0</td>\n      <td>0</td>\n      <td>0</td>\n      <td>0</td>\n      <td>0</td>\n      <td>10</td>\n      <td>0.60</td>\n    </tr>\n    <tr>\n      <th>4</th>\n      <td>LTR</td>\n      <td>PremierDraft</td>\n      <td>c781c9ecd42b493781f95d69b9737e51</td>\n      <td>2023-06-15 19:43:44</td>\n      <td>platinum</td>\n      <td>7</td>\n      <td>2</td>\n      <td>0</td>\n      <td>4</td>\n      <td>Hithlain Knots</td>\n      <td>...</td>\n      <td>0</td>\n      <td>0</td>\n      <td>0</td>\n      <td>0</td>\n      <td>0</td>\n      <td>0</td>\n      <td>0</td>\n      <td>0</td>\n      <td>10</td>\n      <td>0.60</td>\n    </tr>\n    <tr>\n      <th>...</th>\n      <td>...</td>\n      <td>...</td>\n      <td>...</td>\n      <td>...</td>\n      <td>...</td>\n      <td>...</td>\n      <td>...</td>\n      <td>...</td>\n      <td>...</td>\n      <td>...</td>\n      <td>...</td>\n      <td>...</td>\n      <td>...</td>\n      <td>...</td>\n      <td>...</td>\n      <td>...</td>\n      <td>...</td>\n      <td>...</td>\n      <td>...</td>\n      <td>...</td>\n      <td>...</td>\n    </tr>\n    <tr>\n      <th>1773956</th>\n      <td>LTR</td>\n      <td>PremierDraft</td>\n      <td>e430b67f33a9487fb7b291453a5de350</td>\n      <td>2023-07-04 08:45:00</td>\n      <td>platinum</td>\n      <td>4</td>\n      <td>3</td>\n      <td>2</td>\n      <td>9</td>\n      <td>East-Mark Cavalier</td>\n      <td>...</td>\n      <td>1</td>\n      <td>1</td>\n      <td>0</td>\n      <td>0</td>\n      <td>0</td>\n      <td>0</td>\n      <td>0</td>\n      <td>0</td>\n      <td>100</td>\n      <td>0.58</td>\n    </tr>\n    <tr>\n      <th>1773957</th>\n      <td>LTR</td>\n      <td>PremierDraft</td>\n      <td>e430b67f33a9487fb7b291453a5de350</td>\n      <td>2023-07-04 08:45:00</td>\n      <td>platinum</td>\n      <td>4</td>\n      <td>3</td>\n      <td>2</td>\n      <td>10</td>\n      <td>Hobbit's Sting</td>\n      <td>...</td>\n      <td>1</td>\n      <td>1</td>\n      <td>0</td>\n      <td>0</td>\n      <td>0</td>\n      <td>0</td>\n      <td>0</td>\n      <td>0</td>\n      <td>100</td>\n      <td>0.58</td>\n    </tr>\n    <tr>\n      <th>1773958</th>\n      <td>LTR</td>\n      <td>PremierDraft</td>\n      <td>e430b67f33a9487fb7b291453a5de350</td>\n      <td>2023-07-04 08:45:00</td>\n      <td>platinum</td>\n      <td>4</td>\n      <td>3</td>\n      <td>2</td>\n      <td>11</td>\n      <td>Soldier of the Grey Host</td>\n      <td>...</td>\n      <td>1</td>\n      <td>1</td>\n      <td>0</td>\n      <td>0</td>\n      <td>0</td>\n      <td>0</td>\n      <td>0</td>\n      <td>0</td>\n      <td>100</td>\n      <td>0.58</td>\n    </tr>\n    <tr>\n      <th>1773959</th>\n      <td>LTR</td>\n      <td>PremierDraft</td>\n      <td>e430b67f33a9487fb7b291453a5de350</td>\n      <td>2023-07-04 08:45:00</td>\n      <td>platinum</td>\n      <td>4</td>\n      <td>3</td>\n      <td>2</td>\n      <td>12</td>\n      <td>Soldier of the Grey Host</td>\n      <td>...</td>\n      <td>1</td>\n      <td>1</td>\n      <td>0</td>\n      <td>0</td>\n      <td>0</td>\n      <td>0</td>\n      <td>0</td>\n      <td>0</td>\n      <td>100</td>\n      <td>0.58</td>\n    </tr>\n    <tr>\n      <th>1773960</th>\n      <td>LTR</td>\n      <td>PremierDraft</td>\n      <td>e430b67f33a9487fb7b291453a5de350</td>\n      <td>2023-07-04 08:45:00</td>\n      <td>platinum</td>\n      <td>4</td>\n      <td>3</td>\n      <td>2</td>\n      <td>13</td>\n      <td>Westfold Rider</td>\n      <td>...</td>\n      <td>1</td>\n      <td>1</td>\n      <td>0</td>\n      <td>0</td>\n      <td>0</td>\n      <td>0</td>\n      <td>0</td>\n      <td>0</td>\n      <td>100</td>\n      <td>0.58</td>\n    </tr>\n  </tbody>\n</table>\n<p>1762110 rows × 546 columns</p>\n</div>"
     },
     "execution_count": 19,
     "metadata": {},
     "output_type": "execute_result"
    }
   ],
   "source": [
    "draft_id_group"
   ],
   "metadata": {
    "collapsed": false,
    "ExecuteTime": {
     "end_time": "2023-08-10T20:31:17.586171300Z",
     "start_time": "2023-08-10T20:31:17.166279100Z"
    }
   }
  },
  {
   "cell_type": "code",
   "execution_count": 20,
   "outputs": [],
   "source": [
    "# Seed for reproducibility\n",
    "np.random.seed(42)\n",
    "\n",
    "# Get a list of unique group identifiers (i.e., unique 'draft_id's)\n",
    "unique_ids = draft_id_group['draft_id'].unique()\n",
    "\n",
    "# Sample 20% of the unique identifiers for the test set\n",
    "test_ids = np.random.choice(unique_ids, size=int(len(unique_ids) * 0.20), replace=False)\n",
    "\n",
    "# Create a new list for the remaining ids (those not in test set)\n",
    "remaining_ids = [id for id in unique_ids if id not in test_ids]\n",
    "\n",
    "# Sample 25% of the remaining identifiers for the validation set (0.25 * 0.8 = 0.2)\n",
    "val_ids = np.random.choice(remaining_ids, size=int(len(remaining_ids) * 0.25), replace=False)\n",
    "\n",
    "# The rest (60% of total) goes to the train set\n",
    "train_ids = [id for id in remaining_ids if id not in val_ids]"
   ],
   "metadata": {
    "collapsed": false,
    "ExecuteTime": {
     "end_time": "2023-08-10T20:31:30.153627500Z",
     "start_time": "2023-08-10T20:31:17.634209800Z"
    }
   }
  },
  {
   "cell_type": "code",
   "execution_count": 21,
   "outputs": [],
   "source": [
    "# Create the sets based on the sampled identifiers\n",
    "test_set = draft_id_group[draft_id_group['draft_id'].isin(test_ids)]\n",
    "val_set = draft_id_group[draft_id_group['draft_id'].isin(val_ids)]\n",
    "train_set = draft_id_group[draft_id_group['draft_id'].isin(train_ids)]\n",
    "\n",
    "\n",
    "#save data\n",
    "test_set.to_csv('dataset/test_set.csv', index=False)\n",
    "val_set.to_csv('dataset/val_set.csv', index=False)\n",
    "train_set.to_csv('dataset/train_set.csv', index=False)"
   ],
   "metadata": {
    "collapsed": false,
    "ExecuteTime": {
     "end_time": "2023-08-10T20:33:34.332595Z",
     "start_time": "2023-08-10T20:31:30.155978900Z"
    }
   }
  },
  {
   "cell_type": "markdown",
   "source": [
    "### Add metadata"
   ],
   "metadata": {
    "collapsed": false
   }
  },
  {
   "cell_type": "code",
   "execution_count": 22,
   "outputs": [],
   "source": [
    "#Load all cards data\n",
    "meta_data_card = pd.read_csv('Handled_data/ltr_cards_data.csv')"
   ],
   "metadata": {
    "collapsed": false,
    "ExecuteTime": {
     "end_time": "2023-08-10T20:33:34.360479500Z",
     "start_time": "2023-08-10T20:33:34.337160600Z"
    }
   }
  },
  {
   "cell_type": "code",
   "execution_count": 23,
   "outputs": [
    {
     "data": {
      "text/plain": "                         name  rarity color_identity  cmc colors\n0  Andúril, Flame of the West  mythic              T  3.0      T\n1      Aragorn and Arwen, Wed  mythic              M  6.0      M\n2     Aragorn, Company Leader    rare              M  3.0      M\n3         Aragorn, the Uniter  mythic              M  4.0      M\n4         Arwen, Mortal Queen  mythic              M  3.0      M",
      "text/html": "<div>\n<style scoped>\n    .dataframe tbody tr th:only-of-type {\n        vertical-align: middle;\n    }\n\n    .dataframe tbody tr th {\n        vertical-align: top;\n    }\n\n    .dataframe thead th {\n        text-align: right;\n    }\n</style>\n<table border=\"1\" class=\"dataframe\">\n  <thead>\n    <tr style=\"text-align: right;\">\n      <th></th>\n      <th>name</th>\n      <th>rarity</th>\n      <th>color_identity</th>\n      <th>cmc</th>\n      <th>colors</th>\n    </tr>\n  </thead>\n  <tbody>\n    <tr>\n      <th>0</th>\n      <td>Andúril, Flame of the West</td>\n      <td>mythic</td>\n      <td>T</td>\n      <td>3.0</td>\n      <td>T</td>\n    </tr>\n    <tr>\n      <th>1</th>\n      <td>Aragorn and Arwen, Wed</td>\n      <td>mythic</td>\n      <td>M</td>\n      <td>6.0</td>\n      <td>M</td>\n    </tr>\n    <tr>\n      <th>2</th>\n      <td>Aragorn, Company Leader</td>\n      <td>rare</td>\n      <td>M</td>\n      <td>3.0</td>\n      <td>M</td>\n    </tr>\n    <tr>\n      <th>3</th>\n      <td>Aragorn, the Uniter</td>\n      <td>mythic</td>\n      <td>M</td>\n      <td>4.0</td>\n      <td>M</td>\n    </tr>\n    <tr>\n      <th>4</th>\n      <td>Arwen, Mortal Queen</td>\n      <td>mythic</td>\n      <td>M</td>\n      <td>3.0</td>\n      <td>M</td>\n    </tr>\n  </tbody>\n</table>\n</div>"
     },
     "execution_count": 23,
     "metadata": {},
     "output_type": "execute_result"
    }
   ],
   "source": [
    "meta_data_card.head(5)"
   ],
   "metadata": {
    "collapsed": false,
    "ExecuteTime": {
     "end_time": "2023-08-10T20:33:34.376001200Z",
     "start_time": "2023-08-10T20:33:34.365479300Z"
    }
   }
  },
  {
   "cell_type": "code",
   "execution_count": 24,
   "outputs": [],
   "source": [
    "meta_data_card = get_cards_metadata('Handled_data/ltr_cards_data.csv')"
   ],
   "metadata": {
    "collapsed": false,
    "ExecuteTime": {
     "end_time": "2023-08-10T20:33:34.405544300Z",
     "start_time": "2023-08-10T20:33:34.377506Z"
    }
   }
  },
  {
   "cell_type": "code",
   "execution_count": 25,
   "outputs": [
    {
     "data": {
      "text/plain": "                         name       cmc  id  rarity_common  rarity_mythic  \\\n0  Andúril, Flame of the West  0.002318   0              0              1   \n1      Aragorn and Arwen, Wed  1.977281   1              0              1   \n2     Aragorn, Company Leader  0.002318   2              0              0   \n3         Aragorn, the Uniter  0.660639   3              0              1   \n4         Arwen, Mortal Queen  0.002318   4              0              1   \n\n   rarity_rare  rarity_uncommon  colors_B  colors_G  colors_M  colors_R  \\\n0            0                0         0         0         0         0   \n1            0                0         0         0         1         0   \n2            1                0         0         0         1         0   \n3            0                0         0         0         1         0   \n4            0                0         0         0         1         0   \n\n   colors_T  colors_U  colors_W  \n0         1         0         0  \n1         0         0         0  \n2         0         0         0  \n3         0         0         0  \n4         0         0         0  ",
      "text/html": "<div>\n<style scoped>\n    .dataframe tbody tr th:only-of-type {\n        vertical-align: middle;\n    }\n\n    .dataframe tbody tr th {\n        vertical-align: top;\n    }\n\n    .dataframe thead th {\n        text-align: right;\n    }\n</style>\n<table border=\"1\" class=\"dataframe\">\n  <thead>\n    <tr style=\"text-align: right;\">\n      <th></th>\n      <th>name</th>\n      <th>cmc</th>\n      <th>id</th>\n      <th>rarity_common</th>\n      <th>rarity_mythic</th>\n      <th>rarity_rare</th>\n      <th>rarity_uncommon</th>\n      <th>colors_B</th>\n      <th>colors_G</th>\n      <th>colors_M</th>\n      <th>colors_R</th>\n      <th>colors_T</th>\n      <th>colors_U</th>\n      <th>colors_W</th>\n    </tr>\n  </thead>\n  <tbody>\n    <tr>\n      <th>0</th>\n      <td>Andúril, Flame of the West</td>\n      <td>0.002318</td>\n      <td>0</td>\n      <td>0</td>\n      <td>1</td>\n      <td>0</td>\n      <td>0</td>\n      <td>0</td>\n      <td>0</td>\n      <td>0</td>\n      <td>0</td>\n      <td>1</td>\n      <td>0</td>\n      <td>0</td>\n    </tr>\n    <tr>\n      <th>1</th>\n      <td>Aragorn and Arwen, Wed</td>\n      <td>1.977281</td>\n      <td>1</td>\n      <td>0</td>\n      <td>1</td>\n      <td>0</td>\n      <td>0</td>\n      <td>0</td>\n      <td>0</td>\n      <td>1</td>\n      <td>0</td>\n      <td>0</td>\n      <td>0</td>\n      <td>0</td>\n    </tr>\n    <tr>\n      <th>2</th>\n      <td>Aragorn, Company Leader</td>\n      <td>0.002318</td>\n      <td>2</td>\n      <td>0</td>\n      <td>0</td>\n      <td>1</td>\n      <td>0</td>\n      <td>0</td>\n      <td>0</td>\n      <td>1</td>\n      <td>0</td>\n      <td>0</td>\n      <td>0</td>\n      <td>0</td>\n    </tr>\n    <tr>\n      <th>3</th>\n      <td>Aragorn, the Uniter</td>\n      <td>0.660639</td>\n      <td>3</td>\n      <td>0</td>\n      <td>1</td>\n      <td>0</td>\n      <td>0</td>\n      <td>0</td>\n      <td>0</td>\n      <td>1</td>\n      <td>0</td>\n      <td>0</td>\n      <td>0</td>\n      <td>0</td>\n    </tr>\n    <tr>\n      <th>4</th>\n      <td>Arwen, Mortal Queen</td>\n      <td>0.002318</td>\n      <td>4</td>\n      <td>0</td>\n      <td>1</td>\n      <td>0</td>\n      <td>0</td>\n      <td>0</td>\n      <td>0</td>\n      <td>1</td>\n      <td>0</td>\n      <td>0</td>\n      <td>0</td>\n      <td>0</td>\n    </tr>\n  </tbody>\n</table>\n</div>"
     },
     "execution_count": 25,
     "metadata": {},
     "output_type": "execute_result"
    }
   ],
   "source": [
    "meta_data_card.head(5)"
   ],
   "metadata": {
    "collapsed": false,
    "ExecuteTime": {
     "end_time": "2023-08-10T20:33:34.433350600Z",
     "start_time": "2023-08-10T20:33:34.391030600Z"
    }
   }
  },
  {
   "cell_type": "code",
   "execution_count": 26,
   "outputs": [],
   "source": [
    "process_and_save_in_batches('dataset/train_set.csv', meta_data_card, 'dataset/train',batch_size=42000)\n",
    "process_and_save_in_batches('dataset/test_set.csv', meta_data_card, 'dataset/test',batch_size=42000)\n",
    "process_and_save_in_batches('dataset/val_set.csv', meta_data_card, 'dataset/val',batch_size=42000)\n"
   ],
   "metadata": {
    "collapsed": false,
    "ExecuteTime": {
     "end_time": "2023-08-10T23:03:27.565358500Z",
     "start_time": "2023-08-10T20:33:34.407050800Z"
    }
   }
  },
  {
   "cell_type": "code",
   "execution_count": 26,
   "outputs": [],
   "source": [],
   "metadata": {
    "collapsed": false,
    "ExecuteTime": {
     "end_time": "2023-08-10T23:03:27.572892400Z",
     "start_time": "2023-08-10T23:03:27.566873600Z"
    }
   }
  },
  {
   "cell_type": "code",
   "execution_count": 4,
   "outputs": [],
   "source": [
    "import pickle\n",
    "with open(\"dataset/test_X_2.pkl\", \"rb\") as f:\n",
    "            batch_data = pickle.load(f)"
   ],
   "metadata": {
    "collapsed": false,
    "ExecuteTime": {
     "end_time": "2023-08-11T12:39:31.551014100Z",
     "start_time": "2023-08-11T12:38:32.997969500Z"
    }
   }
  }
 ],
 "metadata": {
  "kernelspec": {
   "display_name": "Python 3",
   "language": "python",
   "name": "python3"
  },
  "language_info": {
   "codemirror_mode": {
    "name": "ipython",
    "version": 2
   },
   "file_extension": ".py",
   "mimetype": "text/x-python",
   "name": "python",
   "nbconvert_exporter": "python",
   "pygments_lexer": "ipython2",
   "version": "2.7.6"
  }
 },
 "nbformat": 4,
 "nbformat_minor": 0
}
