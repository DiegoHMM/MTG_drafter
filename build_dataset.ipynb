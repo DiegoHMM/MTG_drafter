{
 "cells": [
  {
   "cell_type": "code",
   "execution_count": 137,
   "metadata": {
    "collapsed": true,
    "ExecuteTime": {
     "end_time": "2023-08-09T20:09:47.243228400Z",
     "start_time": "2023-08-09T20:09:47.226220500Z"
    }
   },
   "outputs": [],
   "source": [
    "from utils.handle_data import get_integer_columns_and_dtype\n",
    "import pandas as pd\n",
    "import numpy as np\n",
    "import random"
   ]
  },
  {
   "cell_type": "code",
   "execution_count": 69,
   "outputs": [],
   "source": [
    "d_type = get_integer_columns_and_dtype('Handled_data/draft_data_best_players.csv')\n",
    "raw_data = pd.read_csv('Handled_data/draft_data_best_players.csv', dtype=d_type)"
   ],
   "metadata": {
    "collapsed": false,
    "ExecuteTime": {
     "end_time": "2023-08-09T19:10:47.611933800Z",
     "start_time": "2023-08-09T19:09:51.581131500Z"
    }
   }
  },
  {
   "cell_type": "code",
   "execution_count": 70,
   "outputs": [],
   "source": [
    "#Lê metadados dos cards\n",
    "SET = \"ltr_cards_data\"\n",
    "meta_data_cards = pd.read_csv('Handled_data/'+SET+'.csv')"
   ],
   "metadata": {
    "collapsed": false,
    "ExecuteTime": {
     "end_time": "2023-08-09T19:10:47.642625100Z",
     "start_time": "2023-08-09T19:10:47.617104800Z"
    }
   }
  },
  {
   "cell_type": "code",
   "execution_count": 71,
   "outputs": [],
   "source": [
    "#groupby draft_id\n",
    "draft_id_group = raw_data.groupby('draft_id')"
   ],
   "metadata": {
    "collapsed": false,
    "ExecuteTime": {
     "end_time": "2023-08-09T19:10:47.763332100Z",
     "start_time": "2023-08-09T19:10:47.641121500Z"
    }
   }
  },
  {
   "cell_type": "code",
   "execution_count": 72,
   "outputs": [],
   "source": [
    "#remove all group with less than 42 rows\n",
    "draft_id_group = draft_id_group.filter(lambda x: len(x) == 42)"
   ],
   "metadata": {
    "collapsed": false,
    "ExecuteTime": {
     "end_time": "2023-08-09T19:10:53.717976700Z",
     "start_time": "2023-08-09T19:10:47.764332200Z"
    }
   }
  },
  {
   "cell_type": "code",
   "execution_count": 73,
   "outputs": [],
   "source": [
    "# Seed for reproducibility\n",
    "np.random.seed(42)\n",
    "\n",
    "# Get a list of unique group identifiers (i.e., unique 'draft_id's)\n",
    "unique_ids = draft_id_group['draft_id'].unique()\n",
    "\n",
    "# Sample 20% of the unique identifiers for the test set\n",
    "test_ids = np.random.choice(unique_ids, size=int(len(unique_ids) * 0.20), replace=False)\n",
    "\n",
    "# Create a new list for the remaining ids (those not in test set)\n",
    "remaining_ids = [id for id in unique_ids if id not in test_ids]\n",
    "\n",
    "# Sample 25% of the remaining identifiers for the validation set (0.25 * 0.8 = 0.2)\n",
    "val_ids = np.random.choice(remaining_ids, size=int(len(remaining_ids) * 0.25), replace=False)\n",
    "\n",
    "# The rest (60% of total) goes to the train set\n",
    "train_ids = [id for id in remaining_ids if id not in val_ids]"
   ],
   "metadata": {
    "collapsed": false,
    "ExecuteTime": {
     "end_time": "2023-08-09T19:11:06.130685500Z",
     "start_time": "2023-08-09T19:10:53.720975600Z"
    }
   }
  },
  {
   "cell_type": "code",
   "execution_count": 118,
   "outputs": [],
   "source": [
    "# Create the sets based on the sampled identifiers\n",
    "test_set = draft_id_group[draft_id_group['draft_id'].isin(test_ids)]\n",
    "val_set = draft_id_group[draft_id_group['draft_id'].isin(val_ids)]\n",
    "train_set = draft_id_group[draft_id_group['draft_id'].isin(train_ids)]"
   ],
   "metadata": {
    "collapsed": false,
    "ExecuteTime": {
     "end_time": "2023-08-09T19:41:10.326791100Z",
     "start_time": "2023-08-09T19:41:08.329565300Z"
    }
   }
  },
  {
   "cell_type": "code",
   "execution_count": 119,
   "outputs": [],
   "source": [
    "#save data\n",
    "train_set.to_csv('dataset/train_set.csv', index=False)\n",
    "test_set.to_csv('dataset/test_set.csv', index=False)\n",
    "val_set.to_csv('dataset/val_set.csv', index=False)"
   ],
   "metadata": {
    "collapsed": false,
    "ExecuteTime": {
     "end_time": "2023-08-09T19:43:17.756633600Z",
     "start_time": "2023-08-09T19:41:10.329775Z"
    }
   }
  },
  {
   "cell_type": "markdown",
   "source": [
    "### Add metadata"
   ],
   "metadata": {
    "collapsed": false
   }
  },
  {
   "cell_type": "code",
   "execution_count": 138,
   "outputs": [],
   "source": [
    "#Load all cards data\n",
    "meta_data_card = pd.read_csv('Handled_data/ltr_cards_data.csv')"
   ],
   "metadata": {
    "collapsed": false,
    "ExecuteTime": {
     "end_time": "2023-08-09T20:09:57.831781200Z",
     "start_time": "2023-08-09T20:09:57.804870900Z"
    }
   }
  },
  {
   "cell_type": "code",
   "execution_count": 139,
   "outputs": [],
   "source": [
    "meta_data_card['id'] = meta_data_card.index"
   ],
   "metadata": {
    "collapsed": false,
    "ExecuteTime": {
     "end_time": "2023-08-09T20:09:58.948191400Z",
     "start_time": "2023-08-09T20:09:58.895424Z"
    }
   }
  },
  {
   "cell_type": "code",
   "execution_count": 140,
   "outputs": [
    {
     "data": {
      "text/plain": "                            name    rarity color_identity  cmc colors   id\n0     Andúril, Flame of the West    mythic              T  3.0      T    0\n1         Aragorn and Arwen, Wed    mythic              M  6.0      M    1\n2        Aragorn, Company Leader      rare              M  3.0      M    2\n3            Aragorn, the Uniter    mythic              M  4.0      M    3\n4            Arwen, Mortal Queen    mythic              M  3.0      M    4\n..                           ...       ...            ...  ...    ...  ...\n279  Witch-king, Bringer of Ruin      rare              B  6.0      B  279\n280         Witch-king of Angmar    mythic              B  5.0      B  280\n281             Wizard's Rockets    common              T  1.0      T  281\n282              Wose Pathfinder    common              G  2.0      G  282\n283             You Cannot Pass!  uncommon              W  1.0      W  283\n\n[284 rows x 6 columns]",
      "text/html": "<div>\n<style scoped>\n    .dataframe tbody tr th:only-of-type {\n        vertical-align: middle;\n    }\n\n    .dataframe tbody tr th {\n        vertical-align: top;\n    }\n\n    .dataframe thead th {\n        text-align: right;\n    }\n</style>\n<table border=\"1\" class=\"dataframe\">\n  <thead>\n    <tr style=\"text-align: right;\">\n      <th></th>\n      <th>name</th>\n      <th>rarity</th>\n      <th>color_identity</th>\n      <th>cmc</th>\n      <th>colors</th>\n      <th>id</th>\n    </tr>\n  </thead>\n  <tbody>\n    <tr>\n      <th>0</th>\n      <td>Andúril, Flame of the West</td>\n      <td>mythic</td>\n      <td>T</td>\n      <td>3.0</td>\n      <td>T</td>\n      <td>0</td>\n    </tr>\n    <tr>\n      <th>1</th>\n      <td>Aragorn and Arwen, Wed</td>\n      <td>mythic</td>\n      <td>M</td>\n      <td>6.0</td>\n      <td>M</td>\n      <td>1</td>\n    </tr>\n    <tr>\n      <th>2</th>\n      <td>Aragorn, Company Leader</td>\n      <td>rare</td>\n      <td>M</td>\n      <td>3.0</td>\n      <td>M</td>\n      <td>2</td>\n    </tr>\n    <tr>\n      <th>3</th>\n      <td>Aragorn, the Uniter</td>\n      <td>mythic</td>\n      <td>M</td>\n      <td>4.0</td>\n      <td>M</td>\n      <td>3</td>\n    </tr>\n    <tr>\n      <th>4</th>\n      <td>Arwen, Mortal Queen</td>\n      <td>mythic</td>\n      <td>M</td>\n      <td>3.0</td>\n      <td>M</td>\n      <td>4</td>\n    </tr>\n    <tr>\n      <th>...</th>\n      <td>...</td>\n      <td>...</td>\n      <td>...</td>\n      <td>...</td>\n      <td>...</td>\n      <td>...</td>\n    </tr>\n    <tr>\n      <th>279</th>\n      <td>Witch-king, Bringer of Ruin</td>\n      <td>rare</td>\n      <td>B</td>\n      <td>6.0</td>\n      <td>B</td>\n      <td>279</td>\n    </tr>\n    <tr>\n      <th>280</th>\n      <td>Witch-king of Angmar</td>\n      <td>mythic</td>\n      <td>B</td>\n      <td>5.0</td>\n      <td>B</td>\n      <td>280</td>\n    </tr>\n    <tr>\n      <th>281</th>\n      <td>Wizard's Rockets</td>\n      <td>common</td>\n      <td>T</td>\n      <td>1.0</td>\n      <td>T</td>\n      <td>281</td>\n    </tr>\n    <tr>\n      <th>282</th>\n      <td>Wose Pathfinder</td>\n      <td>common</td>\n      <td>G</td>\n      <td>2.0</td>\n      <td>G</td>\n      <td>282</td>\n    </tr>\n    <tr>\n      <th>283</th>\n      <td>You Cannot Pass!</td>\n      <td>uncommon</td>\n      <td>W</td>\n      <td>1.0</td>\n      <td>W</td>\n      <td>283</td>\n    </tr>\n  </tbody>\n</table>\n<p>284 rows × 6 columns</p>\n</div>"
     },
     "execution_count": 140,
     "metadata": {},
     "output_type": "execute_result"
    }
   ],
   "source": [
    "meta_data_card"
   ],
   "metadata": {
    "collapsed": false,
    "ExecuteTime": {
     "end_time": "2023-08-09T20:09:58.948191400Z",
     "start_time": "2023-08-09T20:09:58.934561400Z"
    }
   }
  },
  {
   "cell_type": "code",
   "execution_count": 141,
   "outputs": [],
   "source": [
    "# One-hot encoding para 'rarity'\n",
    "meta_data_card = pd.concat([meta_data_card, pd.get_dummies(meta_data_card['rarity'], prefix='rarity').astype(int)], axis=1)\n",
    "meta_data_card.drop(['rarity'], axis=1, inplace=True)\n",
    "\n",
    "# One-hot encoding para 'colors'\n",
    "meta_data_card = pd.concat([meta_data_card, pd.get_dummies(meta_data_card['colors'], prefix='colors').astype(int)], axis=1)\n",
    "meta_data_card.drop(['colors'], axis=1, inplace=True)\n",
    "\n",
    "# cmc normalization\n",
    "meta_data_card['cmc'] = (meta_data_card['cmc'] - meta_data_card['cmc'].mean()) / meta_data_card['cmc'].std()"
   ],
   "metadata": {
    "collapsed": false,
    "ExecuteTime": {
     "end_time": "2023-08-09T20:09:58.981472500Z",
     "start_time": "2023-08-09T20:09:58.942160500Z"
    }
   }
  },
  {
   "cell_type": "code",
   "execution_count": 193,
   "outputs": [
    {
     "data": {
      "text/plain": "                         name color_identity       cmc  id  rarity_common  \\\n0  Andúril, Flame of the West              T  0.002318   0              0   \n1      Aragorn and Arwen, Wed              M  1.977281   1              0   \n2     Aragorn, Company Leader              M  0.002318   2              0   \n3         Aragorn, the Uniter              M  0.660639   3              0   \n4         Arwen, Mortal Queen              M  0.002318   4              0   \n\n   rarity_mythic  rarity_rare  rarity_uncommon  colors_B  colors_G  colors_M  \\\n0              1            0                0         0         0         0   \n1              1            0                0         0         0         1   \n2              0            1                0         0         0         1   \n3              1            0                0         0         0         1   \n4              1            0                0         0         0         1   \n\n   colors_R  colors_T  colors_U  colors_W  \n0         0         1         0         0  \n1         0         0         0         0  \n2         0         0         0         0  \n3         0         0         0         0  \n4         0         0         0         0  ",
      "text/html": "<div>\n<style scoped>\n    .dataframe tbody tr th:only-of-type {\n        vertical-align: middle;\n    }\n\n    .dataframe tbody tr th {\n        vertical-align: top;\n    }\n\n    .dataframe thead th {\n        text-align: right;\n    }\n</style>\n<table border=\"1\" class=\"dataframe\">\n  <thead>\n    <tr style=\"text-align: right;\">\n      <th></th>\n      <th>name</th>\n      <th>color_identity</th>\n      <th>cmc</th>\n      <th>id</th>\n      <th>rarity_common</th>\n      <th>rarity_mythic</th>\n      <th>rarity_rare</th>\n      <th>rarity_uncommon</th>\n      <th>colors_B</th>\n      <th>colors_G</th>\n      <th>colors_M</th>\n      <th>colors_R</th>\n      <th>colors_T</th>\n      <th>colors_U</th>\n      <th>colors_W</th>\n    </tr>\n  </thead>\n  <tbody>\n    <tr>\n      <th>0</th>\n      <td>Andúril, Flame of the West</td>\n      <td>T</td>\n      <td>0.002318</td>\n      <td>0</td>\n      <td>0</td>\n      <td>1</td>\n      <td>0</td>\n      <td>0</td>\n      <td>0</td>\n      <td>0</td>\n      <td>0</td>\n      <td>0</td>\n      <td>1</td>\n      <td>0</td>\n      <td>0</td>\n    </tr>\n    <tr>\n      <th>1</th>\n      <td>Aragorn and Arwen, Wed</td>\n      <td>M</td>\n      <td>1.977281</td>\n      <td>1</td>\n      <td>0</td>\n      <td>1</td>\n      <td>0</td>\n      <td>0</td>\n      <td>0</td>\n      <td>0</td>\n      <td>1</td>\n      <td>0</td>\n      <td>0</td>\n      <td>0</td>\n      <td>0</td>\n    </tr>\n    <tr>\n      <th>2</th>\n      <td>Aragorn, Company Leader</td>\n      <td>M</td>\n      <td>0.002318</td>\n      <td>2</td>\n      <td>0</td>\n      <td>0</td>\n      <td>1</td>\n      <td>0</td>\n      <td>0</td>\n      <td>0</td>\n      <td>1</td>\n      <td>0</td>\n      <td>0</td>\n      <td>0</td>\n      <td>0</td>\n    </tr>\n    <tr>\n      <th>3</th>\n      <td>Aragorn, the Uniter</td>\n      <td>M</td>\n      <td>0.660639</td>\n      <td>3</td>\n      <td>0</td>\n      <td>1</td>\n      <td>0</td>\n      <td>0</td>\n      <td>0</td>\n      <td>0</td>\n      <td>1</td>\n      <td>0</td>\n      <td>0</td>\n      <td>0</td>\n      <td>0</td>\n    </tr>\n    <tr>\n      <th>4</th>\n      <td>Arwen, Mortal Queen</td>\n      <td>M</td>\n      <td>0.002318</td>\n      <td>4</td>\n      <td>0</td>\n      <td>1</td>\n      <td>0</td>\n      <td>0</td>\n      <td>0</td>\n      <td>0</td>\n      <td>1</td>\n      <td>0</td>\n      <td>0</td>\n      <td>0</td>\n      <td>0</td>\n    </tr>\n  </tbody>\n</table>\n</div>"
     },
     "execution_count": 193,
     "metadata": {},
     "output_type": "execute_result"
    }
   ],
   "source": [
    "meta_data_card.head(5)"
   ],
   "metadata": {
    "collapsed": false,
    "ExecuteTime": {
     "end_time": "2023-08-09T20:26:58.423799700Z",
     "start_time": "2023-08-09T20:26:58.416767500Z"
    }
   }
  },
  {
   "cell_type": "code",
   "execution_count": 146,
   "outputs": [],
   "source": [],
   "metadata": {
    "collapsed": false,
    "ExecuteTime": {
     "end_time": "2023-08-09T20:10:39.537579300Z",
     "start_time": "2023-08-09T20:10:39.515925100Z"
    }
   }
  },
  {
   "cell_type": "code",
   "execution_count": 147,
   "outputs": [],
   "source": [
    "grouped = test_set.groupby('draft_id')\n",
    "\n",
    "X = []  # Lista para armazenar sequências de entrada\n",
    "y = []  # Lista para armazenar sequências de saída\n",
    "\n",
    "# Função para obter características da carta\n",
    "def get_card_features(card_name):\n",
    "    card_row = meta_data_card[meta_data_card['name'] == card_name].squeeze()\n",
    "    return [card_row['id'], card_row['cmc'], card_row['colors'], card_row['rarity']]\n",
    "\n"
   ],
   "metadata": {
    "collapsed": false,
    "ExecuteTime": {
     "end_time": "2023-08-09T20:10:40.628427900Z",
     "start_time": "2023-08-09T20:10:40.591810300Z"
    }
   }
  },
  {
   "cell_type": "code",
   "execution_count": 177,
   "outputs": [],
   "source": [
    "# Convert meta_data_card to a dictionary for faster lookups\n",
    "card_features_dict = meta_data_card.set_index('name').T.to_dict('list')\n",
    "\n",
    "def get_card_features(card_name):\n",
    "    \"\"\"Retrieve card features from the dictionary.\"\"\"\n",
    "    return card_features_dict[card_name]\n",
    "\n",
    "grouped = test_set[:42].groupby('draft_id')\n",
    "X = []  # List to store input sequences\n",
    "y = []  # List to store output sequences\n",
    "\n",
    "for _, group in grouped:\n",
    "    sequence = []\n",
    "    for index, row in group.iterrows():\n",
    "        # Identify which cards are available in this row\n",
    "        available_cards = [col.split(\"pack_card_\")[1] for col in row.filter(like='pack_card_').index if row[col] == 1]\n",
    "\n",
    "        # For each available card, get its features\n",
    "        available_cards_features = [get_card_features(card_name) for card_name in available_cards]\n",
    "        sequence.append(available_cards_features)\n",
    "\n",
    "        # The output is the pick column\n",
    "        y.append(row['pick'])\n",
    "\n",
    "    X.append(sequence)"
   ],
   "metadata": {
    "collapsed": false,
    "ExecuteTime": {
     "end_time": "2023-08-09T20:22:35.666732700Z",
     "start_time": "2023-08-09T20:22:35.574577300Z"
    }
   }
  },
  {
   "cell_type": "code",
   "execution_count": null,
   "outputs": [],
   "source": [],
   "metadata": {
    "collapsed": false
   }
  }
 ],
 "metadata": {
  "kernelspec": {
   "display_name": "Python 3",
   "language": "python",
   "name": "python3"
  },
  "language_info": {
   "codemirror_mode": {
    "name": "ipython",
    "version": 2
   },
   "file_extension": ".py",
   "mimetype": "text/x-python",
   "name": "python",
   "nbconvert_exporter": "python",
   "pygments_lexer": "ipython2",
   "version": "2.7.6"
  }
 },
 "nbformat": 4,
 "nbformat_minor": 0
}
