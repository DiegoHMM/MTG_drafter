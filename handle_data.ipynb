{
 "cells": [
  {
   "attachments": {},
   "cell_type": "markdown",
   "metadata": {},
   "source": [
    "# Resume draft_data"
   ]
  },
  {
   "attachments": {},
   "cell_type": "markdown",
   "metadata": {},
   "source": [
    "### Select Columns"
   ]
  },
  {
   "cell_type": "code",
   "execution_count": 1,
   "metadata": {},
   "outputs": [],
   "source": [
    "import pandas as pd\n",
    "import numpy as np"
   ]
  },
  {
   "cell_type": "code",
   "execution_count": 2,
   "metadata": {},
   "outputs": [],
   "source": [
    "#Read all_decks file and get integer columns\n",
    "df = pd.read_csv(\"Data/draft_data_public_BRO_PremierDraft.csv\",nrows=1)\n",
    "#(columns int64 -> int8)\n",
    "columns = []\n",
    "for column in df.columns.unique():\n",
    "    if 'pool_' in column:\n",
    "        columns.append(column)\n",
    "    if 'pack_card_' in column:\n",
    "        columns.append(column)\n",
    "\n",
    "# Make the dtype dict (int64 -> int8)\n",
    "conversion_integers_columns = {item: np.int8 for item in columns}\n",
    "conversion_integers_columns['user_game_win_rate_bucket'] = np.float32\n",
    "conversion_integers_columns['pick'] = 'category'"
   ]
  },
  {
   "attachments": {},
   "cell_type": "markdown",
   "metadata": {},
   "source": [
    "### Transform columns"
   ]
  },
  {
   "cell_type": "code",
   "execution_count": 3,
   "metadata": {},
   "outputs": [],
   "source": [
    "import pandas as pd\n",
    "\n",
    "best_players_pick_list = []\n",
    "df = pd.read_csv(\"Data/draft_data_public_BRO_PremierDraft.csv\", chunksize=100000, dtype=conversion_integers_columns)\n",
    "for chunk in df:\n",
    "    best_players_pick_list.append(chunk[(chunk['rank'] == 'platinum') | (chunk['rank'] == 'diamond') | (chunk['rank'] == 'mythic')])"
   ]
  },
  {
   "cell_type": "code",
   "execution_count": 4,
   "metadata": {},
   "outputs": [],
   "source": [
    "# Concat and create new .csv file\n",
    "best_players_df = pd.concat(best_players_pick_list)\n",
    "best_players_df.to_csv(\"Data/draft_data_best_players.csv\", index=False)"
   ]
  },
  {
   "attachments": {},
   "cell_type": "markdown",
   "metadata": {},
   "source": [
    "## Create all_decks_file"
   ]
  },
  {
   "cell_type": "code",
   "execution_count": 5,
   "metadata": {},
   "outputs": [],
   "source": [
    "best_players_df = pd.read_csv(\"Data/draft_data_best_players.csv\", dtype=conversion_integers_columns)"
   ]
  },
  {
   "cell_type": "code",
   "execution_count": 6,
   "metadata": {},
   "outputs": [],
   "source": [
    "# Get the last pick of last pack\n",
    "df_deck = best_players_df[(best_players_df['pack_number'] == 2) & (best_players_df['pick_number'] == 14)]"
   ]
  },
  {
   "cell_type": "code",
   "execution_count": 7,
   "metadata": {},
   "outputs": [],
   "source": [
    "# Create all_decks.csv file\n",
    "df_deck.to_csv(\"Data/all_decks.csv\", index=False)"
   ]
  },
  {
   "cell_type": "code",
   "execution_count": 8,
   "metadata": {},
   "outputs": [],
   "source": [
    "del best_players_df"
   ]
  },
  {
   "attachments": {},
   "cell_type": "markdown",
   "metadata": {},
   "source": [
    "# Add stop cards on dataframe"
   ]
  },
  {
   "cell_type": "code",
   "execution_count": 9,
   "metadata": {},
   "outputs": [],
   "source": [
    "import pandas as pd\n",
    "df_deck = pd.read_csv(\"Data/all_decks.csv\", dtype=conversion_integers_columns)\n",
    "# Insert a stop word to finish the deck\n",
    "df_deck['pool_Energy Refractor'].head(1)\n",
    "df_stops = df_deck.copy(deep=True)\n",
    "df_stops.head(1)\n",
    "\n",
    "#Zera as cartas do pack atual (nenhum pack foi aberto)\n",
    "df_stops.loc[:, df_stops.columns.str.startswith('pack_card_')] = 0\n",
    "\n",
    "#Adicionar a ultima carta aberta na pool do deck\n",
    "picked_cards = df_stops['pick'].unique()\n",
    "# Adicionar ultimo pick (#15) como palavra chave: \"last\"\n",
    "df_stops['pick_number'] = 15\n",
    "df_stops['pick'] = 'last'\n",
    "for card in picked_cards:\n",
    "    df_stops.loc[df_stops['pick'] == card,'pool_'+card] = df_stops[df_stops['pick'] == card]['pool_'+card] + 1\n",
    "\n",
    "del df_deck"
   ]
  },
  {
   "cell_type": "code",
   "execution_count": 10,
   "metadata": {},
   "outputs": [],
   "source": [
    "df_stops.to_csv(\"Data/df_stops.csv\",index=False)"
   ]
  },
  {
   "cell_type": "code",
   "execution_count": 11,
   "metadata": {},
   "outputs": [],
   "source": [
    "# Load Entire Dataframe\n",
    "best_players_pick_df = pd.read_csv(\"Data/draft_data_best_players.csv\", dtype=conversion_integers_columns)\n",
    "# Add Stops Values on big Dataframe\n",
    "best_players_pick_df = pd.concat([best_players_pick_df,df_stops])\n",
    "# To csv (with stops cards)\n",
    "best_players_pick_df.to_csv(\"Data/draft_data_best_players_sc.csv\",index=False)"
   ]
  },
  {
   "cell_type": "code",
   "execution_count": 12,
   "metadata": {},
   "outputs": [],
   "source": [
    "del best_players_pick_df\n",
    "del df_stops"
   ]
  },
  {
   "attachments": {},
   "cell_type": "markdown",
   "metadata": {},
   "source": [
    "## Update all_decks_file with all rows as last pick"
   ]
  },
  {
   "cell_type": "code",
   "execution_count": 14,
   "metadata": {},
   "outputs": [],
   "source": [
    "best_players_df = pd.read_csv(\"Data/draft_data_best_players_sc.csv\", dtype=conversion_integers_columns)"
   ]
  },
  {
   "cell_type": "code",
   "execution_count": 15,
   "metadata": {},
   "outputs": [],
   "source": [
    "# Get the last pick of last pack\n",
    "df_deck = best_players_df[(best_players_df['pack_number'] == 2) & (best_players_df['pick_number'] == 15)]"
   ]
  },
  {
   "cell_type": "code",
   "execution_count": 16,
   "metadata": {},
   "outputs": [],
   "source": [
    "# Create all_decks.csv file\n",
    "df_deck.to_csv(\"Data/all_decks.csv\", index=False)\n",
    "del df_deck"
   ]
  },
  {
   "cell_type": "code",
   "execution_count": null,
   "metadata": {},
   "outputs": [],
   "source": []
  }
 ],
 "metadata": {
  "kernelspec": {
   "display_name": "Python 3",
   "language": "python",
   "name": "python3"
  },
  "language_info": {
   "codemirror_mode": {
    "name": "ipython",
    "version": 3
   },
   "file_extension": ".py",
   "mimetype": "text/x-python",
   "name": "python",
   "nbconvert_exporter": "python",
   "pygments_lexer": "ipython3",
   "version": "3.9.5"
  },
  "orig_nbformat": 4,
  "vscode": {
   "interpreter": {
    "hash": "81794d4967e6c3204c66dcd87b604927b115b27c00565d3d43f05ba2f3a2cb0d"
   }
  }
 },
 "nbformat": 4,
 "nbformat_minor": 2
}
