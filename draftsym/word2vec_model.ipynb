{
 "cells": [
  {
   "cell_type": "code",
   "execution_count": 1,
   "metadata": {},
   "outputs": [],
   "source": [
    "import pandas as pd\n",
    "import ast"
   ]
  },
  {
   "cell_type": "code",
   "execution_count": 2,
   "metadata": {},
   "outputs": [
    {
     "name": "stdout",
     "output_type": "stream",
     "text": [
      "All drafting agents presented below were trained and evalu-\n",
      "ated on drafts of a single MtG set, Core Set 2019 (abbreviated\n",
      "as M19). This set contains 265 mechanically different cards:\n",
      "16 mythic rare cards, 53 rare cards, 80 uncommon cards, 111\n",
      "common cards, and 5 basic lands. We obtained a total of\n",
      "107,949 user M19 drafts and split these into a training set of\n",
      "86,359 drafts and a testing set of 21,590 drafts (an 80/20 split).\n",
      "As each draft contains 24 unique packs of cards, a total of\n",
      "2,072,616 packs were seen by drafting agents during training,\n",
      "and a total of 518,160 packs were used to evaluate the drafting\n",
      "agents’ performances.\n"
     ]
    }
   ],
   "source": [
    "print(\"\"\"All drafting agents presented below were trained and evalu-\n",
    "ated on drafts of a single MtG set, Core Set 2019 (abbreviated\n",
    "as M19). This set contains 265 mechanically different cards:\n",
    "16 mythic rare cards, 53 rare cards, 80 uncommon cards, 111\n",
    "common cards, and 5 basic lands. We obtained a total of\n",
    "107,949 user M19 drafts and split these into a training set of\n",
    "86,359 drafts and a testing set of 21,590 drafts (an 80/20 split).\n",
    "As each draft contains 24 unique packs of cards, a total of\n",
    "2,072,616 packs were seen by drafting agents during training,\n",
    "and a total of 518,160 packs were used to evaluate the drafting\n",
    "agents’ performances.\"\"\")"
   ]
  },
  {
   "cell_type": "code",
   "execution_count": 4,
   "metadata": {},
   "outputs": [],
   "source": [
    "df_train = pd.read_csv('dataset/train.csv')\n",
    "df_test = pd.read_csv('dataset/teste.csv')"
   ]
  },
  {
   "cell_type": "code",
   "execution_count": 5,
   "metadata": {},
   "outputs": [],
   "source": [
    "#selecione todas as pools completas\n",
    "def get_all_pools(df):\n",
    "    p = []\n",
    "    complete_pools = df[df['pick'].isnull()]['pool']\n",
    "\n",
    "    # Printando as pools completas\n",
    "    for _, pool in enumerate(complete_pools):\n",
    "        p.append(pool)\n",
    "    return p"
   ]
  },
  {
   "cell_type": "code",
   "execution_count": 6,
   "metadata": {},
   "outputs": [],
   "source": [
    "p = get_all_pools(df_train)\n",
    "p = p + get_all_pools(df_test)\n"
   ]
  },
  {
   "cell_type": "code",
   "execution_count": 7,
   "metadata": {},
   "outputs": [],
   "source": [
    "def processar_string_entrada(s):\n",
    "    try:\n",
    "        return ast.literal_eval(s)\n",
    "    except (ValueError, SyntaxError):\n",
    "        return []\n",
    "\n",
    "decks = [processar_string_entrada(pool) for pool in p]"
   ]
  },
  {
   "cell_type": "code",
   "execution_count": 8,
   "metadata": {},
   "outputs": [],
   "source": [
    "from gensim.models import Word2Vec\n",
    "\n",
    "# Treine o modelo Word2Vec\n",
    "model = Word2Vec(sentences=decks, vector_size=50, window=22, min_count=1, workers=4)\n",
    "\n",
    "# Salve o modelo para uso futuro\n",
    "model.save(\"card2vec.model\")"
   ]
  },
  {
   "cell_type": "code",
   "execution_count": 9,
   "metadata": {},
   "outputs": [],
   "source": [
    "from gensim.models import Word2Vec\n",
    "# Carregue o modelo treinado (se necessário)\n",
    "model = Word2Vec.load(\"card2vec.model\")\n",
    "\n",
    "# Obtenha o vetor (embedding) de uma carta específica\n",
    "vector = model.wv['Pelakka_Wurm']\n",
    "\n",
    "# Encontre cartas semelhantes a uma dada carta\n",
    "similar_cards = model.wv.most_similar(\"Pelakka_Wurm\", topn=10)"
   ]
  },
  {
   "cell_type": "code",
   "execution_count": 10,
   "metadata": {},
   "outputs": [
    {
     "data": {
      "text/plain": [
       "[('Hungering_Hydra', 0.9448215961456299),\n",
       " ('Vivien_Reid', 0.9259287714958191),\n",
       " ('Prodigious_Growth', 0.9213823676109314),\n",
       " (\"Vivien's_Invocation\", 0.9188938140869141),\n",
       " ('Goreclaw_Terror_of_Qal_Sisma', 0.9031679630279541),\n",
       " ('Thorn_Lieutenant', 0.8827229738235474),\n",
       " ('Runic_Armasaur', 0.8797288537025452),\n",
       " ('Naturalize', 0.8742726445198059),\n",
       " ('Vigilant_Baloth', 0.8720800280570984),\n",
       " ('Vine_Mare', 0.8718402981758118)]"
      ]
     },
     "execution_count": 10,
     "metadata": {},
     "output_type": "execute_result"
    }
   ],
   "source": [
    "similar_cards"
   ]
  },
  {
   "cell_type": "code",
   "execution_count": 11,
   "metadata": {},
   "outputs": [
    {
     "data": {
      "text/plain": [
       "[('Hungering_Hydra', 0.9536246657371521),\n",
       " ('Vivien_Reid', 0.9517207145690918),\n",
       " (\"Vivien's_Invocation\", 0.935676097869873),\n",
       " ('Prodigious_Growth', 0.9291155934333801),\n",
       " ('Runic_Armasaur', 0.9145711660385132),\n",
       " ('Goreclaw_Terror_of_Qal_Sisma', 0.906317949295044),\n",
       " ('Naturalize', 0.896217942237854),\n",
       " ('Vine_Mare', 0.891160249710083),\n",
       " ('Plummet', 0.8886868953704834),\n",
       " ('Vigilant_Baloth', 0.887392520904541)]"
      ]
     },
     "execution_count": 11,
     "metadata": {},
     "output_type": "execute_result"
    }
   ],
   "source": [
    "from gensim.models import Word2Vec\n",
    "# Carregue o modelo treinado (se necessário)\n",
    "model = Word2Vec.load(\"card2vec_ori.model\")\n",
    "\n",
    "# Obtenha o vetor (embedding) de uma carta específica\n",
    "vector = model.wv['Pelakka_Wurm']\n",
    "\n",
    "# Encontre cartas semelhantes a uma dada carta\n",
    "similar_cards = model.wv.most_similar(\"Pelakka_Wurm\", topn=10)\n",
    "\n",
    "similar_cards"
   ]
  },
  {
   "cell_type": "code",
   "execution_count": null,
   "metadata": {},
   "outputs": [],
   "source": []
  }
 ],
 "metadata": {
  "kernelspec": {
   "display_name": "mtg_env",
   "language": "python",
   "name": "python3"
  },
  "language_info": {
   "codemirror_mode": {
    "name": "ipython",
    "version": 3
   },
   "file_extension": ".py",
   "mimetype": "text/x-python",
   "name": "python",
   "nbconvert_exporter": "python",
   "pygments_lexer": "ipython3",
   "version": "3.9.18"
  },
  "orig_nbformat": 4
 },
 "nbformat": 4,
 "nbformat_minor": 2
}
