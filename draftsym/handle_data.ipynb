{
 "cells": [
  {
   "cell_type": "code",
   "execution_count": 1,
   "metadata": {},
   "outputs": [],
   "source": [
    "import pandas as pd\n",
    "import numpy as np\n",
    "import yaml\n"
   ]
  },
  {
   "cell_type": "code",
   "execution_count": 2,
   "metadata": {},
   "outputs": [],
   "source": [
    "fi = open('config.yaml', 'r')\n",
    "data = yaml.load(fi, Loader=yaml.FullLoader)\n",
    "\n",
    "card_dict = {}\n",
    "for i, card_name in enumerate(data['cards_list']):\n",
    "    card_dict[card_name] = i"
   ]
  },
  {
   "cell_type": "code",
   "execution_count": 4,
   "metadata": {},
   "outputs": [],
   "source": [
    "import ast\n",
    "\n",
    "train_df = pd.read_csv('dataset/train.csv')\n",
    "test_df = pd.read_csv('dataset/test.csv')\n",
    "\n",
    "#Transforma available para tipo lista\n",
    "train_df['available'] = train_df['available'].apply(ast.literal_eval)\n",
    "test_df['available'] = test_df['available'].apply(ast.literal_eval)\n",
    "\n",
    "# Adicionar o valor da coluna \"pick\" à lista na coluna \"available\"\n",
    "train_df['available'] = train_df.apply(lambda row: row['available'] + [row['pick']], axis=1)\n",
    "test_df['available'] = test_df.apply(lambda row: row['available'] + [row['pick']], axis=1)\n",
    "\n",
    "#\n",
    "train_df = train_df.dropna()\n",
    "test_df = test_df.dropna()"
   ]
  },
  {
   "cell_type": "code",
   "execution_count": 8,
   "metadata": {},
   "outputs": [
    {
     "data": {
      "text/html": [
       "<div>\n",
       "<style scoped>\n",
       "    .dataframe tbody tr th:only-of-type {\n",
       "        vertical-align: middle;\n",
       "    }\n",
       "\n",
       "    .dataframe tbody tr th {\n",
       "        vertical-align: top;\n",
       "    }\n",
       "\n",
       "    .dataframe thead th {\n",
       "        text-align: right;\n",
       "    }\n",
       "</style>\n",
       "<table border=\"1\" class=\"dataframe\">\n",
       "  <thead>\n",
       "    <tr style=\"text-align: right;\">\n",
       "      <th></th>\n",
       "      <th>Unnamed: 0</th>\n",
       "      <th>#_draft</th>\n",
       "      <th>#_round</th>\n",
       "      <th>pick</th>\n",
       "      <th>available</th>\n",
       "      <th>pool</th>\n",
       "    </tr>\n",
       "  </thead>\n",
       "  <tbody>\n",
       "    <tr>\n",
       "      <th>0</th>\n",
       "      <td>0</td>\n",
       "      <td>1</td>\n",
       "      <td>1</td>\n",
       "      <td>Skyrider_Patrol</td>\n",
       "      <td>[Hungering_Hydra, Electrify, Gallant_Cavalry, ...</td>\n",
       "      <td>[]</td>\n",
       "    </tr>\n",
       "    <tr>\n",
       "      <th>1</th>\n",
       "      <td>1</td>\n",
       "      <td>1</td>\n",
       "      <td>2</td>\n",
       "      <td>Strangling_Spores</td>\n",
       "      <td>[Ajani's_Pridemate, Aviation_Pioneer, Snapping...</td>\n",
       "      <td>['Skyrider_Patrol']</td>\n",
       "    </tr>\n",
       "    <tr>\n",
       "      <th>2</th>\n",
       "      <td>2</td>\n",
       "      <td>1</td>\n",
       "      <td>3</td>\n",
       "      <td>Ajani's_Pridemate</td>\n",
       "      <td>[Volcanic_Dragon, Hostile_Minotaur, Rustwing_F...</td>\n",
       "      <td>['Skyrider_Patrol', 'Strangling_Spores']</td>\n",
       "    </tr>\n",
       "    <tr>\n",
       "      <th>3</th>\n",
       "      <td>3</td>\n",
       "      <td>1</td>\n",
       "      <td>4</td>\n",
       "      <td>Bristling_Boar</td>\n",
       "      <td>[Boggart_Brute, One_with_the_Machine, Epicure_...</td>\n",
       "      <td>['Skyrider_Patrol', 'Strangling_Spores', \"Ajan...</td>\n",
       "    </tr>\n",
       "    <tr>\n",
       "      <th>4</th>\n",
       "      <td>4</td>\n",
       "      <td>1</td>\n",
       "      <td>5</td>\n",
       "      <td>Colossal_Dreadmaw</td>\n",
       "      <td>[Fiery_Finish, Hostile_Minotaur, Psychic_Corro...</td>\n",
       "      <td>['Skyrider_Patrol', 'Strangling_Spores', \"Ajan...</td>\n",
       "    </tr>\n",
       "  </tbody>\n",
       "</table>\n",
       "</div>"
      ],
      "text/plain": [
       "   Unnamed: 0  #_draft  #_round               pick  \\\n",
       "0           0        1        1    Skyrider_Patrol   \n",
       "1           1        1        2  Strangling_Spores   \n",
       "2           2        1        3  Ajani's_Pridemate   \n",
       "3           3        1        4     Bristling_Boar   \n",
       "4           4        1        5  Colossal_Dreadmaw   \n",
       "\n",
       "                                           available  \\\n",
       "0  [Hungering_Hydra, Electrify, Gallant_Cavalry, ...   \n",
       "1  [Ajani's_Pridemate, Aviation_Pioneer, Snapping...   \n",
       "2  [Volcanic_Dragon, Hostile_Minotaur, Rustwing_F...   \n",
       "3  [Boggart_Brute, One_with_the_Machine, Epicure_...   \n",
       "4  [Fiery_Finish, Hostile_Minotaur, Psychic_Corro...   \n",
       "\n",
       "                                                pool  \n",
       "0                                                 []  \n",
       "1                                ['Skyrider_Patrol']  \n",
       "2           ['Skyrider_Patrol', 'Strangling_Spores']  \n",
       "3  ['Skyrider_Patrol', 'Strangling_Spores', \"Ajan...  \n",
       "4  ['Skyrider_Patrol', 'Strangling_Spores', \"Ajan...  "
      ]
     },
     "execution_count": 8,
     "metadata": {},
     "output_type": "execute_result"
    }
   ],
   "source": [
    "train_df.head(5)"
   ]
  },
  {
   "cell_type": "code",
   "execution_count": 9,
   "metadata": {},
   "outputs": [],
   "source": [
    "train_df['label'] = train_df['pick'].apply(lambda x: data['cards_list'].index(x))\n",
    "test_df['label'] = test_df['pick'].apply(lambda x: data['cards_list'].index(x))\n"
   ]
  },
  {
   "cell_type": "code",
   "execution_count": 12,
   "metadata": {},
   "outputs": [],
   "source": [
    "train_df.to_csv(\"train_df.csv\")\n",
    "test_df.to_csv(\"test_df.csv\")\n"
   ]
  }
 ],
 "metadata": {
  "kernelspec": {
   "display_name": "mtg_env",
   "language": "python",
   "name": "python3"
  },
  "language_info": {
   "codemirror_mode": {
    "name": "ipython",
    "version": 3
   },
   "file_extension": ".py",
   "mimetype": "text/x-python",
   "name": "python",
   "nbconvert_exporter": "python",
   "pygments_lexer": "ipython3",
   "version": "3.10.9"
  }
 },
 "nbformat": 4,
 "nbformat_minor": 2
}
