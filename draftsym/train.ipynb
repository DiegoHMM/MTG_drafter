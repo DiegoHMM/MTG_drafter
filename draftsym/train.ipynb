{
 "cells": [
  {
   "cell_type": "code",
   "execution_count": 1,
   "metadata": {},
   "outputs": [
    {
     "name": "stdout",
     "output_type": "stream",
     "text": [
      "Requirement already satisfied: tensorboard in /home/diego/miniconda3/envs/mtg_env/lib/python3.10/site-packages (2.14.1)\n",
      "Requirement already satisfied: protobuf>=3.19.6 in /home/diego/miniconda3/envs/mtg_env/lib/python3.10/site-packages (from tensorboard) (4.24.4)\n",
      "Requirement already satisfied: werkzeug>=1.0.1 in /home/diego/miniconda3/envs/mtg_env/lib/python3.10/site-packages (from tensorboard) (3.0.0)\n",
      "Requirement already satisfied: grpcio>=1.48.2 in /home/diego/miniconda3/envs/mtg_env/lib/python3.10/site-packages (from tensorboard) (1.59.0)\n",
      "Requirement already satisfied: absl-py>=0.4 in /home/diego/miniconda3/envs/mtg_env/lib/python3.10/site-packages (from tensorboard) (2.0.0)\n",
      "Requirement already satisfied: google-auth<3,>=1.6.3 in /home/diego/miniconda3/envs/mtg_env/lib/python3.10/site-packages (from tensorboard) (2.23.3)\n",
      "Requirement already satisfied: six>1.9 in /home/diego/miniconda3/envs/mtg_env/lib/python3.10/site-packages (from tensorboard) (1.16.0)\n",
      "Requirement already satisfied: tensorboard-data-server<0.8.0,>=0.7.0 in /home/diego/miniconda3/envs/mtg_env/lib/python3.10/site-packages (from tensorboard) (0.7.1)\n",
      "Requirement already satisfied: setuptools>=41.0.0 in /home/diego/miniconda3/envs/mtg_env/lib/python3.10/site-packages (from tensorboard) (65.6.3)\n",
      "Requirement already satisfied: google-auth-oauthlib<1.1,>=0.5 in /home/diego/miniconda3/envs/mtg_env/lib/python3.10/site-packages (from tensorboard) (1.0.0)\n",
      "Requirement already satisfied: numpy>=1.12.0 in /home/diego/miniconda3/envs/mtg_env/lib/python3.10/site-packages (from tensorboard) (1.26.0)\n",
      "Requirement already satisfied: requests<3,>=2.21.0 in /home/diego/miniconda3/envs/mtg_env/lib/python3.10/site-packages (from tensorboard) (2.28.1)\n",
      "Requirement already satisfied: markdown>=2.6.8 in /home/diego/miniconda3/envs/mtg_env/lib/python3.10/site-packages (from tensorboard) (3.5)\n",
      "Requirement already satisfied: cachetools<6.0,>=2.0.0 in /home/diego/miniconda3/envs/mtg_env/lib/python3.10/site-packages (from google-auth<3,>=1.6.3->tensorboard) (5.3.1)\n",
      "Requirement already satisfied: pyasn1-modules>=0.2.1 in /home/diego/miniconda3/envs/mtg_env/lib/python3.10/site-packages (from google-auth<3,>=1.6.3->tensorboard) (0.3.0)\n",
      "Requirement already satisfied: rsa<5,>=3.1.4 in /home/diego/miniconda3/envs/mtg_env/lib/python3.10/site-packages (from google-auth<3,>=1.6.3->tensorboard) (4.9)\n",
      "Requirement already satisfied: requests-oauthlib>=0.7.0 in /home/diego/miniconda3/envs/mtg_env/lib/python3.10/site-packages (from google-auth-oauthlib<1.1,>=0.5->tensorboard) (1.3.1)\n",
      "Requirement already satisfied: certifi>=2017.4.17 in /home/diego/miniconda3/envs/mtg_env/lib/python3.10/site-packages (from requests<3,>=2.21.0->tensorboard) (2022.12.7)\n",
      "Requirement already satisfied: urllib3<1.27,>=1.21.1 in /home/diego/miniconda3/envs/mtg_env/lib/python3.10/site-packages (from requests<3,>=2.21.0->tensorboard) (1.26.14)\n",
      "Requirement already satisfied: idna<4,>=2.5 in /home/diego/miniconda3/envs/mtg_env/lib/python3.10/site-packages (from requests<3,>=2.21.0->tensorboard) (3.4)\n",
      "Requirement already satisfied: charset-normalizer<3,>=2 in /home/diego/miniconda3/envs/mtg_env/lib/python3.10/site-packages (from requests<3,>=2.21.0->tensorboard) (2.0.4)\n",
      "Requirement already satisfied: MarkupSafe>=2.1.1 in /home/diego/miniconda3/envs/mtg_env/lib/python3.10/site-packages (from werkzeug>=1.0.1->tensorboard) (2.1.1)\n",
      "Requirement already satisfied: pyasn1<0.6.0,>=0.4.6 in /home/diego/miniconda3/envs/mtg_env/lib/python3.10/site-packages (from pyasn1-modules>=0.2.1->google-auth<3,>=1.6.3->tensorboard) (0.5.0)\n",
      "Requirement already satisfied: oauthlib>=3.0.0 in /home/diego/miniconda3/envs/mtg_env/lib/python3.10/site-packages (from requests-oauthlib>=0.7.0->google-auth-oauthlib<1.1,>=0.5->tensorboard) (3.2.2)\n"
     ]
    }
   ],
   "source": [
    "!pip install tensorboard"
   ]
  },
  {
   "cell_type": "code",
   "execution_count": 2,
   "metadata": {},
   "outputs": [],
   "source": [
    "import yaml\n",
    "from lstm import *\n",
    "from mlp import *\n",
    "from gensim.models import Word2Vec\n",
    "import pandas as pd\n",
    "import random\n",
    "#tensorboard --logdir=/home/diego/Documentos/MTG_drafter/draftsym/runs --verbosity 0\n",
    "\n",
    "random.seed(42)"
   ]
  },
  {
   "cell_type": "code",
   "execution_count": 3,
   "metadata": {},
   "outputs": [],
   "source": [
    "# Verificar se a GPU está disponível\n",
    "device = torch.device(\"cuda\" if torch.cuda.is_available() else \"cpu\")"
   ]
  },
  {
   "cell_type": "code",
   "execution_count": 4,
   "metadata": {},
   "outputs": [],
   "source": [
    "fi = open('config.yaml', 'r')\n",
    "card_dict = yaml.load(fi, Loader=yaml.FullLoader)"
   ]
  },
  {
   "cell_type": "code",
   "execution_count": 10,
   "metadata": {},
   "outputs": [],
   "source": [
    "def indice_para_nome(indice, cards_dict):\n",
    "    \"\"\"Converte um índice para o nome da carta correspondente usando o dicionário de cartas.\"\"\"\n",
    "    try:\n",
    "        return cards_dict['cards_list'][indice]\n",
    "    except IndexError:\n",
    "        raise ValueError(f\"Índice {indice} fora do alcance do dicionário de cartas.\")\n"
   ]
  },
  {
   "cell_type": "code",
   "execution_count": 6,
   "metadata": {},
   "outputs": [],
   "source": [
    "df_train = pd.read_csv('train_df.csv')\n",
    "df_train = df_train.drop(columns=['Unnamed: 0.1', 'Unnamed: 0'])\n",
    "#df_train = df_train[:90]"
   ]
  },
  {
   "cell_type": "code",
   "execution_count": 7,
   "metadata": {},
   "outputs": [],
   "source": [
    "word_to_vec_model = Word2Vec.load(\"card2vec.model\")"
   ]
  },
  {
   "cell_type": "code",
   "execution_count": 8,
   "metadata": {},
   "outputs": [
    {
     "name": "stdout",
     "output_type": "stream",
     "text": [
      "--- Entrada 1 ---\n",
      "70\n",
      "Inputs: [0, 0, 0, 0, 0, 0, 0, 0, 0, 0, 0, 0, 0, 0, 0, 0, 0, 0, 0, 0, 0, 0, 0, 0, 0, 0, 0, 0, 0, 0, 0, 0, 0, 0, 0, 0, 0, 0, 0, 0, 0, 0, 0, 0, 0]\n",
      "Label: Skyrider_Patrol\n",
      "Máscara: tensor([[0., 0., 0., 0., 0., 0., 0., 0., 0., 0., 0., 0., 0., 0., 0., 0., 0., 0.,\n",
      "         0., 0., 0., 0., 0., 0., 0., 0., 0., 0., 0., 0., 0., 1., 0., 0., 0., 0.,\n",
      "         0., 0., 0., 0., 0., 1., 0., 0., 0., 0., 1., 0., 0., 0., 0., 0., 0., 0.,\n",
      "         0., 0., 0., 0., 0., 0., 0., 0., 0., 0., 0., 0., 0., 1., 0., 0., 1., 0.,\n",
      "         0., 0., 0., 0., 1., 0., 0., 0., 0., 0., 0., 0., 0., 0., 0., 0., 0., 0.,\n",
      "         0., 0., 0., 0., 1., 0., 0., 0., 0., 1., 1., 0., 0., 0., 0., 0., 0., 0.,\n",
      "         0., 0., 0., 0., 0., 0., 0., 0., 0., 0., 0., 0., 0., 0., 0., 0., 0., 0.,\n",
      "         1., 0., 0., 0., 0., 0., 0., 0., 0., 0., 1., 0., 0., 0., 0., 0., 0., 0.,\n",
      "         0., 0., 0., 0., 0., 0., 0., 0., 0., 0., 0., 0., 0., 0., 0., 0., 0., 0.,\n",
      "         0., 0., 0., 0., 0., 0., 0., 0., 0., 0., 0., 0., 0., 0., 0., 0., 0., 0.,\n",
      "         0., 0., 0., 0., 0., 0., 0., 0., 0., 0., 0., 0., 1., 0., 0., 0., 0., 0.,\n",
      "         1., 0., 0., 0., 0., 0., 0., 1., 0., 0., 0., 0., 0., 0., 0., 0., 0., 0.,\n",
      "         0., 0., 0., 0., 0., 0., 0., 0., 0., 0., 0., 0., 0., 0., 0., 0., 0., 0.,\n",
      "         0., 0., 0., 0., 0., 0., 0., 0., 0., 0., 0., 0., 0., 1., 0., 0., 0., 0.,\n",
      "         0., 0., 0., 0., 0., 0., 0., 0., 0., 0., 0., 0., 0.]])\n",
      "\n",
      "\n"
     ]
    }
   ],
   "source": [
    "from dataset_class import *\n",
    "\n",
    "# Crie o dataset e o DataLoader\n",
    "dataset = MagicDataset(df_train, word_to_vec_model, card_dict)\n",
    "dataloader = DataLoader(dataset, batch_size=1, shuffle=False)\n",
    "\n",
    "# Itere sobre as primeiras 45 entradas do DataLoader\n",
    "for i, (inputs, labels, mascara) in enumerate(dataloader):\n",
    "    if i < 45:\n",
    "        print(f\"--- Entrada {i+1} ---\")\n",
    "        \n",
    "        # Converta os embeddings para nomes\n",
    "        input_names = [MagicDataset.embedding_para_nome(embedding.numpy(), word_to_vec_model) for embedding in inputs.squeeze(0)]\n",
    "        \n",
    "        # Converta o índice da label para o nome usando a função indice_para_nome\n",
    "        label_name = indice_para_nome(labels.item(), card_dict)\n",
    "        print(labels.item())\n",
    "        print(\"Inputs:\", input_names)\n",
    "        print(\"Label:\", label_name)\n",
    "        print(\"Máscara:\", mascara)\n",
    "        print(\"\\n\")\n",
    "        break\n",
    "    else:\n",
    "        break\n"
   ]
  },
  {
   "cell_type": "code",
   "execution_count": 2,
   "metadata": {},
   "outputs": [],
   "source": [
    "# Instanciar o modelo LSTM\n",
    "from torch import nn\n",
    "from mlp import *\n",
    "#model = LSTMModel()\n",
    "model = FeedForwardModel()\n",
    "criterion = nn.CrossEntropyLoss()\n",
    "optimizer = torch.optim.Adam(model.parameters(), lr=0.00001)"
   ]
  },
  {
   "cell_type": "code",
   "execution_count": 10,
   "metadata": {},
   "outputs": [
    {
     "name": "stdout",
     "output_type": "stream",
     "text": [
      "Epoch [1/50], Average Loss: 1.2374, Epoch Acuracy: 0.5667\n",
      "Epoch [2/50], Average Loss: 1.1936, Epoch Acuracy: 0.5744\n",
      "Epoch [3/50], Average Loss: 1.1874, Epoch Acuracy: 0.5753\n",
      "Epoch [4/50], Average Loss: 1.1858, Epoch Acuracy: 0.5754\n",
      "Epoch [5/50], Average Loss: 1.1861, Epoch Acuracy: 0.5746\n",
      "Epoch [6/50], Average Loss: 1.1860, Epoch Acuracy: 0.5743\n",
      "Epoch [7/50], Average Loss: 1.1874, Epoch Acuracy: 0.5735\n",
      "Epoch [8/50], Average Loss: 1.1873, Epoch Acuracy: 0.5731\n",
      "Epoch [9/50], Average Loss: 1.1868, Epoch Acuracy: 0.5726\n",
      "Epoch [10/50], Average Loss: 1.1872, Epoch Acuracy: 0.5721\n",
      "Epoch [11/50], Average Loss: 1.1871, Epoch Acuracy: 0.5721\n",
      "Epoch [12/50], Average Loss: 1.1881, Epoch Acuracy: 0.5719\n",
      "Epoch [13/50], Average Loss: 1.1891, Epoch Acuracy: 0.5713\n",
      "Epoch [14/50], Average Loss: 1.1875, Epoch Acuracy: 0.5713\n",
      "Epoch [15/50], Average Loss: 1.1867, Epoch Acuracy: 0.5716\n",
      "Epoch [16/50], Average Loss: 1.1861, Epoch Acuracy: 0.5715\n",
      "Epoch [17/50], Average Loss: 1.1845, Epoch Acuracy: 0.5722\n",
      "Epoch [18/50], Average Loss: 1.1837, Epoch Acuracy: 0.5727\n",
      "Epoch [19/50], Average Loss: 1.1832, Epoch Acuracy: 0.5724\n",
      "Epoch [20/50], Average Loss: 1.1828, Epoch Acuracy: 0.5725\n",
      "Epoch [21/50], Average Loss: 1.1820, Epoch Acuracy: 0.5721\n",
      "Epoch [22/50], Average Loss: 1.1816, Epoch Acuracy: 0.5725\n",
      "Epoch [23/50], Average Loss: 1.1813, Epoch Acuracy: 0.5727\n"
     ]
    },
    {
     "ename": "KeyboardInterrupt",
     "evalue": "",
     "output_type": "error",
     "traceback": [
      "\u001b[0;31m---------------------------------------------------------------------------\u001b[0m",
      "\u001b[0;31mKeyError\u001b[0m                                  Traceback (most recent call last)",
      "File \u001b[0;32m~/miniconda3/envs/mtg_env/lib/python3.10/os.py:677\u001b[0m, in \u001b[0;36m_Environ.__getitem__\u001b[0;34m(self, key)\u001b[0m\n\u001b[1;32m    676\u001b[0m \u001b[39mtry\u001b[39;00m:\n\u001b[0;32m--> 677\u001b[0m     value \u001b[39m=\u001b[39m \u001b[39mself\u001b[39;49m\u001b[39m.\u001b[39;49m_data[\u001b[39mself\u001b[39;49m\u001b[39m.\u001b[39;49mencodekey(key)]\n\u001b[1;32m    678\u001b[0m \u001b[39mexcept\u001b[39;00m \u001b[39mKeyError\u001b[39;00m:\n\u001b[1;32m    679\u001b[0m     \u001b[39m# raise KeyError with the original key value\u001b[39;00m\n",
      "\u001b[0;31mKeyError\u001b[0m: b'PYTORCH_NVML_BASED_CUDA_CHECK'",
      "\nDuring handling of the above exception, another exception occurred:\n",
      "\u001b[0;31mKeyboardInterrupt\u001b[0m                         Traceback (most recent call last)",
      "\u001b[1;32m/home/diego/Documentos/MTG_drafter/draftsym/train.ipynb Cell 10\u001b[0m line \u001b[0;36m5\n\u001b[1;32m     <a href='vscode-notebook-cell:/home/diego/Documentos/MTG_drafter/draftsym/train.ipynb#X12sZmlsZQ%3D%3D?line=50'>51</a>\u001b[0m \u001b[39m# Backward\u001b[39;00m\n\u001b[1;32m     <a href='vscode-notebook-cell:/home/diego/Documentos/MTG_drafter/draftsym/train.ipynb#X12sZmlsZQ%3D%3D?line=51'>52</a>\u001b[0m loss\u001b[39m.\u001b[39mbackward()\n\u001b[0;32m---> <a href='vscode-notebook-cell:/home/diego/Documentos/MTG_drafter/draftsym/train.ipynb#X12sZmlsZQ%3D%3D?line=52'>53</a>\u001b[0m optimizer\u001b[39m.\u001b[39;49mstep()\n\u001b[1;32m     <a href='vscode-notebook-cell:/home/diego/Documentos/MTG_drafter/draftsym/train.ipynb#X12sZmlsZQ%3D%3D?line=54'>55</a>\u001b[0m \u001b[39m# Calcular acertos\u001b[39;00m\n\u001b[1;32m     <a href='vscode-notebook-cell:/home/diego/Documentos/MTG_drafter/draftsym/train.ipynb#X12sZmlsZQ%3D%3D?line=55'>56</a>\u001b[0m _, predicted \u001b[39m=\u001b[39m torch\u001b[39m.\u001b[39mmax(outputs, \u001b[39m1\u001b[39m)\n",
      "File \u001b[0;32m~/miniconda3/envs/mtg_env/lib/python3.10/site-packages/torch/optim/optimizer.py:280\u001b[0m, in \u001b[0;36mOptimizer.profile_hook_step.<locals>.wrapper\u001b[0;34m(*args, **kwargs)\u001b[0m\n\u001b[1;32m    276\u001b[0m         \u001b[39melse\u001b[39;00m:\n\u001b[1;32m    277\u001b[0m             \u001b[39mraise\u001b[39;00m \u001b[39mRuntimeError\u001b[39;00m(\u001b[39mf\u001b[39m\u001b[39m\"\u001b[39m\u001b[39m{\u001b[39;00mfunc\u001b[39m}\u001b[39;00m\u001b[39m must return None or a tuple of (new_args, new_kwargs),\u001b[39m\u001b[39m\"\u001b[39m\n\u001b[1;32m    278\u001b[0m                                \u001b[39mf\u001b[39m\u001b[39m\"\u001b[39m\u001b[39mbut got \u001b[39m\u001b[39m{\u001b[39;00mresult\u001b[39m}\u001b[39;00m\u001b[39m.\u001b[39m\u001b[39m\"\u001b[39m)\n\u001b[0;32m--> 280\u001b[0m out \u001b[39m=\u001b[39m func(\u001b[39m*\u001b[39;49margs, \u001b[39m*\u001b[39;49m\u001b[39m*\u001b[39;49mkwargs)\n\u001b[1;32m    281\u001b[0m \u001b[39mself\u001b[39m\u001b[39m.\u001b[39m_optimizer_step_code()\n\u001b[1;32m    283\u001b[0m \u001b[39m# call optimizer step post hooks\u001b[39;00m\n",
      "File \u001b[0;32m~/miniconda3/envs/mtg_env/lib/python3.10/site-packages/torch/optim/optimizer.py:33\u001b[0m, in \u001b[0;36m_use_grad_for_differentiable.<locals>._use_grad\u001b[0;34m(self, *args, **kwargs)\u001b[0m\n\u001b[1;32m     31\u001b[0m \u001b[39mtry\u001b[39;00m:\n\u001b[1;32m     32\u001b[0m     torch\u001b[39m.\u001b[39mset_grad_enabled(\u001b[39mself\u001b[39m\u001b[39m.\u001b[39mdefaults[\u001b[39m'\u001b[39m\u001b[39mdifferentiable\u001b[39m\u001b[39m'\u001b[39m])\n\u001b[0;32m---> 33\u001b[0m     ret \u001b[39m=\u001b[39m func(\u001b[39mself\u001b[39;49m, \u001b[39m*\u001b[39;49margs, \u001b[39m*\u001b[39;49m\u001b[39m*\u001b[39;49mkwargs)\n\u001b[1;32m     34\u001b[0m \u001b[39mfinally\u001b[39;00m:\n\u001b[1;32m     35\u001b[0m     torch\u001b[39m.\u001b[39mset_grad_enabled(prev_grad)\n",
      "File \u001b[0;32m~/miniconda3/envs/mtg_env/lib/python3.10/site-packages/torch/optim/adam.py:116\u001b[0m, in \u001b[0;36mAdam.step\u001b[0;34m(self, closure)\u001b[0m\n\u001b[1;32m    108\u001b[0m \u001b[39m@_use_grad_for_differentiable\u001b[39m\n\u001b[1;32m    109\u001b[0m \u001b[39mdef\u001b[39;00m \u001b[39mstep\u001b[39m(\u001b[39mself\u001b[39m, closure\u001b[39m=\u001b[39m\u001b[39mNone\u001b[39;00m):\n\u001b[1;32m    110\u001b[0m     \u001b[39m\"\"\"Performs a single optimization step.\u001b[39;00m\n\u001b[1;32m    111\u001b[0m \n\u001b[1;32m    112\u001b[0m \u001b[39m    Args:\u001b[39;00m\n\u001b[1;32m    113\u001b[0m \u001b[39m        closure (Callable, optional): A closure that reevaluates the model\u001b[39;00m\n\u001b[1;32m    114\u001b[0m \u001b[39m            and returns the loss.\u001b[39;00m\n\u001b[1;32m    115\u001b[0m \u001b[39m    \"\"\"\u001b[39;00m\n\u001b[0;32m--> 116\u001b[0m     \u001b[39mself\u001b[39;49m\u001b[39m.\u001b[39;49m_cuda_graph_capture_health_check()\n\u001b[1;32m    118\u001b[0m     loss \u001b[39m=\u001b[39m \u001b[39mNone\u001b[39;00m\n\u001b[1;32m    119\u001b[0m     \u001b[39mif\u001b[39;00m closure \u001b[39mis\u001b[39;00m \u001b[39mnot\u001b[39;00m \u001b[39mNone\u001b[39;00m:\n",
      "File \u001b[0;32m~/miniconda3/envs/mtg_env/lib/python3.10/site-packages/torch/optim/optimizer.py:229\u001b[0m, in \u001b[0;36mOptimizer._cuda_graph_capture_health_check\u001b[0;34m(self)\u001b[0m\n\u001b[1;32m    228\u001b[0m \u001b[39mdef\u001b[39;00m \u001b[39m_cuda_graph_capture_health_check\u001b[39m(\u001b[39mself\u001b[39m):\n\u001b[0;32m--> 229\u001b[0m     \u001b[39mif\u001b[39;00m torch\u001b[39m.\u001b[39mhas_cuda \u001b[39mand\u001b[39;00m torch\u001b[39m.\u001b[39;49mcuda\u001b[39m.\u001b[39;49mis_available():\n\u001b[1;32m    230\u001b[0m         capturing \u001b[39m=\u001b[39m torch\u001b[39m.\u001b[39mcuda\u001b[39m.\u001b[39mis_current_stream_capturing()\n\u001b[1;32m    232\u001b[0m         \u001b[39mif\u001b[39;00m capturing \u001b[39mand\u001b[39;00m \u001b[39mnot\u001b[39;00m \u001b[39mall\u001b[39m(group[\u001b[39m'\u001b[39m\u001b[39mcapturable\u001b[39m\u001b[39m'\u001b[39m] \u001b[39mfor\u001b[39;00m group \u001b[39min\u001b[39;00m \u001b[39mself\u001b[39m\u001b[39m.\u001b[39mparam_groups):\n",
      "File \u001b[0;32m~/miniconda3/envs/mtg_env/lib/python3.10/site-packages/torch/cuda/__init__.py:98\u001b[0m, in \u001b[0;36mis_available\u001b[0;34m()\u001b[0m\n\u001b[1;32m     96\u001b[0m \u001b[39mif\u001b[39;00m \u001b[39mnot\u001b[39;00m _is_compiled():\n\u001b[1;32m     97\u001b[0m     \u001b[39mreturn\u001b[39;00m \u001b[39mFalse\u001b[39;00m\n\u001b[0;32m---> 98\u001b[0m \u001b[39mif\u001b[39;00m _nvml_based_avail():\n\u001b[1;32m     99\u001b[0m     \u001b[39m# The user has set an env variable to request this availability check that attempts to avoid fork poisoning by\u001b[39;00m\n\u001b[1;32m    100\u001b[0m     \u001b[39m# using NVML at the cost of a weaker CUDA availability assessment. Note that if NVML discovery/initialization\u001b[39;00m\n\u001b[1;32m    101\u001b[0m     \u001b[39m# fails, this assessment falls back to the default CUDA Runtime API assessment (`cudaGetDeviceCount`)\u001b[39;00m\n\u001b[1;32m    102\u001b[0m     \u001b[39mreturn\u001b[39;00m device_count() \u001b[39m>\u001b[39m \u001b[39m0\u001b[39m\n\u001b[1;32m    103\u001b[0m \u001b[39melse\u001b[39;00m:\n\u001b[1;32m    104\u001b[0m     \u001b[39m# The default availability inspection never throws and returns 0 if the driver is missing or can't\u001b[39;00m\n\u001b[1;32m    105\u001b[0m     \u001b[39m# be initialized. This uses the CUDA Runtime API `cudaGetDeviceCount` which in turn initializes the CUDA Driver\u001b[39;00m\n\u001b[1;32m    106\u001b[0m     \u001b[39m# API via `cuInit`\u001b[39;00m\n",
      "File \u001b[0;32m~/miniconda3/envs/mtg_env/lib/python3.10/site-packages/torch/cuda/__init__.py:92\u001b[0m, in \u001b[0;36m_nvml_based_avail\u001b[0;34m()\u001b[0m\n\u001b[1;32m     91\u001b[0m \u001b[39mdef\u001b[39;00m \u001b[39m_nvml_based_avail\u001b[39m() \u001b[39m-\u001b[39m\u001b[39m>\u001b[39m \u001b[39mbool\u001b[39m:\n\u001b[0;32m---> 92\u001b[0m     \u001b[39mreturn\u001b[39;00m os\u001b[39m.\u001b[39;49mgetenv(\u001b[39m'\u001b[39;49m\u001b[39mPYTORCH_NVML_BASED_CUDA_CHECK\u001b[39;49m\u001b[39m'\u001b[39;49m) \u001b[39m==\u001b[39m \u001b[39m'\u001b[39m\u001b[39m1\u001b[39m\u001b[39m'\u001b[39m\n",
      "File \u001b[0;32m~/miniconda3/envs/mtg_env/lib/python3.10/os.py:776\u001b[0m, in \u001b[0;36mgetenv\u001b[0;34m(key, default)\u001b[0m\n\u001b[1;32m    772\u001b[0m \u001b[39mdef\u001b[39;00m \u001b[39mgetenv\u001b[39m(key, default\u001b[39m=\u001b[39m\u001b[39mNone\u001b[39;00m):\n\u001b[1;32m    773\u001b[0m     \u001b[39m\"\"\"Get an environment variable, return None if it doesn't exist.\u001b[39;00m\n\u001b[1;32m    774\u001b[0m \u001b[39m    The optional second argument can specify an alternate default.\u001b[39;00m\n\u001b[1;32m    775\u001b[0m \u001b[39m    key, default and the result are str.\"\"\"\u001b[39;00m\n\u001b[0;32m--> 776\u001b[0m     \u001b[39mreturn\u001b[39;00m environ\u001b[39m.\u001b[39;49mget(key, default)\n",
      "File \u001b[0;32m~/miniconda3/envs/mtg_env/lib/python3.10/_collections_abc.py:824\u001b[0m, in \u001b[0;36mMapping.get\u001b[0;34m(self, key, default)\u001b[0m\n\u001b[1;32m    822\u001b[0m \u001b[39m'\u001b[39m\u001b[39mD.get(k[,d]) -> D[k] if k in D, else d.  d defaults to None.\u001b[39m\u001b[39m'\u001b[39m\n\u001b[1;32m    823\u001b[0m \u001b[39mtry\u001b[39;00m:\n\u001b[0;32m--> 824\u001b[0m     \u001b[39mreturn\u001b[39;00m \u001b[39mself\u001b[39;49m[key]\n\u001b[1;32m    825\u001b[0m \u001b[39mexcept\u001b[39;00m \u001b[39mKeyError\u001b[39;00m:\n\u001b[1;32m    826\u001b[0m     \u001b[39mreturn\u001b[39;00m default\n",
      "File \u001b[0;32m~/miniconda3/envs/mtg_env/lib/python3.10/os.py:677\u001b[0m, in \u001b[0;36m_Environ.__getitem__\u001b[0;34m(self, key)\u001b[0m\n\u001b[1;32m    675\u001b[0m \u001b[39mdef\u001b[39;00m \u001b[39m__getitem__\u001b[39m(\u001b[39mself\u001b[39m, key):\n\u001b[1;32m    676\u001b[0m     \u001b[39mtry\u001b[39;00m:\n\u001b[0;32m--> 677\u001b[0m         value \u001b[39m=\u001b[39m \u001b[39mself\u001b[39;49m\u001b[39m.\u001b[39;49m_data[\u001b[39mself\u001b[39;49m\u001b[39m.\u001b[39;49mencodekey(key)]\n\u001b[1;32m    678\u001b[0m     \u001b[39mexcept\u001b[39;00m \u001b[39mKeyError\u001b[39;00m:\n\u001b[1;32m    679\u001b[0m         \u001b[39m# raise KeyError with the original key value\u001b[39;00m\n\u001b[1;32m    680\u001b[0m         \u001b[39mraise\u001b[39;00m \u001b[39mKeyError\u001b[39;00m(key) \u001b[39mfrom\u001b[39;00m \u001b[39mNone\u001b[39m\n",
      "\u001b[0;31mKeyboardInterrupt\u001b[0m: "
     ]
    }
   ],
   "source": [
    "import os\n",
    "import torch\n",
    "from torch.utils.tensorboard import SummaryWriter\n",
    "from dataset_class import *\n",
    "from torch.utils.data import DataLoader\n",
    "\n",
    "# Defina os hiperparâmetros\n",
    "num_epochs = 20\n",
    "batch_size = 32\n",
    "\n",
    "# Configurar o TensorBoard SummaryWriter para escrever logs na pasta 'runs'\n",
    "log_dir = './runs/model_3/'\n",
    "writer = SummaryWriter(log_dir=log_dir)\n",
    "\n",
    "# Defina um diretório para salvar os checkpoints\n",
    "checkpoint_dir = 'checkpoints'\n",
    "\n",
    "# Certifique-se de que o diretório exista (ou crie-o)\n",
    "if not os.path.exists(checkpoint_dir):\n",
    "    os.makedirs(checkpoint_dir)\n",
    "\n",
    "# Criar o dataset e o DataLoader\n",
    "dataset = MagicDataset(df_train, word_to_vec_model, card_dict)\n",
    "dataloader = DataLoader(dataset, batch_size=batch_size, shuffle=True)\n",
    "\n",
    "# Mover o modelo para a GPU\n",
    "model.to(device)\n",
    "\n",
    "# Ciclo de treinamento\n",
    "for epoch in range(num_epochs):\n",
    "    total_loss = 0.0\n",
    "    correct_predictions = 0\n",
    "    total_samples = 0\n",
    "\n",
    "    for i, (inputs, labels, mascara) in enumerate(dataloader):\n",
    "        # Mover as entradas e rótulos para a GPU\n",
    "        inputs = inputs.to(device)\n",
    "        labels = labels.to(device)\n",
    "        mascara = mascara.to(device)\n",
    "\n",
    "        # Zerar os gradientes\n",
    "        optimizer.zero_grad()\n",
    "\n",
    "        # Forward\n",
    "        outputs = model(inputs, mascara)\n",
    "        loss = criterion(outputs, labels)\n",
    "        \n",
    "        # Acumular a perda\n",
    "        total_loss += loss.item()\n",
    "\n",
    "        # Backward\n",
    "        loss.backward()\n",
    "        optimizer.step()\n",
    "\n",
    "        # Calcular acertos\n",
    "        _, predicted = torch.max(outputs, 1)\n",
    "        correct_predictions += (predicted == labels).sum().item()\n",
    "        total_samples += labels.size(0)\n",
    "\n",
    "    # Calcular e imprimir a perda média e a acurácia da época\n",
    "    average_loss = total_loss / len(dataloader)\n",
    "    epoch_accuracy = correct_predictions / total_samples\n",
    "    print(f\"Epoch [{epoch + 1}/{num_epochs}], Average Loss: {average_loss:.4f}, Epoch Acuracy: {epoch_accuracy:.4f}\")\n",
    "\n",
    "    # Registrar no TensorBoard\n",
    "    writer.add_scalar('Epoch Accuracy', epoch_accuracy, epoch)\n",
    "    writer.add_scalar('Epoch Loss', average_loss, epoch)\n",
    "\n",
    "    # Salvar o estado do modelo a cada 5 épocas\n",
    "    if (epoch + 1) % 5 == 0:\n",
    "        checkpoint = {\n",
    "            'epoch': epoch,\n",
    "            'model_state_dict': model.state_dict(),\n",
    "            'optimizer_state_dict': optimizer.state_dict(),\n",
    "            'loss': average_loss\n",
    "        }\n",
    "        checkpoint_path = os.path.join(checkpoint_dir, f'model_3_checkpoint_epoch_{epoch + 1}.pt')\n",
    "        torch.save(checkpoint, checkpoint_path)\n",
    "\n",
    "# Fechar o writer após terminar o treinamento\n",
    "writer.close()\n"
   ]
  },
  {
   "cell_type": "markdown",
   "metadata": {},
   "source": [
    "# Teste"
   ]
  },
  {
   "cell_type": "code",
   "execution_count": 31,
   "metadata": {},
   "outputs": [],
   "source": [
    "import yaml\n",
    "from lstm import *\n",
    "from mlp import *\n",
    "from gensim.models import Word2Vec\n",
    "import pandas as pd"
   ]
  },
  {
   "cell_type": "code",
   "execution_count": 32,
   "metadata": {},
   "outputs": [],
   "source": [
    "# Carregar o modelo e otimizador do checkpoint\n",
    "def load_model_from_checkpoint(model, optimizer, checkpoint_path):\n",
    "    checkpoint = torch.load(checkpoint_path)\n",
    "    model.load_state_dict(checkpoint['model_state_dict'])\n",
    "    if optimizer:\n",
    "        optimizer.load_state_dict(checkpoint['optimizer_state_dict'])\n",
    "    epoch = checkpoint['epoch']\n",
    "    loss = checkpoint['loss']\n",
    "    return model, optimizer, epoch, loss\n"
   ]
  },
  {
   "cell_type": "code",
   "execution_count": 33,
   "metadata": {},
   "outputs": [],
   "source": [
    "df_test = pd.read_csv('test_df.csv')\n",
    "df_test = df_test.drop(columns=['Unnamed: 0.1', 'Unnamed: 0'])"
   ]
  },
  {
   "cell_type": "code",
   "execution_count": 34,
   "metadata": {},
   "outputs": [],
   "source": [
    "word_to_vec_model = Word2Vec.load(\"card2vec.model\")"
   ]
  },
  {
   "cell_type": "code",
   "execution_count": 35,
   "metadata": {},
   "outputs": [],
   "source": [
    "fi = open('config.yaml', 'r')\n",
    "card_dict = yaml.load(fi, Loader=yaml.FullLoader)"
   ]
  },
  {
   "cell_type": "code",
   "execution_count": 52,
   "metadata": {},
   "outputs": [],
   "source": [
    "# Configurações\n",
    "device = torch.device('cuda' if torch.cuda.is_available() else 'cpu')\n",
    "checkpoint_path = 'checkpoints/model_3_checkpoint_epoch_15.pt'  # Aqui, assumindo que você deseja carregar o \"melhor\" checkpoint\n",
    "\n",
    "# Instanciar modelo e otimizador\n",
    "model = FeedForwardModel()\n",
    "optimizer = torch.optim.Adam(model.parameters(), lr=0.0005)\n",
    "\n",
    "# Carregar o modelo do checkpoint\n",
    "model, _, _, _ = load_model_from_checkpoint(model, optimizer, checkpoint_path)"
   ]
  },
  {
   "cell_type": "code",
   "execution_count": 53,
   "metadata": {},
   "outputs": [
    {
     "name": "stdout",
     "output_type": "stream",
     "text": [
      "Batch [1/21590] - Accuracy: 64.44%\n",
      "Batch [10001/21590] - Accuracy: 61.57%\n",
      "Batch [20001/21590] - Accuracy: 61.50%\n",
      "Total Accuracy: 61.51%\n"
     ]
    }
   ],
   "source": [
    "import os\n",
    "import torch\n",
    "from dataset_class import *\n",
    "from torch.utils.data import DataLoader\n",
    "\n",
    "accuracy_per_round = np.zeros(45)\n",
    "\n",
    "# Mover modelo para o dispositivo apropriado\n",
    "model.to(device)\n",
    "model.eval()\n",
    "\n",
    "# Criar o dataset e o DataLoader para teste\n",
    "dataset_test = MagicDataset(df_test, word_to_vec_model, card_dict)\n",
    "test_loader = DataLoader(dataset_test, batch_size=45, shuffle=False)\n",
    "\n",
    "# Variáveis para rastrear a precisão\n",
    "total_samples = 0\n",
    "correct_samples = 0\n",
    "\n",
    "# Ciclo de teste\n",
    "with torch.no_grad():\n",
    "    for i, (inputs, labels, mascara) in enumerate(test_loader):\n",
    "        # Mover entradas e rótulos para o dispositivo\n",
    "        inputs = inputs.to(device)\n",
    "        labels = labels.to(device)\n",
    "        mascara = mascara.to(device)\n",
    "        \n",
    "        # Predição\n",
    "        outputs = model(inputs, mascara)\n",
    "        _, predicted = torch.max(outputs, 1)\n",
    "        \n",
    "\n",
    "        # Atualizar contadores de precisão\n",
    "        total_samples += labels.size(0)\n",
    "        correct_samples += (predicted == labels).sum().item()\n",
    "\n",
    "        # Imprimir labels e predicted\n",
    "        #print(\"Actual Labels:\", labels.tolist())\n",
    "        #print(\"Predicted Labels:\", predicted.tolist())\n",
    "\n",
    "        for j in range(len(inputs)):\n",
    "            #input_names = [MagicDataset.embedding_para_nome(embedding.cpu().numpy(), word_to_vec_model) for embedding in inputs[j]]\n",
    "            #print(\"Input Names:\", input_names)\n",
    "            #print(\"True Label:\", indice_para_nome(labels[j].item(), card_dict))\n",
    "            #print(\"Predicted Label:\", indice_para_nome(predicted[j].item(), card_dict))\n",
    "            #active_indices = torch.nonzero(mascara[j]).squeeze().tolist()\n",
    "            #print(\"Mask:\", active_indices)\n",
    "            #print(\"-------------------------------\")\n",
    "            if predicted[j].item() == labels[j].item():\n",
    "                accuracy_per_round[j] += 1\n",
    "\n",
    "        # Opcional: Imprimir estatísticas a cada 100 lotes\n",
    "        if i % 10000 == 0:\n",
    "            print(f\"Batch [{i+1}/{len(test_loader)}] - Accuracy: {100 * correct_samples / total_samples:.2f}%\")\n",
    "\n",
    "        #break\n",
    "\n",
    "# Imprimir precisão final\n",
    "print(f\"Total Accuracy: {100 * correct_samples / total_samples:.2f}%\")\n",
    "\n",
    "accuracy_per_round = accuracy_per_round/(len(df_test)/45)"
   ]
  },
  {
   "cell_type": "code",
   "execution_count": 54,
   "metadata": {},
   "outputs": [
    {
     "data": {
      "text/plain": [
       "array([0.68601204, 0.49157017, 0.50467809, 0.51116258, 0.51685966,\n",
       "       0.52195461, 0.53788791, 0.55775822, 0.56614173, 0.58656786,\n",
       "       0.60189903, 0.63765632, 0.66878184, 0.81954609, 1.        ,\n",
       "       0.5913849 , 0.53714683, 0.53543307, 0.53047707, 0.54145438,\n",
       "       0.54367763, 0.54701251, 0.56239   , 0.56864289, 0.58026864,\n",
       "       0.60449282, 0.63052339, 0.66984715, 0.82306623, 1.        ,\n",
       "       0.58462251, 0.55942566, 0.55155164, 0.54136174, 0.53705419,\n",
       "       0.53862899, 0.54488189, 0.54997684, 0.55993516, 0.56614173,\n",
       "       0.59194071, 0.61968504, 0.65609078, 0.80453914, 1.        ])"
      ]
     },
     "execution_count": 54,
     "metadata": {},
     "output_type": "execute_result"
    }
   ],
   "source": [
    "accuracy_per_round"
   ]
  },
  {
   "cell_type": "code",
   "execution_count": 55,
   "metadata": {},
   "outputs": [
    {
     "name": "stderr",
     "output_type": "stream",
     "text": [
      "/home/diego/miniconda3/envs/mtg_env/lib/python3.10/site-packages/seaborn/_oldcore.py:1498: FutureWarning: is_categorical_dtype is deprecated and will be removed in a future version. Use isinstance(dtype, CategoricalDtype) instead\n",
      "  if pd.api.types.is_categorical_dtype(vector):\n",
      "/home/diego/miniconda3/envs/mtg_env/lib/python3.10/site-packages/seaborn/_oldcore.py:1498: FutureWarning: is_categorical_dtype is deprecated and will be removed in a future version. Use isinstance(dtype, CategoricalDtype) instead\n",
      "  if pd.api.types.is_categorical_dtype(vector):\n",
      "/home/diego/miniconda3/envs/mtg_env/lib/python3.10/site-packages/seaborn/_oldcore.py:1119: FutureWarning: use_inf_as_na option is deprecated and will be removed in a future version. Convert inf values to NaN before operating instead.\n",
      "  with pd.option_context('mode.use_inf_as_na', True):\n",
      "/home/diego/miniconda3/envs/mtg_env/lib/python3.10/site-packages/seaborn/_oldcore.py:1119: FutureWarning: use_inf_as_na option is deprecated and will be removed in a future version. Convert inf values to NaN before operating instead.\n",
      "  with pd.option_context('mode.use_inf_as_na', True):\n",
      "/home/diego/miniconda3/envs/mtg_env/lib/python3.10/site-packages/seaborn/_oldcore.py:1498: FutureWarning: is_categorical_dtype is deprecated and will be removed in a future version. Use isinstance(dtype, CategoricalDtype) instead\n",
      "  if pd.api.types.is_categorical_dtype(vector):\n",
      "/home/diego/miniconda3/envs/mtg_env/lib/python3.10/site-packages/seaborn/_oldcore.py:1498: FutureWarning: is_categorical_dtype is deprecated and will be removed in a future version. Use isinstance(dtype, CategoricalDtype) instead\n",
      "  if pd.api.types.is_categorical_dtype(vector):\n"
     ]
    },
    {
     "data": {
      "image/png": "[encoded data removed]",
      "text/plain": [
       "<Figure size 1000x600 with 1 Axes>"
      ]
     },
     "metadata": {},
     "output_type": "display_data"
    }
   ],
   "source": [
    "import numpy as np\n",
    "import seaborn as sns\n",
    "import matplotlib.pyplot as plt\n",
    "\n",
    "\n",
    "# Estilo do Seaborn\n",
    "sns.set_style(\"whitegrid\")\n",
    "\n",
    "# Criando o gráfico\n",
    "plt.figure(figsize=(10, 6))\n",
    "\n",
    "# Plotando linha e pontos\n",
    "sns.lineplot(x=np.arange(len(accuracy_per_round)), y=accuracy_per_round, linewidth=2.5, color='orange', marker='o')\n",
    "sns.scatterplot(x=np.arange(len(accuracy_per_round)), y=accuracy_per_round, color='red', s=100)  # s define o tamanho dos pontos\n",
    "\n",
    "# Adicionando título e rótulos\n",
    "plt.title('Acurácia por Rodada', fontsize=18)\n",
    "plt.xlabel('Rodada', fontsize=15)\n",
    "plt.ylabel('Acurácia', fontsize=15)\n",
    "\n",
    "# Fixando os ticks do eixo Y\n",
    "plt.yticks([0, 0.25, 0.50, 0.75, 1])\n",
    "\n",
    "plt.tight_layout()\n",
    "\n",
    "# Exibir o gráfico\n",
    "plt.show()\n"
   ]
  },
  {
   "cell_type": "code",
   "execution_count": null,
   "metadata": {},
   "outputs": [],
   "source": [
    "61.56"
   ]
  }
 ],
 "metadata": {
  "kernelspec": {
   "display_name": "mtg_env",
   "language": "python",
   "name": "python3"
  },
  "language_info": {
   "codemirror_mode": {
    "name": "ipython",
    "version": 3
   },
   "file_extension": ".py",
   "mimetype": "text/x-python",
   "name": "python",
   "nbconvert_exporter": "python",
   "pygments_lexer": "ipython3",
   "version": "3.10.9"
  }
 },
 "nbformat": 4,
 "nbformat_minor": 2
}
