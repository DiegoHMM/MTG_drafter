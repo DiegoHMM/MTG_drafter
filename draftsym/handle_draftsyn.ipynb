{
 "cells": [
  {
   "cell_type": "code",
   "execution_count": 1,
   "metadata": {},
   "outputs": [],
   "source": [
    "import pandas as pd"
   ]
  },
  {
   "cell_type": "code",
   "execution_count": 2,
   "metadata": {},
   "outputs": [
    {
     "name": "stderr",
     "output_type": "stream",
     "text": [
      "/tmp/ipykernel_13077/1080191330.py:1: DtypeWarning: Columns (1,2) have mixed types. Specify dtype option on import or set low_memory=False.\n",
      "  df_train = pd.read_csv('dataset/train.csv', header=None)\n",
      "/tmp/ipykernel_13077/1080191330.py:2: DtypeWarning: Columns (1,2) have mixed types. Specify dtype option on import or set low_memory=False.\n",
      "  df_test = pd.read_csv('dataset/test.csv', header=None)\n"
     ]
    }
   ],
   "source": [
    "df_train = pd.read_csv('dataset/train.csv', header=None)\n",
    "df_test = pd.read_csv('dataset/test.csv', header=None)"
   ]
  },
  {
   "cell_type": "code",
   "execution_count": 3,
   "metadata": {},
   "outputs": [
    {
     "data": {
      "text/html": [
       "<div>\n",
       "<style scoped>\n",
       "    .dataframe tbody tr th:only-of-type {\n",
       "        vertical-align: middle;\n",
       "    }\n",
       "\n",
       "    .dataframe tbody tr th {\n",
       "        vertical-align: top;\n",
       "    }\n",
       "\n",
       "    .dataframe thead th {\n",
       "        text-align: right;\n",
       "    }\n",
       "</style>\n",
       "<table border=\"1\" class=\"dataframe\">\n",
       "  <thead>\n",
       "    <tr style=\"text-align: right;\">\n",
       "      <th></th>\n",
       "      <th>0</th>\n",
       "      <th>1</th>\n",
       "      <th>2</th>\n",
       "      <th>3</th>\n",
       "      <th>4</th>\n",
       "      <th>5</th>\n",
       "    </tr>\n",
       "  </thead>\n",
       "  <tbody>\n",
       "    <tr>\n",
       "      <th>0</th>\n",
       "      <td>NaN</td>\n",
       "      <td>#_draft</td>\n",
       "      <td>#_round</td>\n",
       "      <td>pick</td>\n",
       "      <td>available</td>\n",
       "      <td>pool</td>\n",
       "    </tr>\n",
       "    <tr>\n",
       "      <th>1</th>\n",
       "      <td>0.0</td>\n",
       "      <td>1</td>\n",
       "      <td>1</td>\n",
       "      <td>Skyrider_Patrol</td>\n",
       "      <td>['Hungering_Hydra', 'Electrify', 'Gallant_Cava...</td>\n",
       "      <td>[]</td>\n",
       "    </tr>\n",
       "    <tr>\n",
       "      <th>2</th>\n",
       "      <td>1.0</td>\n",
       "      <td>1</td>\n",
       "      <td>2</td>\n",
       "      <td>Strangling_Spores</td>\n",
       "      <td>[\"Ajani's_Pridemate\", 'Aviation_Pioneer', 'Sna...</td>\n",
       "      <td>['Skyrider_Patrol']</td>\n",
       "    </tr>\n",
       "    <tr>\n",
       "      <th>3</th>\n",
       "      <td>2.0</td>\n",
       "      <td>1</td>\n",
       "      <td>3</td>\n",
       "      <td>Ajani's_Pridemate</td>\n",
       "      <td>['Volcanic_Dragon', 'Hostile_Minotaur', 'Rustw...</td>\n",
       "      <td>['Skyrider_Patrol', 'Strangling_Spores']</td>\n",
       "    </tr>\n",
       "    <tr>\n",
       "      <th>4</th>\n",
       "      <td>3.0</td>\n",
       "      <td>1</td>\n",
       "      <td>4</td>\n",
       "      <td>Bristling_Boar</td>\n",
       "      <td>['Boggart_Brute', 'One_with_the_Machine', 'Epi...</td>\n",
       "      <td>['Skyrider_Patrol', 'Strangling_Spores', \"Ajan...</td>\n",
       "    </tr>\n",
       "  </tbody>\n",
       "</table>\n",
       "</div>"
      ],
      "text/plain": [
       "     0        1        2                  3  \\\n",
       "0  NaN  #_draft  #_round               pick   \n",
       "1  0.0        1        1    Skyrider_Patrol   \n",
       "2  1.0        1        2  Strangling_Spores   \n",
       "3  2.0        1        3  Ajani's_Pridemate   \n",
       "4  3.0        1        4     Bristling_Boar   \n",
       "\n",
       "                                                   4  \\\n",
       "0                                          available   \n",
       "1  ['Hungering_Hydra', 'Electrify', 'Gallant_Cava...   \n",
       "2  [\"Ajani's_Pridemate\", 'Aviation_Pioneer', 'Sna...   \n",
       "3  ['Volcanic_Dragon', 'Hostile_Minotaur', 'Rustw...   \n",
       "4  ['Boggart_Brute', 'One_with_the_Machine', 'Epi...   \n",
       "\n",
       "                                                   5  \n",
       "0                                               pool  \n",
       "1                                                 []  \n",
       "2                                ['Skyrider_Patrol']  \n",
       "3           ['Skyrider_Patrol', 'Strangling_Spores']  \n",
       "4  ['Skyrider_Patrol', 'Strangling_Spores', \"Ajan...  "
      ]
     },
     "execution_count": 3,
     "metadata": {},
     "output_type": "execute_result"
    }
   ],
   "source": [
    "df_train.head(5)"
   ]
  },
  {
   "cell_type": "code",
   "execution_count": 4,
   "metadata": {},
   "outputs": [
    {
     "data": {
      "text/html": [
       "<div>\n",
       "<style scoped>\n",
       "    .dataframe tbody tr th:only-of-type {\n",
       "        vertical-align: middle;\n",
       "    }\n",
       "\n",
       "    .dataframe tbody tr th {\n",
       "        vertical-align: top;\n",
       "    }\n",
       "\n",
       "    .dataframe thead th {\n",
       "        text-align: right;\n",
       "    }\n",
       "</style>\n",
       "<table border=\"1\" class=\"dataframe\">\n",
       "  <thead>\n",
       "    <tr style=\"text-align: right;\">\n",
       "      <th></th>\n",
       "      <th>0</th>\n",
       "      <th>1</th>\n",
       "      <th>2</th>\n",
       "      <th>3</th>\n",
       "      <th>4</th>\n",
       "      <th>5</th>\n",
       "    </tr>\n",
       "  </thead>\n",
       "  <tbody>\n",
       "    <tr>\n",
       "      <th>0</th>\n",
       "      <td>NaN</td>\n",
       "      <td>#_draft</td>\n",
       "      <td>#_round</td>\n",
       "      <td>pick</td>\n",
       "      <td>available</td>\n",
       "      <td>pool</td>\n",
       "    </tr>\n",
       "    <tr>\n",
       "      <th>1</th>\n",
       "      <td>0.0</td>\n",
       "      <td>1</td>\n",
       "      <td>1</td>\n",
       "      <td>Lena_Selfless_Champion</td>\n",
       "      <td>['Poison-Tip_Archer', 'Militia_Bugler', 'Caval...</td>\n",
       "      <td>[]</td>\n",
       "    </tr>\n",
       "    <tr>\n",
       "      <th>2</th>\n",
       "      <td>1.0</td>\n",
       "      <td>1</td>\n",
       "      <td>2</td>\n",
       "      <td>Sparktongue_Dragon</td>\n",
       "      <td>['Suspicious_Bookcase', 'Diamond_Mare', 'Might...</td>\n",
       "      <td>['Lena_Selfless_Champion']</td>\n",
       "    </tr>\n",
       "    <tr>\n",
       "      <th>3</th>\n",
       "      <td>2.0</td>\n",
       "      <td>1</td>\n",
       "      <td>3</td>\n",
       "      <td>Ravenous_Harpy</td>\n",
       "      <td>['Gargoyle_Sentinel', 'Skeleton_Archer', 'Invo...</td>\n",
       "      <td>['Lena_Selfless_Champion', 'Sparktongue_Dragon']</td>\n",
       "    </tr>\n",
       "    <tr>\n",
       "      <th>4</th>\n",
       "      <td>3.0</td>\n",
       "      <td>1</td>\n",
       "      <td>4</td>\n",
       "      <td>Skymarch_Bloodletter</td>\n",
       "      <td>['Giant_Spider', 'Novice_Knight', 'Loxodon_Lin...</td>\n",
       "      <td>['Lena_Selfless_Champion', 'Sparktongue_Dragon...</td>\n",
       "    </tr>\n",
       "  </tbody>\n",
       "</table>\n",
       "</div>"
      ],
      "text/plain": [
       "     0        1        2                       3  \\\n",
       "0  NaN  #_draft  #_round                    pick   \n",
       "1  0.0        1        1  Lena_Selfless_Champion   \n",
       "2  1.0        1        2      Sparktongue_Dragon   \n",
       "3  2.0        1        3          Ravenous_Harpy   \n",
       "4  3.0        1        4    Skymarch_Bloodletter   \n",
       "\n",
       "                                                   4  \\\n",
       "0                                          available   \n",
       "1  ['Poison-Tip_Archer', 'Militia_Bugler', 'Caval...   \n",
       "2  ['Suspicious_Bookcase', 'Diamond_Mare', 'Might...   \n",
       "3  ['Gargoyle_Sentinel', 'Skeleton_Archer', 'Invo...   \n",
       "4  ['Giant_Spider', 'Novice_Knight', 'Loxodon_Lin...   \n",
       "\n",
       "                                                   5  \n",
       "0                                               pool  \n",
       "1                                                 []  \n",
       "2                         ['Lena_Selfless_Champion']  \n",
       "3   ['Lena_Selfless_Champion', 'Sparktongue_Dragon']  \n",
       "4  ['Lena_Selfless_Champion', 'Sparktongue_Dragon...  "
      ]
     },
     "execution_count": 4,
     "metadata": {},
     "output_type": "execute_result"
    }
   ],
   "source": [
    "df_test.head(5)"
   ]
  },
  {
   "cell_type": "code",
   "execution_count": 5,
   "metadata": {},
   "outputs": [],
   "source": [
    "#selecione todas as pools completas\n",
    "def get_all_pools(df):\n",
    "    p = []\n",
    "    complete_pools = df[df['pick'].isnull()]['pool']\n",
    "\n",
    "    # Printando as pools completas\n",
    "    for _, pool in enumerate(complete_pools):\n",
    "        p.append(pool)\n",
    "    return p"
   ]
  },
  {
   "cell_type": "code",
   "execution_count": 6,
   "metadata": {},
   "outputs": [
    {
     "ename": "KeyError",
     "evalue": "'pick'",
     "output_type": "error",
     "traceback": [
      "\u001b[0;31m---------------------------------------------------------------------------\u001b[0m",
      "\u001b[0;31mKeyError\u001b[0m                                  Traceback (most recent call last)",
      "File \u001b[0;32m~/miniconda3/envs/mtg_env/lib/python3.10/site-packages/pandas/core/indexes/base.py:3790\u001b[0m, in \u001b[0;36mIndex.get_loc\u001b[0;34m(self, key)\u001b[0m\n\u001b[1;32m   3789\u001b[0m \u001b[39mtry\u001b[39;00m:\n\u001b[0;32m-> 3790\u001b[0m     \u001b[39mreturn\u001b[39;00m \u001b[39mself\u001b[39;49m\u001b[39m.\u001b[39;49m_engine\u001b[39m.\u001b[39;49mget_loc(casted_key)\n\u001b[1;32m   3791\u001b[0m \u001b[39mexcept\u001b[39;00m \u001b[39mKeyError\u001b[39;00m \u001b[39mas\u001b[39;00m err:\n",
      "File \u001b[0;32mindex.pyx:152\u001b[0m, in \u001b[0;36mpandas._libs.index.IndexEngine.get_loc\u001b[0;34m()\u001b[0m\n",
      "File \u001b[0;32mindex.pyx:160\u001b[0m, in \u001b[0;36mpandas._libs.index.IndexEngine.get_loc\u001b[0;34m()\u001b[0m\n",
      "File \u001b[0;32mpandas/_libs/index_class_helper.pxi:70\u001b[0m, in \u001b[0;36mpandas._libs.index.Int64Engine._check_type\u001b[0;34m()\u001b[0m\n",
      "\u001b[0;31mKeyError\u001b[0m: 'pick'",
      "\nThe above exception was the direct cause of the following exception:\n",
      "\u001b[0;31mKeyError\u001b[0m                                  Traceback (most recent call last)",
      "\u001b[1;32m/home/diego/Documentos/MTG_drafter/draftsym/handle_draftsyn.ipynb Cell 6\u001b[0m line \u001b[0;36m1\n\u001b[0;32m----> <a href='vscode-notebook-cell:/home/diego/Documentos/MTG_drafter/draftsym/handle_draftsyn.ipynb#W6sZmlsZQ%3D%3D?line=0'>1</a>\u001b[0m p \u001b[39m=\u001b[39m get_all_pools(df_train)\n\u001b[1;32m      <a href='vscode-notebook-cell:/home/diego/Documentos/MTG_drafter/draftsym/handle_draftsyn.ipynb#W6sZmlsZQ%3D%3D?line=1'>2</a>\u001b[0m p \u001b[39m=\u001b[39m p \u001b[39m+\u001b[39m get_all_pools(df_test)\n",
      "\u001b[1;32m/home/diego/Documentos/MTG_drafter/draftsym/handle_draftsyn.ipynb Cell 6\u001b[0m line \u001b[0;36m4\n\u001b[1;32m      <a href='vscode-notebook-cell:/home/diego/Documentos/MTG_drafter/draftsym/handle_draftsyn.ipynb#W6sZmlsZQ%3D%3D?line=1'>2</a>\u001b[0m \u001b[39mdef\u001b[39;00m \u001b[39mget_all_pools\u001b[39m(df):\n\u001b[1;32m      <a href='vscode-notebook-cell:/home/diego/Documentos/MTG_drafter/draftsym/handle_draftsyn.ipynb#W6sZmlsZQ%3D%3D?line=2'>3</a>\u001b[0m     p \u001b[39m=\u001b[39m []\n\u001b[0;32m----> <a href='vscode-notebook-cell:/home/diego/Documentos/MTG_drafter/draftsym/handle_draftsyn.ipynb#W6sZmlsZQ%3D%3D?line=3'>4</a>\u001b[0m     complete_pools \u001b[39m=\u001b[39m df[df[\u001b[39m'\u001b[39;49m\u001b[39mpick\u001b[39;49m\u001b[39m'\u001b[39;49m]\u001b[39m.\u001b[39misnull()][\u001b[39m'\u001b[39m\u001b[39mpool\u001b[39m\u001b[39m'\u001b[39m]\n\u001b[1;32m      <a href='vscode-notebook-cell:/home/diego/Documentos/MTG_drafter/draftsym/handle_draftsyn.ipynb#W6sZmlsZQ%3D%3D?line=5'>6</a>\u001b[0m     \u001b[39m# Printando as pools completas\u001b[39;00m\n\u001b[1;32m      <a href='vscode-notebook-cell:/home/diego/Documentos/MTG_drafter/draftsym/handle_draftsyn.ipynb#W6sZmlsZQ%3D%3D?line=6'>7</a>\u001b[0m     \u001b[39mfor\u001b[39;00m _, pool \u001b[39min\u001b[39;00m \u001b[39menumerate\u001b[39m(complete_pools):\n",
      "File \u001b[0;32m~/miniconda3/envs/mtg_env/lib/python3.10/site-packages/pandas/core/frame.py:3896\u001b[0m, in \u001b[0;36mDataFrame.__getitem__\u001b[0;34m(self, key)\u001b[0m\n\u001b[1;32m   3894\u001b[0m \u001b[39mif\u001b[39;00m \u001b[39mself\u001b[39m\u001b[39m.\u001b[39mcolumns\u001b[39m.\u001b[39mnlevels \u001b[39m>\u001b[39m \u001b[39m1\u001b[39m:\n\u001b[1;32m   3895\u001b[0m     \u001b[39mreturn\u001b[39;00m \u001b[39mself\u001b[39m\u001b[39m.\u001b[39m_getitem_multilevel(key)\n\u001b[0;32m-> 3896\u001b[0m indexer \u001b[39m=\u001b[39m \u001b[39mself\u001b[39;49m\u001b[39m.\u001b[39;49mcolumns\u001b[39m.\u001b[39;49mget_loc(key)\n\u001b[1;32m   3897\u001b[0m \u001b[39mif\u001b[39;00m is_integer(indexer):\n\u001b[1;32m   3898\u001b[0m     indexer \u001b[39m=\u001b[39m [indexer]\n",
      "File \u001b[0;32m~/miniconda3/envs/mtg_env/lib/python3.10/site-packages/pandas/core/indexes/base.py:3797\u001b[0m, in \u001b[0;36mIndex.get_loc\u001b[0;34m(self, key)\u001b[0m\n\u001b[1;32m   3792\u001b[0m     \u001b[39mif\u001b[39;00m \u001b[39misinstance\u001b[39m(casted_key, \u001b[39mslice\u001b[39m) \u001b[39mor\u001b[39;00m (\n\u001b[1;32m   3793\u001b[0m         \u001b[39misinstance\u001b[39m(casted_key, abc\u001b[39m.\u001b[39mIterable)\n\u001b[1;32m   3794\u001b[0m         \u001b[39mand\u001b[39;00m \u001b[39many\u001b[39m(\u001b[39misinstance\u001b[39m(x, \u001b[39mslice\u001b[39m) \u001b[39mfor\u001b[39;00m x \u001b[39min\u001b[39;00m casted_key)\n\u001b[1;32m   3795\u001b[0m     ):\n\u001b[1;32m   3796\u001b[0m         \u001b[39mraise\u001b[39;00m InvalidIndexError(key)\n\u001b[0;32m-> 3797\u001b[0m     \u001b[39mraise\u001b[39;00m \u001b[39mKeyError\u001b[39;00m(key) \u001b[39mfrom\u001b[39;00m \u001b[39merr\u001b[39;00m\n\u001b[1;32m   3798\u001b[0m \u001b[39mexcept\u001b[39;00m \u001b[39mTypeError\u001b[39;00m:\n\u001b[1;32m   3799\u001b[0m     \u001b[39m# If we have a listlike key, _check_indexing_error will raise\u001b[39;00m\n\u001b[1;32m   3800\u001b[0m     \u001b[39m#  InvalidIndexError. Otherwise we fall through and re-raise\u001b[39;00m\n\u001b[1;32m   3801\u001b[0m     \u001b[39m#  the TypeError.\u001b[39;00m\n\u001b[1;32m   3802\u001b[0m     \u001b[39mself\u001b[39m\u001b[39m.\u001b[39m_check_indexing_error(key)\n",
      "\u001b[0;31mKeyError\u001b[0m: 'pick'"
     ]
    }
   ],
   "source": [
    "p = get_all_pools(df_train)\n",
    "p = p + get_all_pools(df_test)\n"
   ]
  },
  {
   "cell_type": "code",
   "execution_count": null,
   "metadata": {},
   "outputs": [
    {
     "data": {
      "text/plain": [
       "107949"
      ]
     },
     "execution_count": 34,
     "metadata": {},
     "output_type": "execute_result"
    }
   ],
   "source": [
    "len(p)"
   ]
  },
  {
   "cell_type": "code",
   "execution_count": null,
   "metadata": {},
   "outputs": [],
   "source": [
    "def processar_string_entrada(s):\n",
    "    s = s[1:-1].replace(\"\\'\", \"\").replace(\"\\\"\", \"\")\n",
    "    return [nome.strip() for nome in s.split(\",\")]\n",
    "\n",
    "decks = [processar_string_entrada(pool) for pool in p]"
   ]
  },
  {
   "cell_type": "code",
   "execution_count": null,
   "metadata": {},
   "outputs": [],
   "source": [
    "from gensim.models import Word2Vec\n",
    "\n",
    "# Treine o modelo Word2Vec\n",
    "model = Word2Vec(sentences=decks, vector_size=100, window=5, min_count=1, workers=4)\n",
    "\n",
    "# Salve o modelo para uso futuro\n",
    "model.save(\"card2vec.model\")"
   ]
  },
  {
   "cell_type": "code",
   "execution_count": null,
   "metadata": {},
   "outputs": [],
   "source": [
    "# Carregue o modelo treinado (se necessário)\n",
    "model = Word2Vec.load(\"card2vec.model\")\n",
    "\n",
    "# Obtenha o vetor (embedding) de uma carta específica\n",
    "vector = model.wv['Pelakka_Wurm']\n",
    "\n",
    "# Encontre cartas semelhantes a uma dada carta\n",
    "similar_cards = model.wv.most_similar('Pelakka_Wurm', topn=10)"
   ]
  },
  {
   "cell_type": "code",
   "execution_count": null,
   "metadata": {},
   "outputs": [
    {
     "data": {
      "text/plain": [
       "[('Vivien_Reid', 0.9527320861816406),\n",
       " ('Hungering_Hydra', 0.9470013976097107),\n",
       " ('Viviens_Invocation', 0.9469438791275024),\n",
       " ('Prodigious_Growth', 0.9379128813743591),\n",
       " ('Runic_Armasaur', 0.9302960634231567),\n",
       " ('Goreclaw_Terror_of_Qal_Sisma', 0.9225534200668335),\n",
       " ('Vigilant_Baloth', 0.9219311475753784),\n",
       " ('Vine_Mare', 0.9195418357849121),\n",
       " ('Druid_of_the_Cowl', 0.9164744019508362),\n",
       " ('Declare_Dominance', 0.9125316739082336)]"
      ]
     },
     "execution_count": 38,
     "metadata": {},
     "output_type": "execute_result"
    }
   ],
   "source": [
    "similar_cards"
   ]
  }
 ],
 "metadata": {
  "kernelspec": {
   "display_name": "mtg_env",
   "language": "python",
   "name": "python3"
  },
  "language_info": {
   "codemirror_mode": {
    "name": "ipython",
    "version": 3
   },
   "file_extension": ".py",
   "mimetype": "text/x-python",
   "name": "python",
   "nbconvert_exporter": "python",
   "pygments_lexer": "ipython3",
   "version": "3.10.9"
  },
  "orig_nbformat": 4
 },
 "nbformat": 4,
 "nbformat_minor": 2
}
