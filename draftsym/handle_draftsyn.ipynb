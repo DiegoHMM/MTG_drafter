{
 "cells": [
  {
   "cell_type": "code",
   "execution_count": 7,
   "metadata": {},
   "outputs": [],
   "source": [
    "import pandas as pd"
   ]
  },
  {
   "cell_type": "code",
   "execution_count": 8,
   "metadata": {},
   "outputs": [],
   "source": [
    "df_train = pd.read_csv('dataset/train.csv')\n",
    "df_test = pd.read_csv('dataset/test.csv')"
   ]
  },
  {
   "cell_type": "code",
   "execution_count": 9,
   "metadata": {},
   "outputs": [
    {
     "data": {
      "text/html": [
       "<div>\n",
       "<style scoped>\n",
       "    .dataframe tbody tr th:only-of-type {\n",
       "        vertical-align: middle;\n",
       "    }\n",
       "\n",
       "    .dataframe tbody tr th {\n",
       "        vertical-align: top;\n",
       "    }\n",
       "\n",
       "    .dataframe thead th {\n",
       "        text-align: right;\n",
       "    }\n",
       "</style>\n",
       "<table border=\"1\" class=\"dataframe\">\n",
       "  <thead>\n",
       "    <tr style=\"text-align: right;\">\n",
       "      <th></th>\n",
       "      <th>Unnamed: 0</th>\n",
       "      <th>#_draft</th>\n",
       "      <th>#_round</th>\n",
       "      <th>pick</th>\n",
       "      <th>available</th>\n",
       "      <th>pool</th>\n",
       "    </tr>\n",
       "  </thead>\n",
       "  <tbody>\n",
       "    <tr>\n",
       "      <th>0</th>\n",
       "      <td>0</td>\n",
       "      <td>1</td>\n",
       "      <td>1</td>\n",
       "      <td>Skyrider_Patrol</td>\n",
       "      <td>['Hungering_Hydra', 'Electrify', 'Gallant_Cava...</td>\n",
       "      <td>[]</td>\n",
       "    </tr>\n",
       "    <tr>\n",
       "      <th>1</th>\n",
       "      <td>1</td>\n",
       "      <td>1</td>\n",
       "      <td>2</td>\n",
       "      <td>Strangling_Spores</td>\n",
       "      <td>[\"Ajani's_Pridemate\", 'Aviation_Pioneer', 'Sna...</td>\n",
       "      <td>['Skyrider_Patrol']</td>\n",
       "    </tr>\n",
       "    <tr>\n",
       "      <th>2</th>\n",
       "      <td>2</td>\n",
       "      <td>1</td>\n",
       "      <td>3</td>\n",
       "      <td>Ajani's_Pridemate</td>\n",
       "      <td>['Volcanic_Dragon', 'Hostile_Minotaur', 'Rustw...</td>\n",
       "      <td>['Skyrider_Patrol', 'Strangling_Spores']</td>\n",
       "    </tr>\n",
       "    <tr>\n",
       "      <th>3</th>\n",
       "      <td>3</td>\n",
       "      <td>1</td>\n",
       "      <td>4</td>\n",
       "      <td>Bristling_Boar</td>\n",
       "      <td>['Boggart_Brute', 'One_with_the_Machine', 'Epi...</td>\n",
       "      <td>['Skyrider_Patrol', 'Strangling_Spores', \"Ajan...</td>\n",
       "    </tr>\n",
       "    <tr>\n",
       "      <th>4</th>\n",
       "      <td>4</td>\n",
       "      <td>1</td>\n",
       "      <td>5</td>\n",
       "      <td>Colossal_Dreadmaw</td>\n",
       "      <td>['Fiery_Finish', 'Hostile_Minotaur', 'Psychic_...</td>\n",
       "      <td>['Skyrider_Patrol', 'Strangling_Spores', \"Ajan...</td>\n",
       "    </tr>\n",
       "  </tbody>\n",
       "</table>\n",
       "</div>"
      ],
      "text/plain": [
       "   Unnamed: 0  #_draft  #_round               pick  \\\n",
       "0           0        1        1    Skyrider_Patrol   \n",
       "1           1        1        2  Strangling_Spores   \n",
       "2           2        1        3  Ajani's_Pridemate   \n",
       "3           3        1        4     Bristling_Boar   \n",
       "4           4        1        5  Colossal_Dreadmaw   \n",
       "\n",
       "                                           available  \\\n",
       "0  ['Hungering_Hydra', 'Electrify', 'Gallant_Cava...   \n",
       "1  [\"Ajani's_Pridemate\", 'Aviation_Pioneer', 'Sna...   \n",
       "2  ['Volcanic_Dragon', 'Hostile_Minotaur', 'Rustw...   \n",
       "3  ['Boggart_Brute', 'One_with_the_Machine', 'Epi...   \n",
       "4  ['Fiery_Finish', 'Hostile_Minotaur', 'Psychic_...   \n",
       "\n",
       "                                                pool  \n",
       "0                                                 []  \n",
       "1                                ['Skyrider_Patrol']  \n",
       "2           ['Skyrider_Patrol', 'Strangling_Spores']  \n",
       "3  ['Skyrider_Patrol', 'Strangling_Spores', \"Ajan...  \n",
       "4  ['Skyrider_Patrol', 'Strangling_Spores', \"Ajan...  "
      ]
     },
     "execution_count": 9,
     "metadata": {},
     "output_type": "execute_result"
    }
   ],
   "source": [
    "df_train.head(5)"
   ]
  },
  {
   "cell_type": "code",
   "execution_count": 10,
   "metadata": {},
   "outputs": [
    {
     "data": {
      "text/html": [
       "<div>\n",
       "<style scoped>\n",
       "    .dataframe tbody tr th:only-of-type {\n",
       "        vertical-align: middle;\n",
       "    }\n",
       "\n",
       "    .dataframe tbody tr th {\n",
       "        vertical-align: top;\n",
       "    }\n",
       "\n",
       "    .dataframe thead th {\n",
       "        text-align: right;\n",
       "    }\n",
       "</style>\n",
       "<table border=\"1\" class=\"dataframe\">\n",
       "  <thead>\n",
       "    <tr style=\"text-align: right;\">\n",
       "      <th></th>\n",
       "      <th>Unnamed: 0</th>\n",
       "      <th>#_draft</th>\n",
       "      <th>#_round</th>\n",
       "      <th>pick</th>\n",
       "      <th>available</th>\n",
       "      <th>pool</th>\n",
       "    </tr>\n",
       "  </thead>\n",
       "  <tbody>\n",
       "    <tr>\n",
       "      <th>0</th>\n",
       "      <td>0</td>\n",
       "      <td>1</td>\n",
       "      <td>1</td>\n",
       "      <td>Lena_Selfless_Champion</td>\n",
       "      <td>['Poison-Tip_Archer', 'Militia_Bugler', 'Caval...</td>\n",
       "      <td>[]</td>\n",
       "    </tr>\n",
       "    <tr>\n",
       "      <th>1</th>\n",
       "      <td>1</td>\n",
       "      <td>1</td>\n",
       "      <td>2</td>\n",
       "      <td>Sparktongue_Dragon</td>\n",
       "      <td>['Suspicious_Bookcase', 'Diamond_Mare', 'Might...</td>\n",
       "      <td>['Lena_Selfless_Champion']</td>\n",
       "    </tr>\n",
       "    <tr>\n",
       "      <th>2</th>\n",
       "      <td>2</td>\n",
       "      <td>1</td>\n",
       "      <td>3</td>\n",
       "      <td>Ravenous_Harpy</td>\n",
       "      <td>['Gargoyle_Sentinel', 'Skeleton_Archer', 'Invo...</td>\n",
       "      <td>['Lena_Selfless_Champion', 'Sparktongue_Dragon']</td>\n",
       "    </tr>\n",
       "    <tr>\n",
       "      <th>3</th>\n",
       "      <td>3</td>\n",
       "      <td>1</td>\n",
       "      <td>4</td>\n",
       "      <td>Skymarch_Bloodletter</td>\n",
       "      <td>['Giant_Spider', 'Novice_Knight', 'Loxodon_Lin...</td>\n",
       "      <td>['Lena_Selfless_Champion', 'Sparktongue_Dragon...</td>\n",
       "    </tr>\n",
       "    <tr>\n",
       "      <th>4</th>\n",
       "      <td>4</td>\n",
       "      <td>1</td>\n",
       "      <td>5</td>\n",
       "      <td>Horizon_Scholar</td>\n",
       "      <td>['Elvish_Rejuvenator', 'Rupture_Spire', 'Dwind...</td>\n",
       "      <td>['Lena_Selfless_Champion', 'Sparktongue_Dragon...</td>\n",
       "    </tr>\n",
       "  </tbody>\n",
       "</table>\n",
       "</div>"
      ],
      "text/plain": [
       "   Unnamed: 0  #_draft  #_round                    pick  \\\n",
       "0           0        1        1  Lena_Selfless_Champion   \n",
       "1           1        1        2      Sparktongue_Dragon   \n",
       "2           2        1        3          Ravenous_Harpy   \n",
       "3           3        1        4    Skymarch_Bloodletter   \n",
       "4           4        1        5         Horizon_Scholar   \n",
       "\n",
       "                                           available  \\\n",
       "0  ['Poison-Tip_Archer', 'Militia_Bugler', 'Caval...   \n",
       "1  ['Suspicious_Bookcase', 'Diamond_Mare', 'Might...   \n",
       "2  ['Gargoyle_Sentinel', 'Skeleton_Archer', 'Invo...   \n",
       "3  ['Giant_Spider', 'Novice_Knight', 'Loxodon_Lin...   \n",
       "4  ['Elvish_Rejuvenator', 'Rupture_Spire', 'Dwind...   \n",
       "\n",
       "                                                pool  \n",
       "0                                                 []  \n",
       "1                         ['Lena_Selfless_Champion']  \n",
       "2   ['Lena_Selfless_Champion', 'Sparktongue_Dragon']  \n",
       "3  ['Lena_Selfless_Champion', 'Sparktongue_Dragon...  \n",
       "4  ['Lena_Selfless_Champion', 'Sparktongue_Dragon...  "
      ]
     },
     "execution_count": 10,
     "metadata": {},
     "output_type": "execute_result"
    }
   ],
   "source": [
    "df_test.head(5)"
   ]
  },
  {
   "cell_type": "code",
   "execution_count": 11,
   "metadata": {},
   "outputs": [],
   "source": [
    "#selecione todas as pools completas\n",
    "def get_all_pools(df):\n",
    "    p = []\n",
    "    complete_pools = df[df['pick'].isnull()]['pool']\n",
    "\n",
    "    # Printando as pools completas\n",
    "    for _, pool in enumerate(complete_pools):\n",
    "        p.append(pool)\n",
    "    return p"
   ]
  },
  {
   "cell_type": "code",
   "execution_count": 12,
   "metadata": {},
   "outputs": [],
   "source": [
    "p = get_all_pools(df_train)\n",
    "p = p + get_all_pools(df_test)\n"
   ]
  },
  {
   "cell_type": "code",
   "execution_count": 13,
   "metadata": {},
   "outputs": [
    {
     "data": {
      "text/plain": [
       "107949"
      ]
     },
     "execution_count": 13,
     "metadata": {},
     "output_type": "execute_result"
    }
   ],
   "source": [
    "len(p)"
   ]
  },
  {
   "cell_type": "code",
   "execution_count": 14,
   "metadata": {},
   "outputs": [],
   "source": [
    "def processar_string_entrada(s):\n",
    "    s = s[1:-1].replace(\"\\'\", \"\").replace(\"\\\"\", \"\")\n",
    "    return [nome.strip() for nome in s.split(\",\")]\n",
    "\n",
    "decks = [processar_string_entrada(pool) for pool in p]"
   ]
  },
  {
   "cell_type": "code",
   "execution_count": 15,
   "metadata": {},
   "outputs": [],
   "source": [
    "from gensim.models import Word2Vec\n",
    "\n",
    "# Treine o modelo Word2Vec\n",
    "model = Word2Vec(sentences=decks, vector_size=100, window=5, min_count=1, workers=4)\n",
    "\n",
    "# Salve o modelo para uso futuro\n",
    "model.save(\"card2vec.model\")"
   ]
  },
  {
   "cell_type": "code",
   "execution_count": 16,
   "metadata": {},
   "outputs": [],
   "source": [
    "# Carregue o modelo treinado (se necessário)\n",
    "model = Word2Vec.load(\"card2vec.model\")\n",
    "\n",
    "# Obtenha o vetor (embedding) de uma carta específica\n",
    "vector = model.wv['Pelakka_Wurm']\n",
    "\n",
    "# Encontre cartas semelhantes a uma dada carta\n",
    "similar_cards = model.wv.most_similar('Pelakka_Wurm', topn=10)"
   ]
  },
  {
   "cell_type": "code",
   "execution_count": 17,
   "metadata": {},
   "outputs": [
    {
     "data": {
      "text/plain": [
       "[('Viviens_Invocation', 0.9488591551780701),\n",
       " ('Hungering_Hydra', 0.9480116367340088),\n",
       " ('Vivien_Reid', 0.9427934288978577),\n",
       " ('Prodigious_Growth', 0.9305558800697327),\n",
       " ('Vigilant_Baloth', 0.9252592325210571),\n",
       " ('Goreclaw_Terror_of_Qal_Sisma', 0.9168668985366821),\n",
       " ('Runic_Armasaur', 0.9165372252464294),\n",
       " ('Ghastbark_Twins', 0.9110701084136963),\n",
       " ('Vine_Mare', 0.9088302850723267),\n",
       " ('Druid_of_the_Cowl', 0.9087492823600769)]"
      ]
     },
     "execution_count": 17,
     "metadata": {},
     "output_type": "execute_result"
    }
   ],
   "source": [
    "similar_cards"
   ]
  },
  {
   "cell_type": "code",
   "execution_count": null,
   "metadata": {},
   "outputs": [],
   "source": []
  }
 ],
 "metadata": {
  "kernelspec": {
   "display_name": "mtg_env",
   "language": "python",
   "name": "python3"
  },
  "language_info": {
   "codemirror_mode": {
    "name": "ipython",
    "version": 3
   },
   "file_extension": ".py",
   "mimetype": "text/x-python",
   "name": "python",
   "nbconvert_exporter": "python",
   "pygments_lexer": "ipython3",
   "version": "3.10.9"
  },
  "orig_nbformat": 4
 },
 "nbformat": 4,
 "nbformat_minor": 2
}
